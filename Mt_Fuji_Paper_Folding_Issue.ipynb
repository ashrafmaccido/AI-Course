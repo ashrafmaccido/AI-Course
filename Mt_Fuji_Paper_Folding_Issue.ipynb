{
 "cells": [
  {
   "cell_type": "markdown",
   "id": "739bcba4-56b3-4460-9f5d-9d2dcddcdc3f",
   "metadata": {},
   "source": [
    "Problem 1"
   ]
  },
  {
   "cell_type": "code",
   "execution_count": 2,
   "id": "d2d73173-d47b-4d3b-ba52-95e8357085c2",
   "metadata": {},
   "outputs": [
    {
     "name": "stdout",
     "output_type": "stream",
     "text": [
      "Minimum number of folds to exceed Mt. Fuji's height: 26\n"
     ]
    }
   ],
   "source": [
    "def folds_to_exceed_height(height, initial_thickness=0.00008):\n",
    "    current_thickness = initial_thickness\n",
    "    num_folds = 0\n",
    "    \n",
    "    while current_thickness <= height:\n",
    "        current_thickness *= 2\n",
    "        num_folds += 1\n",
    "    \n",
    "    return num_folds\n",
    "\n",
    "# Example: Calculate folds to exceed Mt. Fuji's height\n",
    "height_mt_fuji = 3776  # meters\n",
    "folds_needed = folds_to_exceed_height(height_mt_fuji)\n",
    "print(f\"Minimum number of folds to exceed Mt. Fuji's height: {folds_needed}\")"
   ]
  },
  {
   "cell_type": "markdown",
   "id": "9a242e34-68dc-4d86-9ecf-04f92c37cb82",
   "metadata": {},
   "source": [
    "Problem 2"
   ]
  },
  {
   "cell_type": "code",
   "execution_count": 5,
   "id": "6d719fc5-7db1-40c7-b097-40b70186a184",
   "metadata": {},
   "outputs": [
    {
     "name": "stdout",
     "output_type": "stream",
     "text": [
      "Minimum number of folds to reach Proxima Centauri: 69\n"
     ]
    }
   ],
   "source": [
    "# Calculate folds to reach Proxima Centauri\n",
    "distance_proxima_centauri = 4.0175e16  # meters\n",
    "folds_needed_proxima = folds_to_exceed_height(distance_proxima_centauri)\n",
    "print(f\"Minimum number of folds to reach Proxima Centauri: {folds_needed_proxima}\")"
   ]
  },
  {
   "cell_type": "markdown",
   "id": "a5bcbee5-84c3-4700-a074-a37867341e58",
   "metadata": {},
   "source": [
    "Prolem 3"
   ]
  },
  {
   "cell_type": "code",
   "execution_count": 6,
   "id": "0db39b4d-0a86-4688-860b-be401f20f421",
   "metadata": {},
   "outputs": [
    {
     "name": "stdout",
     "output_type": "stream",
     "text": [
      "Required paper length to reach the Moon: 3240919444170781229056.00 meters\n",
      "Required paper length to exceed Mt. Fuji: 188646348487.24 meters\n",
      "Required paper length to reach Proxima Centauri: 14595803601100347983589756318297096192.00 meters\n"
     ]
    }
   ],
   "source": [
    "import math\n",
    "\n",
    "def required_paper_length(n_folds, initial_thickness=0.00008):\n",
    "    length = (math.pi * initial_thickness / 6) * (2**n_folds + 4) * (2**n_folds - 1)\n",
    "    return length\n",
    "\n",
    "# Example: Calculate required paper length to reach the Moon\n",
    "height_moon = 384400000  # meters\n",
    "folds_to_reach_moon = folds_to_exceed_height(height_moon)\n",
    "length_for_moon = required_paper_length(folds_to_reach_moon)\n",
    "print(f\"Required paper length to reach the Moon: {length_for_moon:.2f} meters\")\n",
    "\n",
    "# Example: Calculate required paper length to exceed Mt. Fuji\n",
    "length_for_fuji = required_paper_length(folds_needed)\n",
    "print(f\"Required paper length to exceed Mt. Fuji: {length_for_fuji:.2f} meters\")\n",
    "\n",
    "# Example: Calculate required paper length to reach Proxima Centauri\n",
    "length_for_proxima = required_paper_length(folds_needed_proxima)\n",
    "print(f\"Required paper length to reach Proxima Centauri: {length_for_proxima:.2f} meters\")"
   ]
  },
  {
   "cell_type": "code",
   "execution_count": null,
   "id": "b103dac5-dca5-435e-91d6-a8fc8c4cf99b",
   "metadata": {},
   "outputs": [],
   "source": []
  }
 ],
 "metadata": {
  "kernelspec": {
   "display_name": "Python 3 (ipykernel)",
   "language": "python",
   "name": "python3"
  },
  "language_info": {
   "codemirror_mode": {
    "name": "ipython",
    "version": 3
   },
   "file_extension": ".py",
   "mimetype": "text/x-python",
   "name": "python",
   "nbconvert_exporter": "python",
   "pygments_lexer": "ipython3",
   "version": "3.10.14"
  }
 },
 "nbformat": 4,
 "nbformat_minor": 5
}
