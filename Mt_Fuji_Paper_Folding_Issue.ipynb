{
 "cells": [
  {
   "cell_type": "markdown",
   "id": "739bcba4-56b3-4460-9f5d-9d2dcddcdc3f",
   "metadata": {},
   "source": [
    "Problem 1"
   ]
  },
  {
   "cell_type": "code",
   "execution_count": 1,
   "id": "d2d73173-d47b-4d3b-ba52-95e8357085c2",
   "metadata": {},
   "outputs": [
    {
     "name": "stdout",
     "output_type": "stream",
     "text": [
      "Minimum number of folds to exceed Mt. Fuji's height: 26\n"
     ]
    }
   ],
   "source": [
    "def folds_to_exceed_height(height, initial_thickness=0.00008):\n",
    "    \"\"\"\n",
    "    Calculate the minimum number of folds needed for a sheet of paper to exceed a given height.\n",
    "\n",
    "    Parameters\n",
    "    ----------\n",
    "    height : float\n",
    "        The target height in meters.\n",
    "    initial_thickness : float\n",
    "        The initial thickness of the paper in meters (default: 0.00008 meters).\n",
    "    \n",
    "    Returns\n",
    "    -------\n",
    "    int\n",
    "        The minimum number of folds required.\n",
    "    \"\"\"\n",
    "    current_thickness = initial_thickness\n",
    "    num_folds = 0\n",
    "    \n",
    "    while current_thickness <= height:\n",
    "        current_thickness *= 2\n",
    "        num_folds += 1\n",
    "    \n",
    "    return num_folds\n",
    "\n",
    "# Example: Calculate folds to exceed Mt. Fuji's height\n",
    "height_mt_fuji = 3776  # meters\n",
    "folds_needed = folds_to_exceed_height(height_mt_fuji)\n",
    "print(f\"Minimum number of folds to exceed Mt. Fuji's height: {folds_needed}\")"
   ]
  },
  {
   "cell_type": "markdown",
   "id": "9a242e34-68dc-4d86-9ecf-04f92c37cb82",
   "metadata": {},
   "source": [
    "Problem 2"
   ]
  },
  {
   "cell_type": "code",
   "execution_count": 2,
   "id": "6d719fc5-7db1-40c7-b097-40b70186a184",
   "metadata": {},
   "outputs": [
    {
     "name": "stdout",
     "output_type": "stream",
     "text": [
      "Minimum number of folds to reach Proxima Centauri: 69\n"
     ]
    }
   ],
   "source": [
    "# Example: Calculate folds to reach Proxima Centauri\n",
    "distance_proxima_centauri = 4.0175e16  # meters\n",
    "folds_needed_proxima = folds_to_exceed_height(distance_proxima_centauri)\n",
    "print(f\"Minimum number of folds to reach Proxima Centauri: {folds_needed_proxima}\")"
   ]
  },
  {
   "cell_type": "code",
   "execution_count": null,
   "id": "a3f30d9f-bf71-4f33-8b41-6d7db0b71e9e",
   "metadata": {},
   "outputs": [],
   "source": []
  }
 ],
 "metadata": {
  "kernelspec": {
   "display_name": "Python 3 (ipykernel)",
   "language": "python",
   "name": "python3"
  },
  "language_info": {
   "codemirror_mode": {
    "name": "ipython",
    "version": 3
   },
   "file_extension": ".py",
   "mimetype": "text/x-python",
   "name": "python",
   "nbconvert_exporter": "python",
   "pygments_lexer": "ipython3",
   "version": "3.8.13"
  }
 },
 "nbformat": 4,
 "nbformat_minor": 5
}
