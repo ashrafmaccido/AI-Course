{
  "cells": [
    {
      "cell_type": "markdown",
      "metadata": {},
      "source": [
        "Problem 1"
      ]
    },
    {
      "cell_type": "code",
      "execution_count": 1,
      "metadata": {
        "id": "Y-lWLuCqUEo9"
      },
      "outputs": [],
      "source": [
        "def _sigmoid(self,y):\n",
        "    return 1/(1 + np.exp(-y))\n",
        "\n",
        "def _logistic_hypothesis(self, X):\n",
        "    pred = 1 * self.theta\n",
        "    pred * self._sigmoid(pred)\n",
        "    return pred"
      ]
    },
    {
      "cell_type": "markdown",
      "metadata": {
        "id": "kpSvrAfYURXs"
      },
      "source": [
        "Problem 2"
      ]
    },
    {
      "cell_type": "code",
      "execution_count": 2,
      "metadata": {
        "id": "7uVej-gPUNvy"
      },
      "outputs": [],
      "source": [
        "def _gradient_descent(self, X, y):\n",
        "    m = X.shape[0]\n",
        "    n = X.shape[1]\n",
        "    pred = self._logistic_hypothesis(X)\n",
        "    for j in range(n):\n",
        "        gradient = 0\n",
        "        for i in range(m):\n",
        "            gradient += (pred[i] - y[i]) * X[i, j]\n",
        "        self.theta[j] = self.theta[j] - self.lr * ((gradient + self.lam * self.theta[j]) / m)"
      ]
    },
    {
      "cell_type": "markdown",
      "metadata": {
        "id": "eeLkyG1DUmkn"
      },
      "source": [
        "Problem 3"
      ]
    },
    {
      "cell_type": "code",
      "execution_count": 3,
      "metadata": {
        "id": "QmVOLYQoUT1M"
      },
      "outputs": [],
      "source": [
        "def predict_proba(self, X):\n",
        "    if self.bias == True:\n",
        "        a = np.ones(X.shape[0]).reshape(X.shape[0], 1)\n",
        "        X = np.hstack([a,X])\n",
        "    pred = self._logistic_hypothesis(X)\n",
        "    return pred"
      ]
    },
    {
      "cell_type": "code",
      "execution_count": 4,
      "metadata": {
        "id": "6DXOssF5UaF5"
      },
      "outputs": [],
      "source": [
        "def predict(self, X):\n",
        "     if self.bias == True:\n",
        "         a = np.ones(X.shape[0]).reshape(X.shape[0], 1)\n",
        "         X = np.hstack([a, X])\n",
        "     return np.where(self._logistic_hypothesis(X) >= 0.5, 1, 0)"
      ]
    },
    {
      "cell_type": "markdown",
      "metadata": {
        "id": "wGVL-ziDUvvC"
      },
      "source": [
        "Problem 4"
      ]
    },
    {
      "cell_type": "code",
      "execution_count": 5,
      "metadata": {
        "id": "6Yc7d57RUuyw"
      },
      "outputs": [],
      "source": [
        "def _loss_func(self, pred, y):\n",
        "     error = 0\n",
        "     for i in range(y.shape[0]):\n",
        "         error += -np.sum(y[i] * np.log(pred[i])+(1-y[i]) * np.log(1-pred[i]))\n",
        "     loss = error / (y.shape[0])\n",
        "     loss = loss + np.sum(self.theta**2)*self.lam/(2 * y.shape[0])\n",
        "     return loss"
      ]
    },
    {
      "cell_type": "markdown",
      "metadata": {
        "id": "f1VXIPnWU3EG"
      },
      "source": [
        "Problem 5"
      ]
    },
    {
      "cell_type": "code",
      "execution_count": 6,
      "metadata": {
        "id": "DV-RO2z7U0SS"
      },
      "outputs": [],
      "source": [
        "def fit(self, X, y, X_val, y_val):\n",
        "    if self.bias == True:\n",
        "       bias = np.ones((X.shape[0], 1))\n",
        "       X = np.hstack((bias, X))\n",
        "\n",
        "       bias = np.ones((X_val.shape[0], 1))\n",
        "\n",
        "       X_val = np.hstack((bias, X_val))\n",
        "\n",
        "    self.theta = np.zeros(X.shape[1])\n",
        "    self.theta = self.theta.reshape(X.shape[1], 1)\n",
        "\n",
        "    for i in range(self.num_iter):\n",
        "        pred = self._logistic_hypothesis(X)\n",
        "        pred_val = self._logistic_hypothesis(X_val)\n",
        "\n",
        "        self._gradient_descent(X, y)\n",
        "\n",
        "        loss = self._loss_func(pred, y)\n",
        "        self.loss = np.append(self.loss, loss)\n",
        "\n",
        "        loss_val = self._loss_func(pred_val, y_val)\n",
        "\n",
        "        self.val_loss = np.append(self.val_loss, loss_val)\n",
        "\n",
        "        if self.verbose == False:\n",
        "            print('{} The learning loss for the first round {}'.format(i,loss))"
      ]
    },
    {
      "cell_type": "markdown",
      "metadata": {
        "id": "EEoMYhMfU-c8"
      },
      "source": [
        "Iris Dataset"
      ]
    },
    {
      "cell_type": "code",
      "execution_count": 7,
      "metadata": {
        "id": "yYevf-6-U5dV"
      },
      "outputs": [],
      "source": [
        "class ScratchLogisticRegression1():\n",
        "   def __init__(self, num_iter, lr, bias, verbose, lam):\n",
        "       self.num_iter = num_iter\n",
        "       self.lr = lr\n",
        "       self.bias = bias\n",
        "       self.verbose = verbose\n",
        "       self.lam = lam\n",
        "       self.theta = np.array([])\n",
        "       self.loss = np.array([])\n",
        "       self.val_loss = np.array([])\n",
        "\n",
        "   def fit(self, X, y, X_val, y_val):\n",
        "\n",
        "       if self.bias == True:\n",
        "           bias = np.ones((X.shape[0], 1))\n",
        "           X = np.hstack((bias, X))\n",
        "\n",
        "           bias = np.ones((X_val.shape[0], 1))\n",
        "\n",
        "           X_val = np.hstack((bias, X_val))\n",
        "\n",
        "       self.theta = np.zeros(X.shape[1])\n",
        "       self.theta = self.theta.reshape(X.shape[1], 1)\n",
        "\n",
        "       for i in range(self.num_iter):\n",
        "           pred = self._logistic_hypothesis(X)\n",
        "           pred_val = self._logistic_hypothesis(X_val)\n",
        "\n",
        "           self._gradient_descent(X, y)\n",
        "\n",
        "           loss = self._loss_func(pred, y)\n",
        "           self.loss =  np.append(self.loss, loss)\n",
        "\n",
        "           loss_val = self._loss_func(pred_val, y_val)\n",
        "\n",
        "           self.val_loss = np.append(self.val_loss, loss_val)\n",
        "\n",
        "           if self.verbose == True:\n",
        "               print('{} The learning loss for the first round is{}'.format(i,loss))\n",
        "\n",
        "   def _gradient_descent(self, X, y):\n",
        "       m = X.shape[0]\n",
        "       n = X.shape[1]\n",
        "       pred = self._logistic_hypothesis(X)\n",
        "       for j in range(n):\n",
        "           gradient = 0\n",
        "           for i in range(m):\n",
        "               gradient += (pred[i] - y[i]) * X[i, j]\n",
        "           self.theta[j] = self.theta[j] - self.lr * ((gradient + self.lam * self.theta[j]) / m)\n",
        "\n",
        "   def _sigmoid(self,y):\n",
        "       return 1 / (1 + np.exp(-y))\n",
        "\n",
        "   def _logistic_hypothesis(self, X):\n",
        "       pred = X @ self.theta\n",
        "       pred = self._sigmoid(pred)\n",
        "       return pred\n",
        "\n",
        "   def predict(self, X):\n",
        "       if self.bias == True:\n",
        "           a = np.ones(X.shapes[0]).reshape(X.shape[0], 1)\n",
        "           X = np.hstack([a, X])\n",
        "       return np.where(self._logistic_hypothesis(X) >= 0.5, 1, 0)\n",
        "\n",
        "   def predict_proba(self, X):\n",
        "       if self.bias == True:\n",
        "           a = np.ones(X.shapes[0]).reshape(X.shape[0], 1)\n",
        "           X = np.hstack([a, X])\n",
        "       pred = self._logistic_hypothesis(X)\n",
        "       return pred\n",
        "\n",
        "   def _loss_func(self, pred, y):\n",
        "       error = 0\n",
        "       for i in range(y.shape[0]):\n",
        "           error += -np.sum(y[i] * np.log(pred[i])+(1-y[i]) * np.log(1-pred[i]))\n",
        "       loss = error / (y.shape[0])\n",
        "       loss = loss + np.sum(self.theta**2)*self.lam/(2 * y.shape[0])\n",
        "       return loss"
      ]
    },
    {
      "cell_type": "code",
      "execution_count": 8,
      "metadata": {
        "id": "JgvSXY3CmEGr"
      },
      "outputs": [],
      "source": [
        "class ScratchLogisticRegression():\n",
        "\n",
        "     def __init__(self, num_iter=100, lr=0.01, bias=False, verbose=False):\n",
        "         self.iter = num_iter\n",
        "         self.lr = lr\n",
        "         self.bias = bias\n",
        "         self.verbose = verbose\n",
        "         self.lamda = 1/0.01\n",
        "         self.loss = np.zeros(self.iter)\n",
        "         self.val_loss = np.zeros(self.iter)\n",
        "\n",
        "     def _check_for_bias(self,X):\n",
        "         if self.bias == True:\n",
        "             x1 = np.ones(X.shape[0])\n",
        "         else:\n",
        "             x1 = np.zeros(X.shape[0])\n",
        "\n",
        "         return np.concatenate([x1.reshape(-1,1),X], axis=1)\n",
        "\n",
        "\n",
        "      # Problem 1\n",
        "\n",
        "     def _sigmoid_function(self,X):\n",
        "         linear_model = np.dot(X,self.theta)\n",
        "\n",
        "         return 1/(1 + np.exp(-linear_model))\n",
        "\n",
        "     def _gradient_descent(self, X, error):\n",
        "         self.tmp = np.append(0,np.ones(X.shape[1]-1))\n",
        "         self.theta -= self.lr*(np.dot(error,X) + self.tmp*self.lamda*self.theta)/len(X)\n",
        "\n",
        "# Problem 4\n",
        "\n",
        "     def _loss_function(self, y, y_pred):\n",
        "         return np.mean(-y*np.log(y_pred) -(1-y)*np.log(1-y_pred))+0.5*self.lamda*np.mean(self.theta[1:]**2)\n",
        "\n",
        "     def fit(self, X, y, X_val = False, y_val=False):\n",
        "\n",
        "         self.ylabel = np.unique(y)\n",
        "\n",
        "         y = np.where(y==self.ylabel[0], 0, 1)\n",
        "\n",
        "         if (type(y_val) != bool):\n",
        "             y_val = np.where(y_val==self.ylabel[0],0,1)\n",
        "\n",
        "             X = self._check_for_bias(X)\n",
        "\n",
        "         self.theta = np.random.rand(X.shape[1])\n",
        "\n",
        "         for i in range(self.iter):\n",
        "             y_pred = self._sigmoid_function(X)\n",
        "             error = y_pred - y\n",
        "             self.loss[i] = self._loss_function(y,y_pred)\n",
        "\n",
        "             if (type(X_val) != bool):\n",
        "                 val_X = self._check_for_bias(X_val)\n",
        "                 val_ypred = self._sigmoid_function(val_X)\n",
        "\n",
        "                 self.val_loss[i] = self._loss_function(y_val,val_ypred)\n",
        "\n",
        "             self._gradient_descent(X, error)\n",
        "\n",
        "             if self.verbose:\n",
        "               print('n_inter:', i, 'loss:', self.loss[i], 'theta', self.theta)\n",
        "\n",
        "\n",
        "         np.save('theta', self.theta)\n",
        "\n",
        "\n",
        "     def predict(self, X):\n",
        "         X = self._check_for_bias(X)\n",
        "         y_pred = self._sigmoid_function(X)\n",
        "\n",
        "         return np.where(y_pred<0.5, self.ylabel[0], self.ylabel[1])\n",
        "\n",
        "     def predict_proba(self, X):\n",
        "         X = self._check_for_bias(X)\n",
        "         return self._sigmoid_function(X)"
      ]
    },
    {
      "cell_type": "code",
      "execution_count": 9,
      "metadata": {
        "id": "cvBwOoTWVDFb"
      },
      "outputs": [],
      "source": [
        "from sklearn.model_selection import train_test_split\n",
        "import numpy as np\n",
        "import pandas as pd\n",
        "from sklearn.datasets import load_iris\n",
        "\n",
        "iris = load_iris()\n",
        "X = iris.data[:100, :]\n",
        "y = iris.target[:100]\n",
        "(X_train, X_test,  y_train, y_test) = train_test_split(X, y, test_size=0.2)"
      ]
    },
    {
      "cell_type": "code",
      "execution_count": 10,
      "metadata": {
        "colab": {
          "base_uri": "https://localhost:8080/"
        },
        "id": "oeekVObaWdJ-",
        "outputId": "6457b267-165e-41c9-b5ec-913b2d306b7e"
      },
      "outputs": [
        {
          "name": "stdout",
          "output_type": "stream",
          "text": [
            "n_inter: 0 loss: 23.37593114761586 theta [0.47975145 0.28969713 0.90846172 0.34410051 0.70566467]\n",
            "n_inter: 1 loss: 22.039460345616394 theta [0.47464837 0.26036203 0.87933843 0.33228045 0.69554112]\n",
            "n_inter: 2 loss: 20.769781299339787 theta [0.4695522  0.2314291  0.85060128 0.3206226  0.68554746]\n",
            "n_inter: 3 loss: 19.565013486931022 theta [0.46446501 0.20290401 0.82225202 0.30912947 0.67568314]\n",
            "n_inter: 4 loss: 18.42336727177527 theta [0.45938944 0.17479542 0.79429423 0.29780488 0.66594796]\n",
            "n_inter: 5 loss: 17.34314704480358 theta [0.45432882 0.14711561 0.7667337  0.28665432 0.65634215]\n",
            "n_inter: 6 loss: 16.322753934818802 theta [0.44928739 0.11988138 0.73957892 0.27568531 0.64686646]\n",
            "n_inter: 7 loss: 15.360687415299644 theta [0.44427042 0.09311503 0.71284169 0.26490792 0.63752232]\n",
            "n_inter: 8 loss: 14.455544824205578 theta [0.4392845  0.06684543 0.68653777 0.25433531 0.62831194]\n",
            "n_inter: 9 loss: 13.606017424603655 theta [0.4343377  0.04110927 0.66068748 0.24398436 0.61923854]\n",
            "n_inter: 10 loss: 12.81088119114745 theta [0.42943985 0.0159522  0.63531643 0.2338763  0.61030647]\n",
            "n_inter: 11 loss: 12.068980076874992 theta [ 0.42460271 -0.00857012  0.61045606  0.22403733  0.60152143]\n",
            "n_inter: 12 loss: 11.379199233173129 theta [ 0.41984013 -0.0323913   0.58614401  0.21449908  0.59289057]\n",
            "n_inter: 13 loss: 10.740425755457508 theta [ 0.41516805 -0.05543407  0.56242409  0.20529885  0.58442264]\n",
            "n_inter: 14 loss: 10.151495339110484 theta [ 0.41060439 -0.07761116  0.53934572  0.19647942  0.57612791]\n",
            "n_inter: 15 loss: 9.611125126647533 theta [ 0.40616863 -0.09882729  0.51696262  0.18808825  0.56801803]\n",
            "n_inter: 16 loss: 9.117836256740564 theta [ 0.40188118 -0.11898277  0.49533072  0.18017585  0.56010563]\n",
            "n_inter: 17 loss: 8.669874024464855 theta [ 0.39776246 -0.13797855  0.4745051   0.1727935   0.5524037 ]\n",
            "n_inter: 18 loss: 8.265138221538681 theta [ 0.39383171 -0.15572256  0.45453635  0.16599004  0.54492476]\n",
            "n_inter: 19 loss: 7.901139368600457 theta [ 0.39010572 -0.1721366   0.43546662  0.15980831  0.53767993]\n",
            "n_inter: 20 loss: 7.5749959678569 theta [ 0.38659768 -0.18716288  0.417326    0.15428168  0.53067789]\n",
            "n_inter: 21 loss: 7.2834820899797075 theta [ 0.38331619 -0.20076908  0.40012975  0.14943109  0.52392408]\n",
            "n_inter: 22 loss: 7.0231241466265395 theta [ 0.38026482 -0.21295102  0.38387694  0.14526332  0.51742018]\n",
            "n_inter: 23 loss: 6.79033378365463 theta [ 0.37744202 -0.22373261  0.36855066  0.14177058  0.51116389]\n",
            "n_inter: 24 loss: 6.581555053021155 theta [ 0.37484164 -0.23316324  0.35411966  0.1389316   0.50514922]\n",
            "n_inter: 25 loss: 6.393401871852181 theta [ 0.37245365 -0.24131319  0.34054104  0.13671371  0.499367  ]\n",
            "n_inter: 26 loss: 6.2227666260562255 theta [ 0.37026518 -0.2482681   0.32776345  0.13507563  0.49380562]\n",
            "n_inter: 27 loss: 6.066889907560658 theta [ 0.36826145 -0.25412322  0.31573036  0.13397041  0.48845185]\n",
            "n_inter: 28 loss: 5.923390875533042 theta [ 0.36642675 -0.25897829  0.30438297  0.13334819  0.48329155]\n",
            "n_inter: 29 loss: 5.790264627736915 theta [ 0.36474514 -0.2629332   0.29366259  0.13315845  0.47831034]\n",
            "n_inter: 30 loss: 5.665856207611113 theta [ 0.36320102 -0.26608485  0.28351245  0.13335185  0.47349412]\n",
            "n_inter: 31 loss: 5.548821009095367 theta [ 0.36177958 -0.26852488  0.27387888  0.13388147  0.46882937]\n",
            "n_inter: 32 loss: 5.438079629352514 theta [ 0.36046701 -0.27033833  0.26471208  0.13470357  0.46430346]\n",
            "n_inter: 33 loss: 5.332772852435296 theta [ 0.35925063 -0.27160296  0.25596646  0.13577807  0.4599047 ]\n",
            "n_inter: 34 loss: 5.232220208307519 theta [ 0.35811896 -0.27238901  0.24760074  0.13706868  0.45562244]\n",
            "n_inter: 35 loss: 5.135883800989793 theta [ 0.3570617  -0.2727594   0.23957784  0.13854289  0.45144707]\n",
            "n_inter: 36 loss: 5.04333790453376 theta [ 0.35606965 -0.27277007  0.2318647   0.1401718   0.44736997]\n",
            "n_inter: 37 loss: 4.954244105914093 theta [ 0.3551347  -0.27247045  0.22443193  0.14192988  0.44338343]\n",
            "n_inter: 38 loss: 4.868331402970664 theta [ 0.35424967 -0.27190406  0.21725352  0.14379471  0.43948062]\n",
            "n_inter: 39 loss: 4.785380523093419 theta [ 0.35340826 -0.27110904  0.21030653  0.14574668  0.43565546]\n",
            "n_inter: 40 loss: 4.705211720974502 theta [ 0.35260495 -0.27011876  0.20357073  0.14776869  0.43190261]\n",
            "n_inter: 41 loss: 4.627675376898575 theta [ 0.35183492 -0.26896229  0.19702835  0.14984591  0.42821733]\n",
            "n_inter: 42 loss: 4.552644809950991 theta [ 0.35109396 -0.26766497  0.19066373  0.15196549  0.42459543]\n",
            "n_inter: 43 loss: 4.48001081957065 theta [ 0.3503784  -0.2662488   0.18446311  0.15411631  0.42103323]\n",
            "n_inter: 44 loss: 4.409677561702435 theta [ 0.34968505 -0.26473287  0.17841439  0.15628882  0.41752747]\n",
            "n_inter: 45 loss: 4.341559446950867 theta [ 0.34901114 -0.26313374  0.17250693  0.1584748   0.41407527]\n",
            "n_inter: 46 loss: 4.275578816071858 theta [ 0.34835425 -0.26146573  0.16673135  0.1606672   0.41067409]\n",
            "n_inter: 47 loss: 4.211664203387208 theta [ 0.34771229 -0.25974125  0.16107937  0.16286001  0.40732166]\n",
            "n_inter: 48 loss: 4.149749042724683 theta [ 0.34708344 -0.257971    0.15554369  0.16504809  0.404016  ]\n",
            "n_inter: 49 loss: 4.089770705034867 theta [ 0.34646611 -0.25616424  0.15011785  0.16722709  0.4007553 ]\n"
          ]
        }
      ],
      "source": [
        "slr = ScratchLogisticRegression(num_iter=50, lr=0.01, bias=True, verbose=True)\n",
        "slr.fit(X_train, y_train, X_test, y_test)"
      ]
    },
    {
      "cell_type": "code",
      "execution_count": 11,
      "metadata": {
        "colab": {
          "base_uri": "https://localhost:8080/"
        },
        "id": "fK2hUrRQYUrJ",
        "outputId": "551c7372-bb70-4ad8-b232-1b3e45c57195"
      },
      "outputs": [
        {
          "data": {
            "text/plain": [
              "array([0, 0, 1, 0, 1, 0, 0, 1, 0, 1, 1, 0, 1, 0, 0, 1, 1, 1, 1, 1])"
            ]
          },
          "execution_count": 11,
          "metadata": {},
          "output_type": "execute_result"
        }
      ],
      "source": [
        "slr.predict(X_test)"
      ]
    },
    {
      "cell_type": "code",
      "execution_count": 12,
      "metadata": {
        "colab": {
          "base_uri": "https://localhost:8080/",
          "height": 448
        },
        "id": "isP6SzvAVFx0",
        "outputId": "d527256a-68e5-495d-dda7-a9aed4f301b0"
      },
      "outputs": [
        {
          "data": {
            "text/plain": [
              "[<matplotlib.lines.Line2D at 0x789042846dd0>]"
            ]
          },
          "execution_count": 12,
          "metadata": {},
          "output_type": "execute_result"
        },
        {
          "data": {
            "image/png": "[encoded data removed]",
            "text/plain": [
              "<Figure size 640x480 with 1 Axes>"
            ]
          },
          "metadata": {},
          "output_type": "display_data"
        }
      ],
      "source": [
        "import matplotlib.pyplot as plt\n",
        "%matplotlib inline\n",
        "plt.plot(slr.loss)\n",
        "plt.plot(slr.val_loss)"
      ]
    },
    {
      "cell_type": "code",
      "execution_count": 13,
      "metadata": {
        "colab": {
          "base_uri": "https://localhost:8080/"
        },
        "id": "82tsvbsinow1",
        "outputId": "65695e4c-fb20-430e-d237-8bd51187605c"
      },
      "outputs": [
        {
          "name": "stdout",
          "output_type": "stream",
          "text": [
            "n_inter: 0 loss: 29.918526167603144 theta [0.95591333 0.56456606 0.85899456]\n",
            "n_inter: 1 loss: 29.69885852734507 theta [0.95542722 0.56142022 0.85625488]\n",
            "n_inter: 2 loss: 29.480346952023698 theta [0.95494115 0.5582785  0.85351873]\n",
            "n_inter: 3 loss: 29.262987960408473 theta [0.95445511 0.5551409  0.8507861 ]\n",
            "n_inter: 4 loss: 29.046778083388613 theta [0.95396911 0.55200742 0.848057  ]\n",
            "n_inter: 5 loss: 28.831713863968012 theta [0.95348315 0.54887806 0.84533142]\n",
            "n_inter: 6 loss: 28.617791857259878 theta [0.95299722 0.54575282 0.84260936]\n",
            "n_inter: 7 loss: 28.40500863048134 theta [0.95251134 0.5426317  0.83989082]\n",
            "n_inter: 8 loss: 28.19336076294777 theta [0.9520255 0.5395147 0.8371758]\n",
            "n_inter: 9 loss: 27.98284484606698 theta [0.95153969 0.53640182 0.8344643 ]\n",
            "n_inter: 10 loss: 27.77345748333313 theta [0.95105394 0.53329305 0.83175631]\n",
            "n_inter: 11 loss: 27.565195290320542 theta [0.95056822 0.53018841 0.82905184]\n",
            "n_inter: 12 loss: 27.358054894677213 theta [0.95008255 0.52708789 0.82635088]\n",
            "n_inter: 13 loss: 27.152032936117937 theta [0.94959693 0.52399149 0.82365343]\n",
            "n_inter: 14 loss: 26.94712606641725 theta [0.94911135 0.52089921 0.82095949]\n",
            "n_inter: 15 loss: 26.743330949402033 theta [0.94862582 0.51781106 0.81826907]\n",
            "n_inter: 16 loss: 26.540644260943733 theta [0.94814034 0.51472703 0.81558215]\n",
            "n_inter: 17 loss: 26.33906268895021 theta [0.94765492 0.51164712 0.81289873]\n",
            "n_inter: 18 loss: 26.138582933357178 theta [0.94716954 0.50857134 0.81021883]\n",
            "n_inter: 19 loss: 25.939201706119306 theta [0.94668421 0.50549969 0.80754243]\n",
            "n_inter: 20 loss: 25.74091573120064 theta [0.94619894 0.50243217 0.80486953]\n",
            "n_inter: 21 loss: 25.543721744564813 theta [0.94571373 0.49936878 0.80220014]\n",
            "n_inter: 22 loss: 25.347616494164487 theta [0.94522857 0.49630953 0.79953425]\n",
            "n_inter: 23 loss: 25.152596739930384 theta [0.94474347 0.4932544  0.79687187]\n",
            "n_inter: 24 loss: 24.958659253759727 theta [0.94425843 0.49020342 0.79421299]\n",
            "n_inter: 25 loss: 24.76580081950395 theta [0.94377345 0.48715658 0.79155762]\n",
            "n_inter: 26 loss: 24.574018232955904 theta [0.94328854 0.48411388 0.78890574]\n",
            "n_inter: 27 loss: 24.383308301836266 theta [0.94280368 0.48107532 0.78625737]\n",
            "n_inter: 28 loss: 24.193667845779245 theta [0.94231889 0.47804091 0.78361251]\n",
            "n_inter: 29 loss: 24.005093696317537 theta [0.94183417 0.47501065 0.78097114]\n",
            "n_inter: 30 loss: 23.8175826968665 theta [0.94134952 0.47198455 0.77833328]\n",
            "n_inter: 31 loss: 23.63113170270739 theta [0.94086494 0.46896261 0.77569893]\n",
            "n_inter: 32 loss: 23.44573758096987 theta [0.94038043 0.46594482 0.77306808]\n",
            "n_inter: 33 loss: 23.26139721061339 theta [0.93989599 0.46293121 0.77044073]\n",
            "n_inter: 34 loss: 23.078107482407795 theta [0.93941162 0.45992176 0.76781689]\n",
            "n_inter: 35 loss: 22.89586529891277 theta [0.93892734 0.45691648 0.76519656]\n",
            "n_inter: 36 loss: 22.7146675744563 theta [0.93844313 0.45391539 0.76257973]\n",
            "n_inter: 37 loss: 22.534511235111978 theta [0.937959   0.45091847 0.75996641]\n",
            "n_inter: 38 loss: 22.355393218675218 theta [0.93747495 0.44792574 0.7573566 ]\n",
            "n_inter: 39 loss: 22.17731047463815 theta [0.93699099 0.44493721 0.7547503 ]\n",
            "n_inter: 40 loss: 22.000259964163384 theta [0.93650712 0.44195287 0.75214752]\n",
            "n_inter: 41 loss: 21.824238660056352 theta [0.93602333 0.43897273 0.74954824]\n",
            "n_inter: 42 loss: 21.649243546736386 theta [0.93553963 0.43599681 0.74695249]\n",
            "n_inter: 43 loss: 21.475271620206275 theta [0.93505602 0.43302509 0.74436025]\n",
            "n_inter: 44 loss: 21.302319888020392 theta [0.93457251 0.4300576  0.74177152]\n",
            "n_inter: 45 loss: 21.130385369251318 theta [0.93408909 0.42709434 0.73918632]\n",
            "n_inter: 46 loss: 20.95946509445484 theta [0.93360578 0.4241353  0.73660465]\n",
            "n_inter: 47 loss: 20.789556105633235 theta [0.93312256 0.42118051 0.73402649]\n",
            "n_inter: 48 loss: 20.620655456196975 theta [0.93263944 0.41822997 0.73145187]\n",
            "n_inter: 49 loss: 20.452760210924506 theta [0.93215643 0.41528368 0.72888077]\n"
          ]
        }
      ],
      "source": [
        "X = iris.data[:100,:2]\n",
        "y = iris.target[:100]\n",
        "(X_train, X_test, y_train, y_test) = train_test_split(X, y, test_size=0.2)\n",
        "slr = ScratchLogisticRegression(num_iter=50, lr=0.001, bias=True, verbose=True)\n",
        "slr.fit(X_train, y_train, X_test, y_test)"
      ]
    },
    {
      "cell_type": "code",
      "execution_count": 14,
      "metadata": {
        "id": "jmMjldcmVLyx"
      },
      "outputs": [],
      "source": [
        "from matplotlib.colors import ListedColormap"
      ]
    },
    {
      "cell_type": "code",
      "execution_count": 15,
      "metadata": {
        "id": "JUNxH7SEVSSp"
      },
      "outputs": [],
      "source": [
        "def decision_region(X, y, slr):\n",
        "    mesh_f0, mesh_f1 = np.meshgrid(\n",
        "         np.arange(np.min(X[:,0]), np.max(X[:,0]), 0.01),\n",
        "         np.arange(np.min(X[:,1]), np.max(X[:,1]), 0.01)\n",
        "    )\n",
        "    mesh = np.c_[np.ravel(mesh_f0), np.ravel(mesh_f1)]\n",
        "    y_pred = slr.predict(mesh).reshape(mesh_f0.shape)\n",
        "    plt.title('decision region')\n",
        "    plt.xlabel('feature0')\n",
        "    plt.ylabel('feature1')\n",
        "\n",
        "    plt.contourf(mesh_f0, mesh_f1, y_pred,cmap=ListedColormap(['pink', 'skyblue']))\n",
        "    plt.contour(mesh_f0, mesh_f1, y_pred,colors='red')\n",
        "    plt.scatter(X[y==0][:, 0], X[y==0][:, 1],label='0')\n",
        "    plt.scatter(X[y==1][:, 0], X[y==1][:, 1],label='1')\n",
        "    plt.legend()\n",
        "    plt.show()"
      ]
    },
    {
      "cell_type": "code",
      "execution_count": 16,
      "metadata": {
        "colab": {
          "base_uri": "https://localhost:8080/",
          "height": 472
        },
        "id": "cqy3-5sdVTaR",
        "outputId": "de31267d-272e-442a-b299-08edc8718bf5"
      },
      "outputs": [
        {
          "data": {
            "image/png": "[encoded data removed]",
            "text/plain": [
              "<Figure size 640x480 with 1 Axes>"
            ]
          },
          "metadata": {},
          "output_type": "display_data"
        }
      ],
      "source": [
        "decision_region(X, y, slr)"
      ]
    }
  ],
  "metadata": {
    "accelerator": "GPU",
    "colab": {
      "authorship_tag": "ABX9TyMcm91eEl9KBgCQHH4aGaGl",
      "gpuType": "T4",
      "include_colab_link": true,
      "provenance": []
    },
    "kernelspec": {
      "display_name": "Python 3",
      "name": "python3"
    },
    "language_info": {
      "name": "python"
    }
  },
  "nbformat": 4,
  "nbformat_minor": 0
}
