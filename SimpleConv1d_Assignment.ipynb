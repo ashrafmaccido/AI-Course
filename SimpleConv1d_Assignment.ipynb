{
  "cells": [
    {
      "cell_type": "markdown",
      "metadata": {
        "id": "Fc9zbcX0xXyg"
      },
      "source": [
        "Data Preparation"
      ]
    },
    {
      "cell_type": "code",
      "execution_count": 48,
      "metadata": {
        "id": "329UxPUzxWn4"
      },
      "outputs": [],
      "source": [
        "# Mini-batch processing class\n",
        "class GetMiniBatch:\n",
        "    \"\"\"\n",
        "    Iterator to get the mini-batch\n",
        "\n",
        "    Parameters\n",
        "    ----------\n",
        "    X : ndarray of the following form, shape (n_samples, n_features)\n",
        "      Training data\n",
        "    y : ndarray of the following form, shape (n_samples, 1)\n",
        "      correct value\n",
        "    batch_size : int\n",
        "      Batch size\n",
        "    seed : int\n",
        "      Seeding random numbers in NumPy\n",
        "    \"\"\"\n",
        "    def __init__(self, X, y, batch_size = 20, seed=None):\n",
        "        self.batch_size = batch_size\n",
        "        np.random.seed(seed)\n",
        "        shuffle_index = np.random.permutation(np.arange(X.shape[0]))\n",
        "        self._X = X[shuffle_index]\n",
        "        self._y = y[shuffle_index]\n",
        "        self._stop = np.ceil(X.shape[0]/self.batch_size).astype(np.int64)\n",
        "\n",
        "    def __len__(self):\n",
        "        return self._stop\n",
        "\n",
        "    def __getitem__(self,item):\n",
        "        p0 = item*self.batch_size\n",
        "        p1 = item*self.batch_size + self.batch_size\n",
        "        return self._X[p0:p1], self._y[p0:p1]\n",
        "\n",
        "    def __iter__(self):\n",
        "        self._counter = 0\n",
        "        return self\n",
        "\n",
        "    def __next__(self):\n",
        "        if self._counter >= self._stop:\n",
        "            raise StopIteration()\n",
        "        p0 = self._counter*self.batch_size\n",
        "        p1 = self._counter*self.batch_size + self.batch_size\n",
        "        self._counter += 1\n",
        "        return self._X[p0:p1], self._y[p0:p1]"
      ]
    },
    {
      "cell_type": "markdown",
      "metadata": {
        "id": "VYuF9TwDxgv9"
      },
      "source": [
        "All Binding Layers"
      ]
    },
    {
      "cell_type": "code",
      "execution_count": 38,
      "metadata": {
        "id": "na4iEKanxNHn"
      },
      "outputs": [],
      "source": [
        "class FC:\n",
        "    \"\"\"\n",
        "    All coupling layers from number of nodes n_nodes1 to n_nodes2\n",
        "    Parameters\n",
        "    ----------\n",
        "    n_nodes1 : int\n",
        "      Number of nodes in the previous layer\n",
        "    n_nodes2 : int\n",
        "      Number of nodes in subsequent layers\n",
        "    initializer : Instances of initialization methods\n",
        "    optimizer : Instances of optimization methods\n",
        "    \"\"\"\n",
        "    def __init__(self, n_nodes1, n_nodes2, initializer, optimizer, activation):\n",
        "\n",
        "        self.n_nodes1 = n_nodes1\n",
        "        self.n_nodes2 = n_nodes2\n",
        "        self.initializer = initializer\n",
        "        self.optimizer = optimizer\n",
        "        self.activation = activation\n",
        "        # Initialize.\n",
        "        # Use the initializer method to initialize self.W and self.B\n",
        "        self.W = self.initializer.W(self.n_nodes1,self.n_nodes2)\n",
        "        self.B = self.initializer.B(self.n_nodes2)\n",
        "\n",
        "    def forward(self, X):\n",
        "        \"\"\"\n",
        "        forward\n",
        "        Parameters\n",
        "        ----------\n",
        "        X : ndarray of the following form, shape (batch_size, n_nodes1)\n",
        "            Input\n",
        "        Returns\n",
        "        ----------\n",
        "        A : ndarray of the following form, shape (batch_size, n_nodes2)\n",
        "            Output\n",
        "        \"\"\"\n",
        "        self.X = X\n",
        "        self.A = np.dot(self.X,self.W) + self.B\n",
        "\n",
        "        return self.activation.forward(self.A)\n",
        "\n",
        "    def backward(self, dZ):\n",
        "        \"\"\"\n",
        "        backward\n",
        "        Parameters\n",
        "        ----------\n",
        "        dA : ndarray of the following form, shape (batch_size, n_nodes2)\n",
        "            The gradient flowed in from behind.\n",
        "        Returns\n",
        "        ----------\n",
        "        dZ : ndarray of the following form, shape (batch_size, n_nodes1)\n",
        "            forward slope\n",
        "        \"\"\"\n",
        "        dA = self.activation.backward(dZ)\n",
        "        self.dB = np.mean(dA,axis=0)\n",
        "        self.dW = np.dot(self.X.T,dA)/len(self.X)\n",
        "        dZ = np.dot(dA,self.W.T)\n",
        "\n",
        "        # Update\n",
        "        self = self.optimizer.update(self)\n",
        "\n",
        "        return dZ"
      ]
    },
    {
      "cell_type": "code",
      "execution_count": 39,
      "metadata": {
        "id": "r3uH84isxkBA"
      },
      "outputs": [],
      "source": [
        "class SimpleInitializer:\n",
        "    \"\"\"\n",
        "    Simple initialization with Gaussian distribution\n",
        "    Parameters\n",
        "    ----------\n",
        "    sigma : float\n",
        "      Standard deviation of Gaussian distribution\n",
        "    \"\"\"\n",
        "    def __init__(self, sigma):\n",
        "        self.sigma = sigma\n",
        "\n",
        "    def W(self, n_nodes1, n_nodes2):\n",
        "        \"\"\"\n",
        "        Initializing weights\n",
        "        Parameters\n",
        "        ----------\n",
        "        n_nodes1 : int\n",
        "          Number of nodes in the previous layer\n",
        "        n_nodes2 : int\n",
        "          Number of nodes in subsequent layers\n",
        "\n",
        "        Returns\n",
        "        ----------\n",
        "        W : weight\n",
        "        \"\"\"\n",
        "        return self.sigma * np.random.randn(n_nodes1, n_nodes2)\n",
        "\n",
        "    def B(self, n_nodes2):\n",
        "        \"\"\"\n",
        "        Bias initialization\n",
        "        Parameters\n",
        "        ----------\n",
        "        n_nodes2 : int\n",
        "          Number of nodes in subsequent layers\n",
        "\n",
        "        Returns\n",
        "        ----------\n",
        "        B : bias\n",
        "        \"\"\"\n",
        "        return np.zeros(n_nodes2)"
      ]
    },
    {
      "cell_type": "code",
      "execution_count": 40,
      "metadata": {
        "id": "ZzBM29cHxnlX"
      },
      "outputs": [],
      "source": [
        "class HeInitializer():\n",
        "    \"\"\"\n",
        "    Initialization of weights by He\n",
        "    \"\"\"\n",
        "    def __init__(self):\n",
        "        pass\n",
        "\n",
        "    def W(self, n_nodes1, n_nodes2):\n",
        "        \"\"\"\n",
        "        Initializing weights\n",
        "        Parameters\n",
        "        ----------\n",
        "        n_nodes1 : int\n",
        "          Number of nodes in the previous layer\n",
        "        n_nodes2 : int\n",
        "          Number of nodes in subsequent layers\n",
        "\n",
        "        Returns\n",
        "        ----------\n",
        "        W : weight\n",
        "        \"\"\"\n",
        "        return np.random.randn(n_nodes1, n_nodes2)*np.sqrt(2/n_nodes1)\n",
        "\n",
        "    def B(self, n_nodes2):\n",
        "        \"\"\"\n",
        "        Bias initialization\n",
        "        Parameters\n",
        "        ----------\n",
        "        n_nodes2 : int\n",
        "          Number of nodes in subsequent layers\n",
        "\n",
        "        Returns\n",
        "        ----------\n",
        "        B : bias\n",
        "        \"\"\"\n",
        "        return np.zeros(n_nodes2)"
      ]
    },
    {
      "cell_type": "code",
      "execution_count": 41,
      "metadata": {
        "id": "2oCcKxmvxq11"
      },
      "outputs": [],
      "source": [
        "class SGD:\n",
        "    \"\"\"\n",
        "    stochastic gradient descent method\n",
        "    Parameters\n",
        "    ----------\n",
        "    lr : learning rate\n",
        "    \"\"\"\n",
        "    def __init__(self, lr):\n",
        "        self.lr = lr\n",
        "\n",
        "    def update(self, layer):\n",
        "        \"\"\"\n",
        "        Updating the weights and biases of a layer\n",
        "        Parameters\n",
        "        ----------\n",
        "        layer : An instance of the layer before the update\n",
        "        \"\"\"\n",
        "        layer.W -= self.lr*layer.dW\n",
        "        layer.B -= self.lr*layer.dB\n",
        "\n",
        "        return layer"
      ]
    },
    {
      "cell_type": "code",
      "execution_count": 42,
      "metadata": {
        "id": "pu1BMZqMxv0k"
      },
      "outputs": [],
      "source": [
        "class AdaGrad:\n",
        "    \"\"\"\n",
        "    Parameters\n",
        "    ----------\n",
        "    lr : learning rate\n",
        "    \"\"\"\n",
        "    def __init__(self, lr):\n",
        "        self.lr = lr\n",
        "        self.hW = 0\n",
        "        self.hB = 0\n",
        "\n",
        "    def update(self, layer):\n",
        "        \"\"\"\n",
        "        Updating the weights and biases of a layer\n",
        "        Parameters\n",
        "        ----------\n",
        "        layer : An instance of the layer before the update\n",
        "        \"\"\"\n",
        "        self.hW += layer.dW*layer.dW\n",
        "        self.hB = layer.dB*layer.dB\n",
        "\n",
        "        layer.W -= self.lr*layer.dW/(np.sqrt(self.hW) +1e-7)\n",
        "        layer.B -= self.lr*layer.dB/(np.sqrt(self.hB) +1e-7)\n",
        "\n",
        "        return layer"
      ]
    },
    {
      "cell_type": "markdown",
      "metadata": {
        "id": "bLY_e_42x0CX"
      },
      "source": [
        "Activation Function"
      ]
    },
    {
      "cell_type": "code",
      "execution_count": 43,
      "metadata": {
        "id": "BqCbL9upxzfx"
      },
      "outputs": [],
      "source": [
        "class ReLU():\n",
        "    \"\"\"\n",
        "    Activation function : ReLU function\n",
        "    \"\"\"\n",
        "    def __init__(self):\n",
        "        pass\n",
        "\n",
        "    def forward(self,A):\n",
        "        self.A = A\n",
        "        return np.maximum(self.A,0)\n",
        "\n",
        "    def backward(self,dZ):\n",
        "\n",
        "        return np.where(self.A>0,dZ,0)"
      ]
    },
    {
      "cell_type": "code",
      "execution_count": 44,
      "metadata": {
        "id": "i_ImooYSx9Qd"
      },
      "outputs": [],
      "source": [
        "class Softmax():\n",
        "    \"\"\"\n",
        "    Activation Function : Softmax Function\n",
        "    \"\"\"\n",
        "    def __init__(self):\n",
        "        pass\n",
        "\n",
        "    def forward(self,A):\n",
        "\n",
        "        return np.exp(A-np.max(A))/np.sum(np.exp(A-np.max(A)),axis=1,keepdims=True)\n",
        "\n",
        "    def backward(self,dZ):\n",
        "        return dZ"
      ]
    },
    {
      "cell_type": "markdown",
      "metadata": {
        "id": "ARQc5e92qcXI"
      },
      "source": [
        "# Problem 1: Create 1D Convolutional Layer Class with limited channels"
      ]
    },
    {
      "cell_type": "code",
      "execution_count": 1,
      "metadata": {
        "id": "JVlTva3fqXFM"
      },
      "outputs": [],
      "source": [
        "# Import\n",
        "import numpy as np\n",
        "import matplotlib.pyplot as plt\n",
        "# Evaluation index\n",
        "from sklearn.metrics import accuracy_score"
      ]
    },
    {
      "cell_type": "markdown",
      "metadata": {
        "id": "SWLjJpK1qzyn"
      },
      "source": [
        "Convolutional Layer"
      ]
    },
    {
      "cell_type": "code",
      "execution_count": 2,
      "metadata": {
        "id": "5Yt23pJ6qYlv"
      },
      "outputs": [],
      "source": [
        "# 1D convolutional layer class\n",
        "class SimpleConv1d():\n",
        "    \"\"\"\n",
        "    1D convolutional layer\n",
        "    Parameters\n",
        "    ----------\n",
        "    n_nodes1 : int\n",
        "      Number of nodes in the previous layer\n",
        "    n_nodes2 : int\n",
        "      Number of nodes in subsequent layers\n",
        "    initializer : Instances of initialization methods\n",
        "    optimizer : Instances of optimization methods\n",
        "    \"\"\"\n",
        "    def __init__(self, out_channel, in_channel, filter_size,\n",
        "                 padding_size=0,stride_size=1,\n",
        "                 initializer=None,optimizer=None,activation=None):\n",
        "\n",
        "        self.initializer = initializer\n",
        "        self.optimizer = optimizer\n",
        "        self.activation = activation\n",
        "\n",
        "        # Initialize.\n",
        "        # Use the initializer method to initialize self.W and self.B\n",
        "        self.W = self.initializer.W(out_channel,in_channel,filter_size)\n",
        "        self.B = self.initializer.B(out_channel)\n",
        "\n",
        "    def output_shape(self,n_feature,filter_size,padding=0,stride=1):\n",
        "\n",
        "        return int((n_feature +2*padding -filter_size)/stride +1)\n",
        "\n",
        "    def forward(self, X):\n",
        "        \"\"\"\n",
        "        forward (in a ball game, contract, etc.)\n",
        "        Parameters\n",
        "        ----------\n",
        "        X : ndarray of the following form, shape (batch_size, n_nodes1)\n",
        "            Input\n",
        "        Returns\n",
        "        ----------\n",
        "        A : ndarray of the following form, shape (batch_size, n_nodes2)\n",
        "            Output\n",
        "        \"\"\"\n",
        "        self.X = X\n",
        "        # Size\n",
        "        N,INC,Feature = X.shape\n",
        "        OCH,INC,FS = self.W.shape\n",
        "        OUT = self.output_shape(Feature,FS,0,1)\n",
        "\n",
        "        self.size = N,INC,OCH,FS,OUT\n",
        "\n",
        "        A = np.zeros([N,OCH,OUT])\n",
        "\n",
        "        for n in range(N):\n",
        "            for och in range(OCH):\n",
        "                for ich in range(INC):\n",
        "                    for m in range(OUT):\n",
        "                        A[n,och,m] += np.sum(X[n,ich,m:m+FS]*self.W[och,ich,:])\n",
        "\n",
        "        A += self.B[:,None]\n",
        "\n",
        "        return self.activation.forward(A)\n",
        "\n",
        "    def backward(self, dZ):\n",
        "        \"\"\"\n",
        "        backward\n",
        "        Parameters\n",
        "        ----------\n",
        "        dA : ndarray of the following form, shape (batch_size, n_nodes2)\n",
        "            The gradient flowed in from behind.\n",
        "        Returns\n",
        "        ----------\n",
        "        dZ : ndarray of the following form, shape (batch_size, n_nodes1)\n",
        "            forward slope\n",
        "        \"\"\"\n",
        "        dA = self.activation.backward(dZ)\n",
        "\n",
        "        # Bias\n",
        "        self.dB = np.mean(np.sum(dA,axis=2),axis=0)\n",
        "\n",
        "        # Weight, flow slope\n",
        "        self.dW = np.zeros(self.W.shape)\n",
        "        dZ = np.zeros(self.X.shape)\n",
        "\n",
        "        N,INC,OCH,FS,OUT = self.size\n",
        "\n",
        "        for n in range(N):\n",
        "            for och in range(OCH):\n",
        "                for ich in range(INC):\n",
        "                    for fs in range(FS):\n",
        "                        for m in range(OUT):\n",
        "                            self.dW[och,ich,fs] += self.X[n,ich,fs+m]*dA[n,och,m]\n",
        "                            dZ[n,ich,fs+m] += self.W[och,ich,fs]*dA[n,och,m]\n",
        "\n",
        "        # Update\n",
        "        self = self.optimizer.update(self)\n",
        "\n",
        "        return dZ"
      ]
    },
    {
      "cell_type": "code",
      "execution_count": 3,
      "metadata": {
        "id": "yA8YKiAmrfpR"
      },
      "outputs": [],
      "source": [
        "class SimpleInitializerConv1d:\n",
        "    \"\"\"\n",
        "    Simple initialization with Gaussian distribution\n",
        "    Parameters\n",
        "    ----------\n",
        "    sigma : float\n",
        "      Standard deviation of Gaussian distribution\n",
        "    \"\"\"\n",
        "    def __init__(self, sigma=0.01):\n",
        "        self.sigma = sigma\n",
        "\n",
        "    def W(self, out_channel, in_channel, filter_size):\n",
        "        \"\"\"\n",
        "        Initializing weights\n",
        "        Parameters\n",
        "        ----------\n",
        "        n_nodes1 : int\n",
        "          Number of nodes in the previous layer\n",
        "        n_nodes2 : int\n",
        "          Number of nodes in subsequent layers\n",
        "\n",
        "        Returns\n",
        "        ----------\n",
        "        W : weight\n",
        "        \"\"\"\n",
        "        return self.sigma * np.random.randn(out_channel, in_channel, filter_size)\n",
        "\n",
        "    def B(self, out_channel):\n",
        "        \"\"\"\n",
        "        Bias initialization\n",
        "        Parameters\n",
        "        ----------\n",
        "        n_nodes2 : int\n",
        "          Number of nodes in subsequent layers\n",
        "\n",
        "        Returns\n",
        "        ----------\n",
        "        B : bias\n",
        "        \"\"\"\n",
        "        return np.zeros(out_channel)"
      ]
    },
    {
      "cell_type": "code",
      "execution_count": 4,
      "metadata": {
        "id": "Wcvi--SsrlB2"
      },
      "outputs": [],
      "source": [
        "# Scratch CNN\n",
        "class Scratch1dCNNClassifier():\n",
        "    \"\"\"\n",
        "    N-Layer Convolutional Neural Network Classifier\n",
        "\n",
        "    Parameters\n",
        "    ----------\n",
        "    self.n_epoch : epoch number\n",
        "    self.n_batch : Number of batches\n",
        "    self.verbose : Visualizing the learning process\n",
        "    Attributes\n",
        "    ----------\n",
        "    \"\"\"\n",
        "    def __init__(self, NN, CNN, n_epoch=5, n_batch=1, verbose = False):\n",
        "        # Parameters\n",
        "        self.n_epoch = n_epoch\n",
        "        self.n_batch = n_batch\n",
        "        self.verbose = verbose\n",
        "        self.log_loss = np.zeros(self.n_epoch)\n",
        "        self.log_acc = np.zeros(self.n_epoch)\n",
        "        self.NN = NN\n",
        "        self.CNN = CNN\n",
        "\n",
        "    def loss_function(self,y,yt):\n",
        "        delta = 1e-7\n",
        "        return -np.mean(yt*np.log(y+delta))\n",
        "\n",
        "    def accuracy(self,Z,Y):\n",
        "        return accuracy_score(Y,Z)\n",
        "\n",
        "    def fit(self, X, y, X_val=False, y_val=False):\n",
        "        \"\"\"\n",
        "        Train a neural network classifier.\n",
        "\n",
        "        Parameters\n",
        "        ----------\n",
        "        X : ndarray of the following form, shape (n_samples, n_features)\n",
        "            Features of training data\n",
        "        y : ndarray of the following form, shape (n_samples, )\n",
        "            Correct answer value of training data\n",
        "        X_val : ndarray of the following form, shape (n_samples, n_features)\n",
        "            Features of validation data\n",
        "        y_val : ndarray of the following form, shape (n_samples, )\n",
        "            Correct value of validation data\n",
        "        \"\"\"\n",
        "        for epoch in range(self.n_epoch):\n",
        "            # Mini-batch processing\n",
        "            get_mini_batch = GetMiniBatch(X, y, batch_size=self.n_batch)\n",
        "\n",
        "            self.loss = 0\n",
        "            for mini_X_train, mini_y_train in get_mini_batch:\n",
        "\n",
        "                # Forward propagation\n",
        "                forward_data = mini_X_train.reshape(self.n_batch,1,-1)\n",
        "\n",
        "                # Conv\n",
        "                for layer in range(len(self.CNN)):\n",
        "                    forward_data = self.CNN[layer].forward(forward_data)\n",
        "\n",
        "                record_shape = forward_data.shape\n",
        "                forward_data = forward_data.reshape(self.n_batch,-1)\n",
        "\n",
        "                for layer in range(len(self.NN)):\n",
        "                    forward_data = self.NN[layer].forward(forward_data)\n",
        "\n",
        "                # Predicted value\n",
        "                Z = forward_data\n",
        "\n",
        "                # Back propagation\n",
        "                backward_data = (Z - mini_y_train)/self.n_batch\n",
        "                for layer in range(len(self.NN)-1,-1,-1):\n",
        "                    backward_data = self.NN[layer].backward(backward_data)\n",
        "\n",
        "                backward_data = backward_data.reshape(record_shape)\n",
        "\n",
        "                for layer in range(len(self.CNN)-1,-1,-1):\n",
        "                    backward_data = self.CNN[layer].backward(backward_data)\n",
        "\n",
        "                # Loss function\n",
        "                self.loss += self.loss_function(Z,mini_y_train)\n",
        "\n",
        "            self.log_loss[epoch] = self.loss/len(get_mini_batch)\n",
        "            self.log_acc[epoch] = self.accuracy(self.predict(X),np.argmax(y,axis=1))\n",
        "\n",
        "    def predict(self, X):\n",
        "        \"\"\"\n",
        "        Estimate using a neural network classifier.。\n",
        "\n",
        "        Parameters\n",
        "        ----------\n",
        "        X : ndarray of the following form, shape (n_samples, n_features)\n",
        "            Sample\n",
        "\n",
        "        Returns\n",
        "        -------\n",
        "            ndarray of the following form, shape (n_samples, 1)\n",
        "            Estimation results\n",
        "        \"\"\"\n",
        "        pred_data = X[:,np.newaxis,:]\n",
        "\n",
        "        # Conv\n",
        "        for layer in range(len(self.CNN)):\n",
        "            pred_data = self.CNN[layer].forward(pred_data)\n",
        "\n",
        "        pred_data = pred_data.reshape(len(X),-1)\n",
        "\n",
        "        for layer in range(len(self.NN)):\n",
        "            pred_data = self.NN[layer].forward(pred_data)\n",
        "\n",
        "        return np.argmax(pred_data,axis=1)"
      ]
    },
    {
      "cell_type": "code",
      "execution_count": 6,
      "metadata": {
        "colab": {
          "base_uri": "https://localhost:8080/"
        },
        "id": "Sk0Kx3xMrsDl",
        "outputId": "ab4d4097-e897-4b64-f44c-1a5307c01979"
      },
      "outputs": [
        {
          "data": {
            "text/plain": [
              "2"
            ]
          },
          "execution_count": 6,
          "metadata": {},
          "output_type": "execute_result"
        }
      ],
      "source": [
        "def output_shape(X_features, filter_size, padding_size=0, stride_size=1):\n",
        "    return int((X_features +2*padding_size -filter_size)/stride_size +1)\n",
        "\n",
        "output_shape(4,3,0,1)"
      ]
    },
    {
      "cell_type": "markdown",
      "metadata": {
        "id": "i0jtFD4JsPR6"
      },
      "source": [
        "# Problem 3: Experiments with 1D convolutional layers"
      ]
    },
    {
      "cell_type": "code",
      "execution_count": 7,
      "metadata": {
        "id": "hYBGj6gdsOY2"
      },
      "outputs": [],
      "source": [
        "# Input\n",
        "x = np.array([1,2,3,4])\n",
        "w = np.array([3, 5, 7])\n",
        "b = np.array([1])\n",
        "\n",
        "# Error\n",
        "delta_a = np.array([10, 20])"
      ]
    },
    {
      "cell_type": "code",
      "execution_count": 8,
      "metadata": {
        "colab": {
          "base_uri": "https://localhost:8080/"
        },
        "id": "EG-_NS16sefg",
        "outputId": "c011ecdf-48a4-40d6-c6a5-00265671d6d0"
      },
      "outputs": [
        {
          "name": "stdout",
          "output_type": "stream",
          "text": [
            "[35. 50.]\n"
          ]
        },
        {
          "name": "stderr",
          "output_type": "stream",
          "text": [
            "<ipython-input-8-ce125ad81aee>:5: DeprecationWarning: Conversion of an array with ndim > 0 to a scalar is deprecated, and will error in future. Ensure you extract a single element from your array before performing this operation. (Deprecated NumPy 1.25.)\n",
            "  a[i] = np.sum(x_tmp*w)+b\n"
          ]
        }
      ],
      "source": [
        "# Forward\n",
        "a = np.zeros(output_shape(4,3,0,1))\n",
        "for i in range(len(a)):\n",
        "    x_tmp = x[i:i+len(w)]\n",
        "    a[i] = np.sum(x_tmp*w)+b\n",
        "print(a)"
      ]
    },
    {
      "cell_type": "code",
      "execution_count": 9,
      "metadata": {
        "colab": {
          "base_uri": "https://localhost:8080/"
        },
        "id": "rT_ziOBysjbT",
        "outputId": "c430fac9-28a9-40ab-dc56-66adb1415a1a"
      },
      "outputs": [
        {
          "name": "stdout",
          "output_type": "stream",
          "text": [
            "30\n"
          ]
        }
      ],
      "source": [
        "# Backward bias\n",
        "delta_b = np.sum(delta_a)\n",
        "print(delta_b)"
      ]
    },
    {
      "cell_type": "code",
      "execution_count": 10,
      "metadata": {
        "colab": {
          "base_uri": "https://localhost:8080/"
        },
        "id": "8NN1pMqgsmlU",
        "outputId": "19766bce-b327-406f-8112-d9edc2a219ff"
      },
      "outputs": [
        {
          "name": "stdout",
          "output_type": "stream",
          "text": [
            "[ 50.  80. 110.]\n"
          ]
        }
      ],
      "source": [
        "# Backward filter\n",
        "delta_w = np.zeros(len(w))\n",
        "for i in range(len(w)):\n",
        "    x_tmp = x[i:i+len(delta_a)]\n",
        "    delta_w[i] = np.sum(x_tmp*delta_a)\n",
        "print(delta_w)"
      ]
    },
    {
      "cell_type": "code",
      "execution_count": 11,
      "metadata": {
        "colab": {
          "base_uri": "https://localhost:8080/"
        },
        "id": "OdVfel4Qspa-",
        "outputId": "e236ca96-3bd6-40fd-c36d-0cb3372e79d1"
      },
      "outputs": [
        {
          "name": "stdout",
          "output_type": "stream",
          "text": [
            "[ 30. 110. 170. 140.]\n"
          ]
        }
      ],
      "source": [
        "# Backward Error to convey to next layer\n",
        "delta_x = np.zeros(len(x))\n",
        "for i in range(len(x)):\n",
        "    zero = np.zeros(len(delta_a)-1)\n",
        "    w_padded = np.concatenate([zero,w,zero],axis=0)\n",
        "    w_tmp = w_padded[i:i+len(delta_a)]\n",
        "    # print(w_tmp)\n",
        "    delta_x[i] = np.sum(w_tmp*delta_a[::-1])\n",
        "print(delta_x)"
      ]
    },
    {
      "cell_type": "code",
      "execution_count": 13,
      "metadata": {
        "colab": {
          "base_uri": "https://localhost:8080/"
        },
        "id": "_3DP2xbcs9fe",
        "outputId": "b69d149d-ec86-46d0-a264-0209cb6c7f2b"
      },
      "outputs": [
        {
          "name": "stdout",
          "output_type": "stream",
          "text": [
            "[ 3. 10. 21.]\n",
            "[ 6. 15. 28.]\n",
            "[34. 49.]\n"
          ]
        }
      ],
      "source": [
        "x = np.array([1, 2, 3, 4])\n",
        "w = np.array([3, 5, 7])\n",
        "a = np.empty((2, 3))\n",
        "indexes0 = np.array([0, 1, 2]).astype(np.int64)\n",
        "indexes1 = np.array([1, 2, 3]).astype(np.int64)\n",
        "a[0] = x[indexes0]*w # x[indexes0] is ([1, 2, 3])\n",
        "print(a[0])\n",
        "a[1] = x[indexes1]*w # x[indexes1] is ([2, 3, 4])\n",
        "print(a[1])\n",
        "a = a.sum(axis=1)\n",
        "print(a)"
      ]
    },
    {
      "cell_type": "markdown",
      "metadata": {
        "id": "AFodreADt0-h"
      },
      "source": [
        "# Problem 4: 1D convolutional layer class that does not limit the number of channels"
      ]
    },
    {
      "cell_type": "code",
      "execution_count": 14,
      "metadata": {
        "colab": {
          "base_uri": "https://localhost:8080/"
        },
        "id": "MwlT42tatxm1",
        "outputId": "9863f664-bd11-4cff-d59f-222a29c70abc"
      },
      "outputs": [
        {
          "name": "stdout",
          "output_type": "stream",
          "text": [
            "x.shape: (2, 4)\n",
            "w.shape: (3, 2, 3)\n",
            "b.shape: (3,)\n"
          ]
        }
      ],
      "source": [
        "x = np.array([[1, 2, 3, 4],\n",
        "              [2, 3, 4, 5]])\n",
        "\n",
        "w = np.array([[[1, 1, 2],\n",
        "               [2, 1, 1]],\n",
        "              [[2, 1, 1],\n",
        "               [1, 1, 1]],\n",
        "              [[1, 1, 1],\n",
        "               [1, 1, 1]],])\n",
        "\n",
        "b = np.array([1, 2, 3])\n",
        "print('x.shape:',x.shape)\n",
        "print('w.shape:',w.shape)\n",
        "print('b.shape:',b.shape)"
      ]
    },
    {
      "cell_type": "code",
      "execution_count": 15,
      "metadata": {
        "colab": {
          "base_uri": "https://localhost:8080/"
        },
        "id": "QNYbpETNuBk3",
        "outputId": "3183fed7-b42c-4a04-ef6e-e1a68fd8e3f1"
      },
      "outputs": [
        {
          "name": "stdout",
          "output_type": "stream",
          "text": [
            "[[21. 29.]\n",
            " [18. 25.]\n",
            " [18. 24.]]\n"
          ]
        }
      ],
      "source": [
        "# Forward\n",
        "a = np.zeros([3,output_shape(4,3,0,1)])\n",
        "\n",
        "for och in range(w.shape[0]):\n",
        "    for ch in range(w.shape[1]):\n",
        "            for m in range(a.shape[1]):\n",
        "                a[och,m] += np.sum(x[ch,m:m+w.shape[2]]*w[och,ch,:])\n",
        "a += b[:,None]\n",
        "print(a)"
      ]
    },
    {
      "cell_type": "code",
      "execution_count": 16,
      "metadata": {
        "colab": {
          "base_uri": "https://localhost:8080/"
        },
        "id": "rV5P3g7YuIJY",
        "outputId": "fa995e72-9012-4dc4-eaab-42c3f70889eb"
      },
      "outputs": [
        {
          "name": "stdout",
          "output_type": "stream",
          "text": [
            "delta_a:\n",
            " [[ 9 11]\n",
            " [32 35]\n",
            " [52 56]]\n",
            "delta_a.shape:\n",
            " (3, 2)\n"
          ]
        }
      ],
      "source": [
        "# Backward\n",
        "delta_a = np.array([[9, 11],\n",
        "                    [32,35],\n",
        "                    [52,56]])\n",
        "print('delta_a:\\n',delta_a)\n",
        "print('delta_a.shape:\\n',delta_a.shape)"
      ]
    },
    {
      "cell_type": "code",
      "execution_count": 17,
      "metadata": {
        "colab": {
          "base_uri": "https://localhost:8080/"
        },
        "id": "QqfbCF8ouL2l",
        "outputId": "067f49c6-93c7-4f57-a507-62ce65f96ca2"
      },
      "outputs": [
        {
          "name": "stdout",
          "output_type": "stream",
          "text": [
            "delta_b:\n",
            " [ 20  67 108]\n"
          ]
        }
      ],
      "source": [
        "# Backward bias\n",
        "delta_b = np.sum(delta_a,axis=1)\n",
        "print('delta_b:\\n',delta_b)"
      ]
    },
    {
      "cell_type": "code",
      "execution_count": 18,
      "metadata": {
        "colab": {
          "base_uri": "https://localhost:8080/"
        },
        "id": "ksV5nA8DuOMw",
        "outputId": "1b510055-edb2-44c4-dac8-d425e3810dff"
      },
      "outputs": [
        {
          "name": "stdout",
          "output_type": "stream",
          "text": [
            "delta_w:\n",
            " [[[ 31.  51.  71.]\n",
            "  [ 51.  71.  91.]]\n",
            "\n",
            " [[102. 169. 236.]\n",
            "  [169. 236. 303.]]\n",
            "\n",
            " [[164. 272. 380.]\n",
            "  [272. 380. 488.]]]\n"
          ]
        }
      ],
      "source": [
        "# Backward filter\n",
        "delta_w = np.zeros([3,2,3])\n",
        "\n",
        "for och in range(w.shape[0]):\n",
        "    for ich in range(w.shape[1]):\n",
        "        for fs in range(w.shape[2]):\n",
        "            for m in range(2):\n",
        "                #print(x[ich,fs+m])\n",
        "                #print(delta_a[och,m])\n",
        "                #print(x[ich,fs+m]*delta_a[och,m])\n",
        "                delta_w[och,ich,fs] += (x[ich,fs+m]*delta_a[och,m])\n",
        "print('delta_w:\\n',delta_w)"
      ]
    },
    {
      "cell_type": "code",
      "execution_count": 19,
      "metadata": {
        "colab": {
          "base_uri": "https://localhost:8080/"
        },
        "id": "nSU6IrZnuPQ6",
        "outputId": "0e795529-fdf8-4ed8-b895-4e6fc253843b"
      },
      "outputs": [
        {
          "name": "stdout",
          "output_type": "stream",
          "text": [
            "delta_x:\n",
            " [[125. 230. 204. 113.]\n",
            " [102. 206. 195. 102.]]\n"
          ]
        }
      ],
      "source": [
        "# Backward Error to convey to next layer\n",
        "delta_x = np.zeros([2,4])\n",
        "\n",
        "for och in range(w.shape[0]):\n",
        "    for ich in range(w.shape[1]):\n",
        "        for fs in range(w.shape[2]):\n",
        "            for m in range(2):\n",
        "                #print(w[och,ich,fs])\n",
        "                #print(delta_a[och,m])\n",
        "                #print(w[och,ich,fs]*delta_a[och,m])\n",
        "                delta_x[ich,fs+m] += w[och,ich,fs]*delta_a[och,m]\n",
        "\n",
        "print('delta_x:\\n',delta_x)"
      ]
    },
    {
      "cell_type": "markdown",
      "metadata": {
        "id": "6g24Q2Ceumjy"
      },
      "source": [
        "# Problem 6:(Advanced Problem) Dealing with Mini-Batches"
      ]
    },
    {
      "cell_type": "code",
      "execution_count": 20,
      "metadata": {
        "colab": {
          "base_uri": "https://localhost:8080/"
        },
        "id": "IKQ7dlUUulD5",
        "outputId": "cf843599-a4b2-40c0-bae6-20beb4c7be63"
      },
      "outputs": [
        {
          "name": "stdout",
          "output_type": "stream",
          "text": [
            "x.shape: (2, 2, 4)\n",
            "w.shape: (3, 2, 3)\n",
            "b.shape: (3,)\n"
          ]
        }
      ],
      "source": [
        "# Mini-batch support\n",
        "x = np.array([[1, 2, 3, 4],\n",
        "              [2, 3, 4, 5]]*2).reshape(2,2,4)\n",
        "\n",
        "w = np.array([[[1, 1, 2],\n",
        "               [2, 1, 1]],\n",
        "              [[2, 1, 1],\n",
        "               [1, 1, 1]],\n",
        "              [[1, 1, 1],\n",
        "               [1, 1, 1]],])\n",
        "\n",
        "b = np.array([1, 2, 3])\n",
        "print('x.shape:',x.shape)\n",
        "print('w.shape:',w.shape)\n",
        "print('b.shape:',b.shape)"
      ]
    },
    {
      "cell_type": "code",
      "execution_count": 21,
      "metadata": {
        "colab": {
          "base_uri": "https://localhost:8080/"
        },
        "id": "eJclxa9iuswd",
        "outputId": "ae2c3b14-b90d-4e7b-86bb-3a7fea6a953c"
      },
      "outputs": [
        {
          "name": "stdout",
          "output_type": "stream",
          "text": [
            "delta_a:\n",
            " [[[ 9 11]\n",
            "  [32 35]\n",
            "  [52 56]]\n",
            "\n",
            " [[ 9 11]\n",
            "  [32 35]\n",
            "  [52 56]]]\n",
            "delta_a.shape:\n",
            " (2, 3, 2)\n"
          ]
        }
      ],
      "source": [
        "# Backward\n",
        "delta_a = np.array([[9, 11],\n",
        "                    [32,35],\n",
        "                    [52,56]]*2).reshape(2,3,2)\n",
        "print('delta_a:\\n',delta_a)\n",
        "print('delta_a.shape:\\n',delta_a.shape)"
      ]
    },
    {
      "cell_type": "code",
      "execution_count": 22,
      "metadata": {
        "id": "g5Fb7I1_uwkp"
      },
      "outputs": [],
      "source": [
        "# Size\n",
        "N,INC,Feature = x.shape\n",
        "OCH,INC,FS = w.shape\n",
        "A = output_shape(Feature,FS,0,1)"
      ]
    },
    {
      "cell_type": "code",
      "execution_count": 23,
      "metadata": {
        "colab": {
          "base_uri": "https://localhost:8080/"
        },
        "id": "zvSykiNEuxZF",
        "outputId": "c401bd51-ad19-4308-d8b1-134f8824336d"
      },
      "outputs": [
        {
          "name": "stdout",
          "output_type": "stream",
          "text": [
            "(2, 3, 2)\n",
            "[[[21. 29.]\n",
            "  [18. 25.]\n",
            "  [18. 24.]]\n",
            "\n",
            " [[21. 29.]\n",
            "  [18. 25.]\n",
            "  [18. 24.]]]\n"
          ]
        }
      ],
      "source": [
        "# Forward\n",
        "a = np.zeros([N,OCH,A])\n",
        "\n",
        "for n in range(N):\n",
        "    for och in range(OCH):\n",
        "        for ich in range(INC):\n",
        "            for m in range(A):\n",
        "                a[n,och,m] += np.sum(x[n,ich,m:m+FS]*w[och,ich,:])\n",
        "\n",
        "a += b[:,None]\n",
        "print(a.shape)\n",
        "print(a)"
      ]
    },
    {
      "cell_type": "code",
      "execution_count": 24,
      "metadata": {
        "colab": {
          "base_uri": "https://localhost:8080/"
        },
        "id": "WJabdXcmu1yM",
        "outputId": "c3de7d85-33a7-4037-b116-250594d8460a"
      },
      "outputs": [
        {
          "name": "stdout",
          "output_type": "stream",
          "text": [
            "delta_b:\n",
            " [ 20.  67. 108.]\n"
          ]
        }
      ],
      "source": [
        "# Backward bias\n",
        "delta_b = np.mean(np.sum(delta_a,axis=2),axis=0)\n",
        "print('delta_b:\\n',delta_b)"
      ]
    },
    {
      "cell_type": "code",
      "execution_count": 25,
      "metadata": {
        "colab": {
          "base_uri": "https://localhost:8080/"
        },
        "id": "1jx1Mv3-u3Dm",
        "outputId": "53bcf7bb-e476-4a51-cc18-e5af444c7e1b"
      },
      "outputs": [
        {
          "name": "stdout",
          "output_type": "stream",
          "text": [
            "delta_w:\n",
            " [[[ 62. 102. 142.]\n",
            "  [102. 142. 182.]]\n",
            "\n",
            " [[204. 338. 472.]\n",
            "  [338. 472. 606.]]\n",
            "\n",
            " [[328. 544. 760.]\n",
            "  [544. 760. 976.]]]\n"
          ]
        }
      ],
      "source": [
        "# Backward filter\n",
        "delta_w = np.zeros([3,2,3])\n",
        "\n",
        "for n in range(N):\n",
        "    for och in range(OCH):\n",
        "        for ich in range(INC):\n",
        "            for fs in range(FS):\n",
        "                for m in range(A):\n",
        "                    delta_w[och,ich,fs] += x[n,ich,fs+m]*delta_a[n,och,m]\n",
        "print('delta_w:\\n',delta_w)"
      ]
    },
    {
      "cell_type": "code",
      "execution_count": 26,
      "metadata": {
        "colab": {
          "base_uri": "https://localhost:8080/"
        },
        "id": "1MNo70Gju533",
        "outputId": "2b56d6d8-2d11-4a39-8a6c-4b8c26d3f382"
      },
      "outputs": [
        {
          "name": "stdout",
          "output_type": "stream",
          "text": [
            "delta_x:\n",
            " [[[125. 230. 204. 113.]\n",
            "  [102. 206. 195. 102.]]\n",
            "\n",
            " [[125. 230. 204. 113.]\n",
            "  [102. 206. 195. 102.]]]\n"
          ]
        }
      ],
      "source": [
        "# Backward Error to convey to next layer\n",
        "delta_x = np.zeros(x.shape)\n",
        "\n",
        "for n in range(N):\n",
        "    for och in range(OCH):\n",
        "        for ich in range(INC):\n",
        "            for fs in range(FS):\n",
        "                for m in range(A):\n",
        "                    delta_x[n,ich,fs+m] += w[och,ich,fs]*delta_a[n,och,m]\n",
        "\n",
        "print('delta_x:\\n',delta_x)"
      ]
    },
    {
      "cell_type": "markdown",
      "metadata": {
        "id": "-Oq5BQyCvI-4"
      },
      "source": [
        "# Problem 8: Training and Estimation"
      ]
    },
    {
      "cell_type": "code",
      "execution_count": 27,
      "metadata": {
        "colab": {
          "base_uri": "https://localhost:8080/"
        },
        "id": "JFlfobRzvIal",
        "outputId": "3105b382-62e0-4a7f-d300-6720d5874a53"
      },
      "outputs": [
        {
          "name": "stdout",
          "output_type": "stream",
          "text": [
            "Downloading data from https://storage.googleapis.com/tensorflow/tf-keras-datasets/mnist.npz\n",
            "11490434/11490434 [==============================] - 0s 0us/step\n"
          ]
        }
      ],
      "source": [
        "# Download the MNIST dataset\n",
        "from keras.datasets import mnist\n",
        "(X, y), (X_test, y_test) = mnist.load_data()"
      ]
    },
    {
      "cell_type": "code",
      "execution_count": 29,
      "metadata": {
        "colab": {
          "base_uri": "https://localhost:8080/"
        },
        "id": "UpDcNH-cvQu5",
        "outputId": "0cafee7b-39a8-4ed4-fbe5-26c811141bdf"
      },
      "outputs": [
        {
          "name": "stdout",
          "output_type": "stream",
          "text": [
            "(60000, 28, 28)\n",
            "(60000, 28, 28)\n",
            "uint8\n"
          ]
        }
      ],
      "source": [
        "# Check the data\n",
        "print(X.shape) # (60000, 28, 28)\n",
        "print(X.shape) # (10000, 28, 28)\n",
        "print(X[0].dtype) # uint8"
      ]
    },
    {
      "cell_type": "code",
      "execution_count": 30,
      "metadata": {
        "colab": {
          "base_uri": "https://localhost:8080/"
        },
        "id": "BjqcyRcWvxWZ",
        "outputId": "803437f2-d195-4dcc-b2a2-114102c376d2"
      },
      "outputs": [
        {
          "name": "stdout",
          "output_type": "stream",
          "text": [
            "(60000, 784)\n",
            "(10000, 784)\n"
          ]
        }
      ],
      "source": [
        "# Smoothing\n",
        "X_flat = X.reshape(-1, 784)\n",
        "X_test_flat = X_test.reshape(-1, 784)\n",
        "print(X_flat.shape)\n",
        "print(X_test_flat.shape)"
      ]
    },
    {
      "cell_type": "code",
      "execution_count": 32,
      "metadata": {
        "colab": {
          "base_uri": "https://localhost:8080/"
        },
        "id": "YKTVx_pGv9kE",
        "outputId": "087ed6f2-f1a8-44cc-d1cf-e5b91a3091d7"
      },
      "outputs": [
        {
          "name": "stdout",
          "output_type": "stream",
          "text": [
            "1.0\n",
            "0.0\n"
          ]
        }
      ],
      "source": [
        "# Type conversion, normalization\n",
        "X_flat = X_flat.astype(np.float64)\n",
        "X_test_flat = X_test_flat.astype(np.float64)\n",
        "X_flat /= 255\n",
        "X_test_flat /= 255\n",
        "print(X_flat.max()) # 1.0\n",
        "print(X_flat.min()) # 0.0"
      ]
    },
    {
      "cell_type": "code",
      "execution_count": 33,
      "metadata": {
        "colab": {
          "base_uri": "https://localhost:8080/"
        },
        "id": "GBrAVtwwwOn_",
        "outputId": "d891a54b-8b24-4ccc-8d9e-87b5dae0fed2"
      },
      "outputs": [
        {
          "name": "stdout",
          "output_type": "stream",
          "text": [
            "(60000,)\n",
            "(60000, 10)\n",
            "float64\n"
          ]
        },
        {
          "name": "stderr",
          "output_type": "stream",
          "text": [
            "/usr/local/lib/python3.10/dist-packages/sklearn/preprocessing/_encoders.py:868: FutureWarning: `sparse` was renamed to `sparse_output` in version 1.2 and will be removed in 1.4. `sparse_output` is ignored unless you leave `sparse` to its default value.\n",
            "  warnings.warn(\n"
          ]
        }
      ],
      "source": [
        "# One-hot encoding of correct label value\n",
        "from sklearn.preprocessing import OneHotEncoder\n",
        "\n",
        "enc = OneHotEncoder(handle_unknown='ignore', sparse=False)\n",
        "y_one_hot = enc.fit_transform(y[:, np.newaxis])\n",
        "y_test_one_hot = enc.transform(y_test[:, np.newaxis])\n",
        "print(y.shape) # (60000,)\n",
        "print(y_one_hot.shape) # (60000, 10)\n",
        "print(y_one_hot.dtype) # float64"
      ]
    },
    {
      "cell_type": "code",
      "execution_count": 34,
      "metadata": {
        "colab": {
          "base_uri": "https://localhost:8080/"
        },
        "id": "_JiQbjqwwdu6",
        "outputId": "ff660bf1-af34-4a5d-8f4e-a5f11e65dcb4"
      },
      "outputs": [
        {
          "name": "stdout",
          "output_type": "stream",
          "text": [
            "(48000, 784)\n",
            "(12000, 784)\n",
            "(48000, 10)\n",
            "(12000, 10)\n"
          ]
        }
      ],
      "source": [
        "# Split into training data and validation data\n",
        "from sklearn.model_selection import train_test_split\n",
        "\n",
        "X_train, X_valid, y_train, y_valid = train_test_split(X_flat, y_one_hot, test_size=0.2)\n",
        "print(X_train.shape)\n",
        "print(X_valid.shape)\n",
        "print(y_train.shape)\n",
        "print(y_valid.shape)"
      ]
    },
    {
      "cell_type": "markdown",
      "metadata": {
        "id": "ULKJEE00wxz-"
      },
      "source": [
        "Learning and Estimation"
      ]
    },
    {
      "cell_type": "code",
      "execution_count": 45,
      "metadata": {
        "id": "9FEFRyV-wvpN"
      },
      "outputs": [],
      "source": [
        "NN = {0:FC(15640, 400, HeInitializer(), AdaGrad(0.01), ReLU()),\n",
        "      1:FC(400, 200, HeInitializer(), AdaGrad(0.01), ReLU()),\n",
        "      2:FC(200, 10, SimpleInitializer(0.01), AdaGrad(0.01), Softmax()),\n",
        "     }"
      ]
    },
    {
      "cell_type": "code",
      "execution_count": 46,
      "metadata": {
        "id": "2yA-Ju6JxJby"
      },
      "outputs": [],
      "source": [
        "CNN = {0:SimpleConv1d(out_channel=20, in_channel=1, filter_size=3,\n",
        "                      padding_size=0, stride_size=1,\n",
        "                      initializer=SimpleInitializerConv1d(0.01),\n",
        "                      optimizer=SGD(0.01),\n",
        "                      activation=ReLU()),\n",
        "      }"
      ]
    },
    {
      "cell_type": "code",
      "execution_count": 49,
      "metadata": {
        "id": "X97zxgM9yMBJ"
      },
      "outputs": [],
      "source": [
        "cnn1 = Scratch1dCNNClassifier(NN=NN,CNN=CNN,n_epoch=10,n_batch=100,verbose=False)\n",
        "\n",
        "cnn1.fit(X_train[0:1000],y_train[0:1000])\n",
        "y_pred = cnn1.predict(X_valid[0:500])"
      ]
    },
    {
      "cell_type": "code",
      "execution_count": 52,
      "metadata": {
        "colab": {
          "base_uri": "https://localhost:8080/"
        },
        "id": "ESGDThvwy7Cc",
        "outputId": "0ed531c2-9dee-475a-a8e3-6794a12b0fef"
      },
      "outputs": [
        {
          "name": "stdout",
          "output_type": "stream",
          "text": [
            "accuracy:0.904\n"
          ]
        }
      ],
      "source": [
        "# Positive solution rate\n",
        "accuracy = accuracy_score(np.argmax(y_valid[0:500],axis=1), y_pred)\n",
        "print('accuracy:{:.3f}'.format(accuracy))"
      ]
    },
    {
      "cell_type": "code",
      "execution_count": 51,
      "metadata": {
        "colab": {
          "base_uri": "https://localhost:8080/",
          "height": 626
        },
        "id": "cRjeHGsFy9mx",
        "outputId": "1f15cb38-f93e-4fa0-a1b1-c8ddaf5f5b7b"
      },
      "outputs": [
        {
          "name": "stderr",
          "output_type": "stream",
          "text": [
            "<ipython-input-51-67c511188024>:4: MatplotlibDeprecationWarning: Auto-removal of overlapping axes is deprecated since 3.6 and will be removed two minor releases later; explicitly call ax.remove() as needed.\n",
            "  plt.subplot(1,2,1)\n"
          ]
        },
        {
          "data": {
            "image/png": "[encoded data removed]",
            "text/plain": [
              "<Figure size 1600x600 with 2 Axes>"
            ]
          },
          "metadata": {},
          "output_type": "display_data"
        }
      ],
      "source": [
        "# Visualize the loss function for each epoch\n",
        "plt.rcParams[\"font.size\"] = 20\n",
        "fig=plt.subplots(figsize=(16,6))\n",
        "plt.subplot(1,2,1)\n",
        "plt.title('LOSS')\n",
        "plt.plot(cnn1.log_loss,'bo--')\n",
        "\n",
        "plt.subplot(1,2,2)\n",
        "plt.title('ACC')\n",
        "plt.plot(cnn1.log_acc,'rs--');"
      ]
    }
  ],
  "metadata": {
    "colab": {
      "authorship_tag": "ABX9TyNEHIm7t0O5qrDywRc6hXBy",
      "include_colab_link": true,
      "provenance": []
    },
    "kernelspec": {
      "display_name": "Python 3",
      "name": "python3"
    },
    "language_info": {
      "name": "python"
    }
  },
  "nbformat": 4,
  "nbformat_minor": 0
}
