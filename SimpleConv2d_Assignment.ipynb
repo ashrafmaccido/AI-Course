{
  "cells": [
    {
      "cell_type": "markdown",
      "metadata": {
        "id": "iTt7dJwKNTD_"
      },
      "source": [
        "# Dataset Preparation"
      ]
    },
    {
      "cell_type": "code",
      "execution_count": null,
      "metadata": {
        "id": "CKpJ0HshwK59"
      },
      "outputs": [],
      "source": [
        "# Import\n",
        "import numpy as np\n",
        "import matplotlib.pyplot as plt\n",
        "\n",
        "# Evaluation index\n",
        "from sklearn.metrics import accuracy_score"
      ]
    },
    {
      "cell_type": "code",
      "execution_count": null,
      "metadata": {
        "colab": {
          "base_uri": "https://localhost:8080/"
        },
        "id": "tQ6ECcWdwK5-",
        "outputId": "185f4c1b-ac1b-4c3c-e32c-c3bef5b2e452"
      },
      "outputs": [
        {
          "name": "stdout",
          "output_type": "stream",
          "text": [
            "Downloading data from https://storage.googleapis.com/tensorflow/tf-keras-datasets/mnist.npz\n",
            "11490434/11490434 [==============================] - 0s 0us/step\n"
          ]
        }
      ],
      "source": [
        "# Download the MNIST dataset\n",
        "from keras.datasets import mnist\n",
        "(X, y), (X_test, y_test) = mnist.load_data()"
      ]
    },
    {
      "cell_type": "code",
      "execution_count": null,
      "metadata": {
        "colab": {
          "base_uri": "https://localhost:8080/"
        },
        "id": "ZqBOBuCiwK5-",
        "outputId": "d72deb9c-0777-493b-b9b4-d261f0a436d8"
      },
      "outputs": [
        {
          "name": "stdout",
          "output_type": "stream",
          "text": [
            "(60000, 28, 28)\n",
            "(60000, 28, 28)\n",
            "uint8\n"
          ]
        }
      ],
      "source": [
        "# Check the data\n",
        "print(X.shape) # (60000, 28, 28)\n",
        "print(X.shape) # (10000, 28, 28)\n",
        "print(X[0].dtype) # uint8"
      ]
    },
    {
      "cell_type": "code",
      "execution_count": null,
      "metadata": {
        "colab": {
          "base_uri": "https://localhost:8080/"
        },
        "id": "A2RmCiqawK6A",
        "outputId": "febc2a07-cb8a-44b7-f87d-3595f07337c8"
      },
      "outputs": [
        {
          "name": "stdout",
          "output_type": "stream",
          "text": [
            "1.0\n",
            "0.0\n"
          ]
        }
      ],
      "source": [
        "# Type conversion, normalization\n",
        "X = X.astype(np.float64)\n",
        "X_test = X_test.astype(np.float64)\n",
        "X /= 255\n",
        "X_test /= 255\n",
        "print(X.max()) # 1.0\n",
        "print(X.min()) # 0.0"
      ]
    },
    {
      "cell_type": "code",
      "execution_count": null,
      "metadata": {
        "colab": {
          "base_uri": "https://localhost:8080/"
        },
        "id": "e0uQj2znwK6A",
        "outputId": "bbe38990-4770-433f-96d4-172926b299bb"
      },
      "outputs": [
        {
          "name": "stdout",
          "output_type": "stream",
          "text": [
            "(60000,)\n",
            "(60000, 10)\n",
            "float64\n"
          ]
        },
        {
          "name": "stderr",
          "output_type": "stream",
          "text": [
            "/usr/local/lib/python3.10/dist-packages/sklearn/preprocessing/_encoders.py:868: FutureWarning: `sparse` was renamed to `sparse_output` in version 1.2 and will be removed in 1.4. `sparse_output` is ignored unless you leave `sparse` to its default value.\n",
            "  warnings.warn(\n"
          ]
        }
      ],
      "source": [
        "# One-hot encoding of correct label value\n",
        "from sklearn.preprocessing import OneHotEncoder\n",
        "\n",
        "enc = OneHotEncoder(handle_unknown='ignore', sparse=False)\n",
        "y_one_hot = enc.fit_transform(y[:, np.newaxis])\n",
        "y_test_one_hot = enc.transform(y_test[:, np.newaxis])\n",
        "print(y.shape) # (60000,)\n",
        "print(y_one_hot.shape) # (60000, 10)\n",
        "print(y_one_hot.dtype) # float64"
      ]
    },
    {
      "cell_type": "code",
      "execution_count": null,
      "metadata": {
        "colab": {
          "base_uri": "https://localhost:8080/"
        },
        "id": "QpkwfoPswK6B",
        "outputId": "48688878-1c0a-4024-8482-c453a021a97c"
      },
      "outputs": [
        {
          "name": "stdout",
          "output_type": "stream",
          "text": [
            "(48000, 28, 28)\n",
            "(12000, 28, 28)\n",
            "(48000, 10)\n",
            "(12000, 10)\n"
          ]
        }
      ],
      "source": [
        "# Split into training data and validation data\n",
        "from sklearn.model_selection import train_test_split\n",
        "\n",
        "X_train, X_valid, y_train, y_valid = train_test_split(X, y_one_hot, test_size=0.2)\n",
        "print(X_train.shape)\n",
        "print(X_valid.shape)\n",
        "print(y_train.shape)\n",
        "print(y_valid.shape)"
      ]
    },
    {
      "cell_type": "markdown",
      "metadata": {
        "id": "zEIcp2bPwK6C"
      },
      "source": [
        "# NN Classes"
      ]
    },
    {
      "cell_type": "markdown",
      "metadata": {
        "id": "6L1YB1QfO19C"
      },
      "source": [
        "All Binding Layers"
      ]
    },
    {
      "cell_type": "code",
      "execution_count": null,
      "metadata": {
        "id": "duKjHNocwK6C"
      },
      "outputs": [],
      "source": [
        "class FC:\n",
        "    \"\"\"\n",
        "    Fully connected layers from number of nodes n_nodes1 to n_nodes2\n",
        "    Parameters\n",
        "    ----------\n",
        "    n_nodes1 : int\n",
        "      Number of nodes in the previous layer\n",
        "    n_nodes2 : int\n",
        "      Number of nodes in subsequent layers\n",
        "    initializer : Instances of initialization methods\n",
        "    optimizer : Instances of optimization methods\n",
        "    \"\"\"\n",
        "    def __init__(self, n_nodes1, n_nodes2, initializer, optimizer, activation):\n",
        "\n",
        "        self.n_nodes1 = n_nodes1\n",
        "        self.n_nodes2 = n_nodes2\n",
        "        self.initializer = initializer\n",
        "        self.optimizer = optimizer\n",
        "        self.activation = activation\n",
        "        # Initialize.\n",
        "        # Use the initializer method to initialize self.W and self.B\n",
        "        self.W = self.initializer.W(self.n_nodes1,self.n_nodes2)\n",
        "        self.B = self.initializer.B(self.n_nodes2)\n",
        "\n",
        "    def forward(self, X):\n",
        "        \"\"\"\n",
        "        Forward\n",
        "        Parameters\n",
        "        ----------\n",
        "        X : ndarray of the following form, shape (batch_size, n_nodes1)\n",
        "            Input\n",
        "        Returns\n",
        "        ----------\n",
        "        A : ndarray of the following form, shape (batch_size, n_nodes2)\n",
        "            Output\n",
        "        \"\"\"\n",
        "        self.X = X\n",
        "        self.A = np.dot(self.X,self.W) + self.B\n",
        "\n",
        "        return self.activation.forward(self.A)\n",
        "\n",
        "    def backward(self, dZ):\n",
        "        \"\"\"\n",
        "        Backward\n",
        "        Parameters\n",
        "        ----------\n",
        "        dA : ndarray of the following form, shape (batch_size, n_nodes2)\n",
        "            The gradient flowed in from behind.\n",
        "        Returns\n",
        "        ----------\n",
        "        dZ : ndarray of the following form, shape (batch_size, n_nodes1)\n",
        "            forward slope\n",
        "        \"\"\"\n",
        "        dA = self.activation.backward(dZ)\n",
        "        self.dB = np.mean(dA,axis=0)\n",
        "        self.dW = np.dot(self.X.T,dA)/len(self.X)\n",
        "        dZ = np.dot(dA,self.W.T)\n",
        "\n",
        "        # Update\n",
        "        self = self.optimizer.update(self)\n",
        "\n",
        "        return dZ"
      ]
    },
    {
      "cell_type": "markdown",
      "metadata": {
        "id": "rmW0YtuQwK6C"
      },
      "source": [
        "Initialization"
      ]
    },
    {
      "cell_type": "code",
      "execution_count": null,
      "metadata": {
        "id": "uD3iuDwMwK6D"
      },
      "outputs": [],
      "source": [
        "class SimpleInitializerConv2d:\n",
        "    \"\"\"\n",
        "    Simple initialization with Gaussian distribution\n",
        "    Parameters\n",
        "    ----------\n",
        "    sigma : float\n",
        "      Standard deviation of Gaussian distribution\n",
        "    \"\"\"\n",
        "    def __init__(self, sigma=0.01):\n",
        "        self.sigma = sigma\n",
        "\n",
        "    def W(self, F, C, FH, FW):\n",
        "        \"\"\"\n",
        "        Initializing weights\n",
        "        Parameters\n",
        "        ----------\n",
        "\n",
        "        Returns\n",
        "        ----------\n",
        "        W : weight\n",
        "        \"\"\"\n",
        "        return self.sigma * np.random.randn(F,C,FH,FW)\n",
        "\n",
        "    def B(self, F):\n",
        "        \"\"\"\n",
        "        Bias initialization\n",
        "        Parameters\n",
        "        ----------\n",
        "\n",
        "        Returns\n",
        "        ----------\n",
        "        B : bias\n",
        "        \"\"\"\n",
        "        return np.zeros(F)"
      ]
    },
    {
      "cell_type": "code",
      "execution_count": null,
      "metadata": {
        "id": "AgMADoK2wK6D"
      },
      "outputs": [],
      "source": [
        "class SimpleInitializer:\n",
        "    \"\"\"\n",
        "    Simple initialization with Gaussian distribution\n",
        "    Parameters\n",
        "    ----------\n",
        "    sigma : float\n",
        "      Standard deviation of Gaussian distribution\n",
        "    \"\"\"\n",
        "    def __init__(self, sigma):\n",
        "        self.sigma = sigma\n",
        "\n",
        "    def W(self, n_nodes1, n_nodes2):\n",
        "        \"\"\"\n",
        "        Initializing weights\n",
        "        Parameters\n",
        "        ----------\n",
        "        n_nodes1 : int\n",
        "          Number of nodes in the previous layer\n",
        "        n_nodes2 : int\n",
        "          Number of nodes in subsequent layers\n",
        "\n",
        "        Returns\n",
        "        ----------\n",
        "        W : weight\n",
        "        \"\"\"\n",
        "        return self.sigma * np.random.randn(n_nodes1, n_nodes2)\n",
        "\n",
        "    def B(self, n_nodes2):\n",
        "        \"\"\"\n",
        "        Bias initialization\n",
        "        Parameters\n",
        "        ----------\n",
        "        n_nodes2 : int\n",
        "          Number of nodes in subsequent layers\n",
        "\n",
        "        Returns\n",
        "        ----------\n",
        "        B : bias\n",
        "        \"\"\"\n",
        "        return np.zeros(n_nodes2)"
      ]
    },
    {
      "cell_type": "code",
      "execution_count": null,
      "metadata": {
        "id": "ILn8pHVEwK6D"
      },
      "outputs": [],
      "source": [
        "class HeInitializer():\n",
        "    \"\"\"\n",
        "    Initialization of weights by He\n",
        "    \"\"\"\n",
        "    def __init__(self):\n",
        "        pass\n",
        "\n",
        "    def W(self, n_nodes1, n_nodes2):\n",
        "        \"\"\"\n",
        "        Initializing weights\n",
        "        Parameters\n",
        "        ----------\n",
        "        n_nodes1 : int\n",
        "          Number of nodes in the previous layer\n",
        "        n_nodes2 : int\n",
        "          Number of nodes in subsequent layers\n",
        "\n",
        "        Returns\n",
        "        ----------\n",
        "        W : weight\n",
        "        \"\"\"\n",
        "        return np.random.randn(n_nodes1, n_nodes2)*np.sqrt(2/n_nodes1)\n",
        "\n",
        "    def B(self, n_nodes2):\n",
        "        \"\"\"\n",
        "        Bias initialization\n",
        "        Parameters\n",
        "        ----------\n",
        "        n_nodes2 : int\n",
        "          Number of nodes in subsequent layers\n",
        "\n",
        "        Returns\n",
        "        ----------\n",
        "        B : bias\n",
        "        \"\"\"\n",
        "        return np.zeros(n_nodes2)"
      ]
    },
    {
      "cell_type": "markdown",
      "metadata": {
        "id": "rNM2Pm7ywK6E"
      },
      "source": [
        "Optimization"
      ]
    },
    {
      "cell_type": "code",
      "execution_count": null,
      "metadata": {
        "id": "EiF2CLhvwK6E"
      },
      "outputs": [],
      "source": [
        "class SGD:\n",
        "    \"\"\"\n",
        "    stochastic gradient descent method\n",
        "    Parameters\n",
        "    ----------\n",
        "    lr : learning rate\n",
        "    \"\"\"\n",
        "    def __init__(self, lr=0.01):\n",
        "        self.lr = lr\n",
        "\n",
        "    def update(self, layer):\n",
        "        \"\"\"\n",
        "        Updating the weights and biases of a layer\n",
        "        Parameters\n",
        "        ----------\n",
        "        layer : An instance of the layer before the update\n",
        "        \"\"\"\n",
        "        layer.W -= self.lr*layer.dW\n",
        "        layer.B -= self.lr*layer.dB\n",
        "\n",
        "        return layer"
      ]
    },
    {
      "cell_type": "code",
      "execution_count": null,
      "metadata": {
        "id": "--IzRaSSwK6E"
      },
      "outputs": [],
      "source": [
        "class AdaGrad:\n",
        "    \"\"\"\n",
        "    stochastic gradient descent method\n",
        "    Parameters\n",
        "    ----------\n",
        "    lr : learning rate\n",
        "    \"\"\"\n",
        "    def __init__(self, lr):\n",
        "        self.lr = lr\n",
        "        self.hW = 0\n",
        "        self.hB = 0\n",
        "\n",
        "    def update(self, layer):\n",
        "        \"\"\"\n",
        "        Updating the weights and biases of a layer\n",
        "        Parameters\n",
        "        ----------\n",
        "        layer : An instance of the layer before the update\n",
        "        \"\"\"\n",
        "        self.hW += layer.dW*layer.dW\n",
        "        self.hB = layer.dB*layer.dB\n",
        "\n",
        "        layer.W -= self.lr*layer.dW/(np.sqrt(self.hW) +1e-7)\n",
        "        layer.B -= self.lr*layer.dB/(np.sqrt(self.hB) +1e-7)\n",
        "\n",
        "        return layer"
      ]
    },
    {
      "cell_type": "markdown",
      "metadata": {
        "id": "GeRr3GtWwK6E"
      },
      "source": [
        "Activation function"
      ]
    },
    {
      "cell_type": "code",
      "execution_count": null,
      "metadata": {
        "id": "PcVZwcE_wK6F"
      },
      "outputs": [],
      "source": [
        "class ReLU():\n",
        "    \"\"\"\n",
        "    Activation function : ReLU function\n",
        "    \"\"\"\n",
        "    def __init__(self):\n",
        "        pass\n",
        "\n",
        "    def forward(self,A):\n",
        "        self.A = A\n",
        "        return np.maximum(self.A,0)\n",
        "\n",
        "    def backward(self,dZ):\n",
        "\n",
        "        return np.where(self.A>0,dZ,0)"
      ]
    },
    {
      "cell_type": "code",
      "execution_count": null,
      "metadata": {
        "id": "Zc3bzSARwK6F"
      },
      "outputs": [],
      "source": [
        "class Softmax():\n",
        "    \"\"\"\n",
        "    Activation Function : Softmax Function\n",
        "    \"\"\"\n",
        "    def __init__(self):\n",
        "        pass\n",
        "\n",
        "    def forward(self,A):\n",
        "\n",
        "        return np.exp(A-np.max(A))/np.sum(np.exp(A-np.max(A)),axis=1,keepdims=True)\n",
        "\n",
        "    def backward(self,dZ):\n",
        "        return dZ"
      ]
    },
    {
      "cell_type": "markdown",
      "metadata": {
        "id": "gnOfhzHiwK6F"
      },
      "source": [
        "Mini-batch"
      ]
    },
    {
      "cell_type": "code",
      "execution_count": null,
      "metadata": {
        "id": "EqOiXryIwK6F"
      },
      "outputs": [],
      "source": [
        "# Mini-batch processing class\n",
        "class GetMiniBatch:\n",
        "    \"\"\"\n",
        "    Iterator to get the mini-batch\n",
        "\n",
        "    Parameters\n",
        "    ----------\n",
        "    X : ndarray of the following form, shape (n_samples, n_features)\n",
        "      Training data\n",
        "    y : ndarray of the following form, shape (n_samples, 1)\n",
        "      correct value\n",
        "    batch_size : int\n",
        "      Batch size\n",
        "    seed : int\n",
        "      Seeding random numbers in NumPy\n",
        "    \"\"\"\n",
        "    def __init__(self, X, y, batch_size = 20, seed=None):\n",
        "        self.batch_size = batch_size\n",
        "        np.random.seed(seed)\n",
        "        shuffle_index = np.random.permutation(np.arange(X.shape[0]))\n",
        "        self._X = X[shuffle_index]\n",
        "        self._y = y[shuffle_index]\n",
        "        self._stop = np.ceil(X.shape[0]/self.batch_size).astype(int)\n",
        "\n",
        "    def __len__(self):\n",
        "        return self._stop\n",
        "\n",
        "    def __getitem__(self,item):\n",
        "        p0 = item*self.batch_size\n",
        "        p1 = item*self.batch_size + self.batch_size\n",
        "        return self._X[p0:p1], self._y[p0:p1]\n",
        "\n",
        "    def __iter__(self):\n",
        "        self._counter = 0\n",
        "        return self\n",
        "\n",
        "    def __next__(self):\n",
        "        if self._counter >= self._stop:\n",
        "            raise StopIteration()\n",
        "        p0 = self._counter*self.batch_size\n",
        "        p1 = self._counter*self.batch_size + self.batch_size\n",
        "        self._counter += 1\n",
        "        return self._X[p0:p1], self._y[p0:p1]"
      ]
    },
    {
      "cell_type": "markdown",
      "metadata": {
        "id": "Och1JgR6PUsY"
      },
      "source": [
        "# Problem 1: Creating 2D Convolutional layer"
      ]
    },
    {
      "cell_type": "markdown",
      "metadata": {
        "id": "G_G5tefgwK6G"
      },
      "source": [
        "Convolutional layer class"
      ]
    },
    {
      "cell_type": "code",
      "execution_count": null,
      "metadata": {
        "id": "9q7iydz8wK6H"
      },
      "outputs": [],
      "source": [
        "# 2d convolutional layer class\n",
        "class SimpleConv2d():\n",
        "    \"\"\"\n",
        "    2-D convolutional layer\n",
        "    Parameters\n",
        "    ----------\n",
        "    initializer : Instances of initialization methods\n",
        "    optimizer : Instances of optimization methods\n",
        "    \"\"\"\n",
        "    def __init__(self, F, C, FH, FW, P, S,\n",
        "                 initializer=None,optimizer=None,activation=None):\n",
        "        self.P = P\n",
        "        self.S = S\n",
        "        self.initializer = initializer\n",
        "        self.optimizer = optimizer\n",
        "        self.activation = activation\n",
        "\n",
        "        # Initialize.\n",
        "        # Use the initializer method to initialize self.W and self.B\n",
        "        self.W = self.initializer.W(F,C,FH,FW)\n",
        "        self.B = self.initializer.B(F)\n",
        "\n",
        "    def output_shape2d(self,H,W,PH,PW,FH,FW,SH,SW):\n",
        "        OH = (H +2*PH -FH)/SH +1\n",
        "        OW = (W +2*PW -FW)/SW +1\n",
        "        return int(OH),int(OW)\n",
        "\n",
        "    def forward(self, X):\n",
        "        \"\"\"\n",
        "        forward\n",
        "        Parameters\n",
        "        ----------\n",
        "        X : ndarray of the following form, shape (batch_size, n_nodes1)\n",
        "            Input\n",
        "        Returns\n",
        "        ----------\n",
        "        A : ndarray of the following form, shape (batch_size, n_nodes2)\n",
        "            Output\n",
        "        \"\"\"\n",
        "        self.X = X\n",
        "        N,C,H,W = self.X.shape\n",
        "        F,C,FH,FW = self.W.shape\n",
        "\n",
        "        OH,OW = self.output_shape2d(H,W,self.P,self.P,FH,FW,self.S,self.S)\n",
        "\n",
        "        self.params = N,C,H,W,F,FH,FW,OH,OW\n",
        "\n",
        "        A = np.zeros([N,F,OH,OW])\n",
        "\n",
        "        self.X_pad = np.pad(self.X,((0,0),(0,0),(self.P,self.P),(self.P,self.P)))\n",
        "\n",
        "        # Batch\n",
        "        for n in range(N):\n",
        "            # Output channels\n",
        "            for ch in range(F):\n",
        "                # Vertical slide\n",
        "                for row in range(0,H,self.S):\n",
        "                    # Horizontal Slide\n",
        "                    for col in range(0,W,self.S):\n",
        "                        A[n,ch,row,col] = \\\n",
        "                        np.sum(self.X_pad[n,:,row:row+FH,col:col+FW]\n",
        "                               *self.W[ch,:,:,:]) \\\n",
        "                        +self.B[ch]\n",
        "\n",
        "        return  self.activation.forward(A)\n",
        "\n",
        "    def backward(self, dZ):\n",
        "        \"\"\"\n",
        "        backward\n",
        "        Parameters\n",
        "        ----------\n",
        "        dA : ndarray of the following form, shape (batch_size, n_nodes2)\n",
        "            The gradient flowed in from behind.\n",
        "        Returns\n",
        "        ----------\n",
        "        dZ : ndarray of the following form, shape (batch_size, n_nodes1)\n",
        "            forward slope\n",
        "        \"\"\"\n",
        "\n",
        "        dA = self.activation.backward(dZ)\n",
        "        N,C,H,W,F,FH,FW,OH,OW = self.params\n",
        "\n",
        "        dZ = np.zeros(self.X_pad.shape)\n",
        "        self.dW = np.zeros(self.W.shape)\n",
        "        self.dB = np.zeros(self.B.shape)\n",
        "\n",
        "        # dZ\n",
        "        # Batch\n",
        "        for n in range(N):\n",
        "            # Output channels\n",
        "            for ch in range(F):\n",
        "                # Vertical slide\n",
        "                for row in range(0,H,self.S):\n",
        "                    # Horizontal Slide\n",
        "                    for col in range(0,W,self.S):\n",
        "                        dZ[n,:,row:row+FH,col:col+FW] += dA[n,ch,row,col]*self.W[ch,:,:,:]\n",
        "\n",
        "        dl_rows = range(self.P),range(H+self.P,H+2*self.P,1)\n",
        "        dl_cols = range(self.P),range(W+self.P,W+2*self.P,1)\n",
        "\n",
        "        dZ = np.delete(dZ,dl_rows,axis=2)\n",
        "        dZ = np.delete(dZ,dl_cols,axis=3)\n",
        "\n",
        "        # dW\n",
        "        # Batch\n",
        "        for n in range(N):\n",
        "            # Output channels\n",
        "            for ch in range(F):\n",
        "                # Vertical slide\n",
        "                for row in range(OH):\n",
        "                    # Horizontal Slide\n",
        "                    for col in range(OW):\n",
        "                        self.dW[ch,:,:,:] += dA[n,ch,row,col]*self.X_pad[n,:,row:row+FH,col:col+FW]\n",
        "\n",
        "        # dB\n",
        "        # Output channels\n",
        "        for ch in range(F):\n",
        "            self.dB[ch] = np.sum(dA[:,ch,:,:])\n",
        "\n",
        "        # Update\n",
        "        self = self.optimizer.update(self)\n",
        "\n",
        "        return dZ"
      ]
    },
    {
      "cell_type": "markdown",
      "metadata": {
        "id": "pXrMJPt5Pi41"
      },
      "source": [
        "# Problem 2: Output size after 2D convolution"
      ]
    },
    {
      "cell_type": "code",
      "execution_count": null,
      "metadata": {
        "id": "5kG8fOwXwK6I"
      },
      "outputs": [],
      "source": [
        "def output_shape2d(IH=5,IW=5,PH=0,PW=0,FH=3,FW=3,SH=1,SW=1):\n",
        "    OH = (IH +2*PH -FH)/SH +1\n",
        "    OW = (IW +2*PW -FW)/SW +1\n",
        "    return int(OH),int(OW)"
      ]
    },
    {
      "cell_type": "code",
      "execution_count": null,
      "metadata": {
        "colab": {
          "base_uri": "https://localhost:8080/"
        },
        "id": "3_fksagCwK6I",
        "outputId": "30b57c81-f9f4-4631-c584-ae8276a105de",
        "scrolled": false
      },
      "outputs": [
        {
          "name": "stdout",
          "output_type": "stream",
          "text": [
            "(4, 4)\n"
          ]
        }
      ],
      "source": [
        "print(output_shape2d(IH=6,IW=6,PH=0,PW=0,FH=3,FW=3,SH=1,SW=1))"
      ]
    },
    {
      "cell_type": "markdown",
      "metadata": {
        "id": "f8_bnJMtwK6I"
      },
      "source": [
        "#### Experiment with 2D convolution"
      ]
    },
    {
      "cell_type": "code",
      "execution_count": null,
      "metadata": {
        "colab": {
          "base_uri": "https://localhost:8080/"
        },
        "id": "0GlEE_HowK6I",
        "outputId": "9e1745cd-f4a5-44b8-d1fa-9c6746d1eed9",
        "scrolled": false
      },
      "outputs": [
        {
          "name": "stdout",
          "output_type": "stream",
          "text": [
            "A.shape: (5, 4, 28, 28)\n"
          ]
        }
      ],
      "source": [
        "N,C,H,W = (5,1,28,28)\n",
        "F,C,FH,FW = (4,1,3,3)\n",
        "\n",
        "S = 1 #Fixed for now\n",
        "P = 1\n",
        "\n",
        "OH,OW = output_shape2d(H,W,P,P,FH,FW,S,S)\n",
        "\n",
        "A = np.zeros([N,F,OH,OW])\n",
        "\n",
        "X_sample = X[0:N].reshape(N,C,H,W)\n",
        "X_pad = np.pad(X_sample,((0,0),(0,0),(P,P),(P,P)))\n",
        "w = np.ones([F,C,FH,FW])\n",
        "B = np.ones(F)\n",
        "\n",
        "# Forward\n",
        "\n",
        "# Batch\n",
        "for n in range(N):\n",
        "    # Output channels\n",
        "    for ch in range(F):\n",
        "        # Vertical slide\n",
        "        for row in range(0,H,S):\n",
        "            # Horizontal Slide\n",
        "            for col in range(0,W,S):\n",
        "                A[n,ch,row,col] = \\\n",
        "                np.sum(X_pad[n,:,row:row+FH,col:col+FW]*w[ch,:,:,:]) +B[ch]\n",
        "\n",
        "print('A.shape:',A.shape)"
      ]
    },
    {
      "cell_type": "code",
      "execution_count": null,
      "metadata": {
        "colab": {
          "base_uri": "https://localhost:8080/"
        },
        "id": "k6q-XJLqwK6J",
        "outputId": "bf7f75c2-de00-4d6f-dbf6-fda69516da0c"
      },
      "outputs": [
        {
          "name": "stdout",
          "output_type": "stream",
          "text": [
            "dZ.shape: (5, 1, 28, 28)\n",
            "dW.shape: (4, 1, 3, 3)\n",
            "dB.shape: (4,)\n"
          ]
        }
      ],
      "source": [
        "# Backward\n",
        "dA = np.ones(A.shape)\n",
        "\n",
        "dZ = np.zeros(X_pad.shape)\n",
        "dW = np.zeros(w.shape)\n",
        "dB = np.zeros(B.shape)\n",
        "\n",
        "# dZ\n",
        "# Batch\n",
        "for n in range(N):\n",
        "    # Output channels\n",
        "    for ch in range(F):\n",
        "        # Vertical slide\n",
        "        for row in range(0,H,S):\n",
        "            # Horizontal Slide\n",
        "            for col in range(0,W,S):\n",
        "                dZ[n,:,row:row+FH,col:col+FW] += dA[n,ch,row,col]*w[ch,:,:,:]\n",
        "\n",
        "dl_rows = range(P),range(H+P,H+2*P,1)\n",
        "dl_cols = range(P),range(W+P,W+2*P,1)\n",
        "\n",
        "dZ = np.delete(dZ,dl_rows,axis=2)\n",
        "dZ = np.delete(dZ,dl_cols,axis=3)\n",
        "\n",
        "# dW\n",
        "# Batch\n",
        "for n in range(N):\n",
        "    # Output channels\n",
        "    for ch in range(F):\n",
        "        # Vertical slide\n",
        "        for row in range(OH):\n",
        "            # Horizontal Slide\n",
        "            for col in range(OW):\n",
        "                dW[ch,:,:,:] += dA[n,ch,row,col]*X_pad[n,:,row:row+FH,col:col+FW]\n",
        "\n",
        "# dB\n",
        "# Output channels\n",
        "for ch in range(F):\n",
        "    dB[ch] = np.sum(dA[:,ch,:,:])\n",
        "\n",
        "print('dZ.shape:',dZ.shape)\n",
        "print('dW.shape:',dW.shape)\n",
        "print('dB.shape:',dB.shape)"
      ]
    },
    {
      "cell_type": "markdown",
      "metadata": {
        "id": "c5KPQi_KP2g7"
      },
      "source": [
        "# Problem 3: Creating Maximum Pooling Layer"
      ]
    },
    {
      "cell_type": "code",
      "execution_count": null,
      "metadata": {
        "id": "ViTwMwPvwK6J"
      },
      "outputs": [],
      "source": [
        "class MaxPool2D():\n",
        "\n",
        "    def __init__(self,P):\n",
        "        self.P = P\n",
        "        self.PA = None\n",
        "        self.Pindex = None\n",
        "\n",
        "    def forward(self,A):\n",
        "        N,F,OH,OW = A.shape\n",
        "        PS = self.P\n",
        "        PH,PW = int(OH/PS),int(OW/PS)\n",
        "\n",
        "        self.params = N,F,OH,OW,PS,PH,PW\n",
        "\n",
        "        # Pooling filter\n",
        "        self.PA = np.zeros([N,F,PH,PW])\n",
        "        self.Pindex = np.zeros([N,F,PH,PW])\n",
        "\n",
        "        for n in range(N):\n",
        "            # Output channels\n",
        "            for ch in range(F):\n",
        "                # Vertical slide\n",
        "                for row in range(PH):\n",
        "                    # Horizontal Slide\n",
        "                    for col in range(PW):\n",
        "                        self.PA[n,ch,row,col] = \\\n",
        "                        np.max(A[n,ch,row*PS:row*PS+PS,col*PS:col*PS+PS])\n",
        "\n",
        "                        self.Pindex[n,ch,row,col] = \\\n",
        "                        np.argmax(A[n,ch,row*PS:row*PS+PS,col*PS:col*PS+PS])\n",
        "\n",
        "        return self.PA\n",
        "\n",
        "    def backward(self,dA):\n",
        "\n",
        "        N,F,OH,OW,PS,PH,PW = self.params\n",
        "        dP = np.zeros([N,F,OH,OW])\n",
        "\n",
        "        for n in range(N):\n",
        "            # Output channels\n",
        "            for ch in range(F):\n",
        "                # Vertical slide\n",
        "                for row in range(PH):\n",
        "                    # Horizontal Slide\n",
        "                    for col in range(PW):\n",
        "                        idx = self.Pindex[n,ch,row,col]\n",
        "                        tmp = np.zeros((PS*PS))\n",
        "                        for i in range(PS*PS):\n",
        "                            if i == idx:\n",
        "                                tmp[i] = dA[n,ch,row,col]\n",
        "                            else:\n",
        "                                tmp[i] = 0\n",
        "                        dP[n,ch,row*PS:row*PS+PS,col*PS:col*PS+PS] = tmp.reshape(PS,PS)\n",
        "\n",
        "        return dP"
      ]
    },
    {
      "cell_type": "code",
      "execution_count": null,
      "metadata": {
        "colab": {
          "base_uri": "https://localhost:8080/"
        },
        "id": "_K85cvI6wK6J",
        "outputId": "ff5c92af-3de0-48cd-91dd-fee0a0a5f069",
        "scrolled": false
      },
      "outputs": [
        {
          "name": "stdout",
          "output_type": "stream",
          "text": [
            "[[[[0 6 3 5 1 6]\n",
            "   [3 1 8 3 2 3]\n",
            "   [0 4 2 4 3 1]\n",
            "   [4 8 4 6 5 1]\n",
            "   [3 4 0 5 5 0]\n",
            "   [6 6 4 6 0 2]]]]\n"
          ]
        }
      ],
      "source": [
        "X = np.random.randint(0,9,36).reshape(1,1,6,6)\n",
        "print(X)"
      ]
    },
    {
      "cell_type": "code",
      "execution_count": null,
      "metadata": {
        "colab": {
          "base_uri": "https://localhost:8080/"
        },
        "id": "BvKBDUFAwK6J",
        "outputId": "8d2dc5ba-1f4c-4cc4-f305-184fc5316efd",
        "scrolled": true
      },
      "outputs": [
        {
          "name": "stdout",
          "output_type": "stream",
          "text": [
            "(1, 1, 3, 3)\n",
            "[[[[6. 8. 6.]\n",
            "   [8. 6. 5.]\n",
            "   [6. 6. 5.]]]]\n"
          ]
        }
      ],
      "source": [
        "Pooling = MaxPool2D(P=2)\n",
        "A = Pooling.forward(X)\n",
        "\n",
        "print(A.shape)\n",
        "print(A)"
      ]
    },
    {
      "cell_type": "code",
      "execution_count": null,
      "metadata": {
        "colab": {
          "base_uri": "https://localhost:8080/"
        },
        "id": "y2G8YfJCwK6K",
        "outputId": "ec0ae583-653a-4b8e-e8b3-60090f544b6f"
      },
      "outputs": [
        {
          "data": {
            "text/plain": [
              "array([[[[1., 2., 1.],\n",
              "         [3., 3., 2.],\n",
              "         [2., 3., 0.]]]])"
            ]
          },
          "execution_count": 26,
          "metadata": {},
          "output_type": "execute_result"
        }
      ],
      "source": [
        "Pooling.Pindex"
      ]
    },
    {
      "cell_type": "code",
      "execution_count": null,
      "metadata": {
        "colab": {
          "base_uri": "https://localhost:8080/"
        },
        "id": "8_Wih4miwK6K",
        "outputId": "dca7459a-ab11-4d14-b596-96abe2e0198f"
      },
      "outputs": [
        {
          "name": "stdout",
          "output_type": "stream",
          "text": [
            "[[[[1 6 1]\n",
            "   [1 8 0]\n",
            "   [7 4 8]]]]\n"
          ]
        }
      ],
      "source": [
        "dA = np.random.randint(0,9,9).reshape(A.shape)\n",
        "print(dA)"
      ]
    },
    {
      "cell_type": "code",
      "execution_count": null,
      "metadata": {
        "colab": {
          "base_uri": "https://localhost:8080/"
        },
        "id": "xL5y1XmHwK6K",
        "outputId": "7aa4649f-b17c-41ce-954c-80668d3c4428"
      },
      "outputs": [
        {
          "name": "stdout",
          "output_type": "stream",
          "text": [
            "[[[[0. 1. 0. 0. 0. 1.]\n",
            "   [0. 0. 6. 0. 0. 0.]\n",
            "   [0. 0. 0. 0. 0. 0.]\n",
            "   [0. 1. 0. 8. 0. 0.]\n",
            "   [0. 0. 0. 0. 8. 0.]\n",
            "   [7. 0. 0. 4. 0. 0.]]]]\n"
          ]
        }
      ],
      "source": [
        "dZ = Pooling.backward(dA)\n",
        "\n",
        "print(dZ)"
      ]
    },
    {
      "cell_type": "markdown",
      "metadata": {
        "id": "dy6Glhx_B7WO"
      },
      "source": [
        "# Problem 4: (Advanced) Creating Average Pooling Layer"
      ]
    },
    {
      "cell_type": "code",
      "execution_count": null,
      "metadata": {
        "id": "th8daQ5kwK6L"
      },
      "outputs": [],
      "source": [
        "class AveragePool2D():\n",
        "\n",
        "    def __init__(self,P):\n",
        "        self.P = P\n",
        "        self.PA = None\n",
        "        self.Pindex = None\n",
        "\n",
        "    def forward(self,A):\n",
        "        N,F,OH,OW = A.shape\n",
        "        PS = self.P\n",
        "        PH,PW = int(OH/PS),int(OW/PS)\n",
        "\n",
        "        self.params = N,F,OH,OW,PS,PH,PW\n",
        "\n",
        "        # Pooling filter\n",
        "        self.PA = np.zeros([N,F,PH,PW])\n",
        "\n",
        "        for n in range(N):\n",
        "            # Output channels\n",
        "            for ch in range(F):\n",
        "                # Vertical slide\n",
        "                for row in range(PH):\n",
        "                    # Horizontal Slide\n",
        "                    for col in range(PW):\n",
        "                        self.PA[n,ch,row,col] = \\\n",
        "                        np.mean(A[n,ch,row*PS:row*PS+PS,col*PS:col*PS+PS])\n",
        "\n",
        "        return self.PA\n",
        "\n",
        "    def backward(self,dA):\n",
        "\n",
        "        N,F,OH,OW,PS,PH,PW = self.params\n",
        "        dP = np.zeros([N,F,OH,OW])\n",
        "\n",
        "        for n in range(N):\n",
        "            # Output channels\n",
        "            for ch in range(F):\n",
        "                # Vertical slide\n",
        "                for row in range(PH):\n",
        "                    # Horizontal Slide\n",
        "                    for col in range(PW):\n",
        "                        tmp = np.zeros((PS*PS))\n",
        "                        for i in range(PS*PS):\n",
        "                            tmp[i] = dA[n,ch,row,col]/(PS*PS)\n",
        "\n",
        "                        dP[n,ch,row*PS:row*PS+PS,col*PS:col*PS+PS] = tmp.reshape(PS,PS)\n",
        "\n",
        "        return dP"
      ]
    },
    {
      "cell_type": "code",
      "execution_count": null,
      "metadata": {
        "colab": {
          "base_uri": "https://localhost:8080/"
        },
        "id": "1GZeorsTwK6L",
        "outputId": "7b4066f3-dd63-4de2-ec03-78ad7878f0b2"
      },
      "outputs": [
        {
          "name": "stdout",
          "output_type": "stream",
          "text": [
            "[[[[0 6 0 5 7 3]\n",
            "   [3 8 0 5 2 1]\n",
            "   [2 2 3 1 6 8]\n",
            "   [7 5 6 2 5 5]\n",
            "   [8 7 6 2 8 2]\n",
            "   [1 1 1 6 3 4]]]]\n"
          ]
        }
      ],
      "source": [
        "X = np.random.randint(0,9,36).reshape(1,1,6,6)\n",
        "print(X)"
      ]
    },
    {
      "cell_type": "code",
      "execution_count": null,
      "metadata": {
        "colab": {
          "base_uri": "https://localhost:8080/"
        },
        "id": "FMOZpmCNwK6L",
        "outputId": "0d26f262-b0a2-4556-83d2-585b802e0dfa"
      },
      "outputs": [
        {
          "name": "stdout",
          "output_type": "stream",
          "text": [
            "(1, 1, 3, 3)\n",
            "[[[[4.25 2.5  3.25]\n",
            "   [4.   3.   6.  ]\n",
            "   [4.25 3.75 4.25]]]]\n"
          ]
        }
      ],
      "source": [
        "Pooling = AveragePool2D(P=2)\n",
        "A = Pooling.forward(X)\n",
        "\n",
        "print(A.shape)\n",
        "print(A)"
      ]
    },
    {
      "cell_type": "code",
      "execution_count": null,
      "metadata": {
        "colab": {
          "base_uri": "https://localhost:8080/"
        },
        "id": "khNbmi_kwK6M",
        "outputId": "22ed76d7-4178-47e0-e595-1dde9cd94dca"
      },
      "outputs": [
        {
          "name": "stdout",
          "output_type": "stream",
          "text": [
            "[[[[4 6 8]\n",
            "   [3 6 8]\n",
            "   [7 3 4]]]]\n"
          ]
        }
      ],
      "source": [
        "dA = np.random.randint(0,9,9).reshape(A.shape)\n",
        "print(dA)"
      ]
    },
    {
      "cell_type": "code",
      "execution_count": null,
      "metadata": {
        "colab": {
          "base_uri": "https://localhost:8080/"
        },
        "id": "5njJx88SwK6M",
        "outputId": "b0249cf3-42e4-411e-e340-1c3bba974a5d"
      },
      "outputs": [
        {
          "name": "stdout",
          "output_type": "stream",
          "text": [
            "[[[[1.   1.   1.5  1.5  2.   2.  ]\n",
            "   [1.   1.   1.5  1.5  2.   2.  ]\n",
            "   [0.75 0.75 1.5  1.5  2.   2.  ]\n",
            "   [0.75 0.75 1.5  1.5  2.   2.  ]\n",
            "   [1.75 1.75 0.75 0.75 1.   1.  ]\n",
            "   [1.75 1.75 0.75 0.75 1.   1.  ]]]]\n"
          ]
        }
      ],
      "source": [
        "dZ = Pooling.backward(dA)\n",
        "\n",
        "print(dZ)"
      ]
    },
    {
      "cell_type": "markdown",
      "metadata": {
        "id": "T-Z6AqDOQO7b"
      },
      "source": [
        "# Problem 5: Flatten"
      ]
    },
    {
      "cell_type": "code",
      "execution_count": null,
      "metadata": {
        "id": "CGFt2uxFwK6M"
      },
      "outputs": [],
      "source": [
        "class Flatten:\n",
        "    def __ini__(self,):\n",
        "        pass\n",
        "    def forward(self,X):\n",
        "        self.shape = X.shape\n",
        "        return X.reshape(len(X),-1)\n",
        "\n",
        "    def backward(self,X):\n",
        "        return X.reshape(self.shape)"
      ]
    },
    {
      "cell_type": "code",
      "execution_count": null,
      "metadata": {
        "colab": {
          "base_uri": "https://localhost:8080/"
        },
        "id": "0uJcS2MHwK6M",
        "outputId": "124434bc-d9e6-4df3-8eb3-ef8cc3d5af14"
      },
      "outputs": [
        {
          "name": "stdout",
          "output_type": "stream",
          "text": [
            "Forward_shape: (20, 50)\n",
            "Backward_shape: (20, 2, 5, 5)\n"
          ]
        }
      ],
      "source": [
        "TEST = np.zeros([20,2,5,5])\n",
        "flt = Flatten()\n",
        "flat_forward = flt.forward(TEST)\n",
        "print('Forward_shape:',flat_forward.shape)\n",
        "print('Backward_shape:',flt.backward(flat_forward).shape)"
      ]
    },
    {
      "cell_type": "markdown",
      "metadata": {
        "id": "dZlF2OEPQTZz"
      },
      "source": [
        "# Problem 6: Training and Estimation"
      ]
    },
    {
      "cell_type": "code",
      "execution_count": null,
      "metadata": {
        "id": "hnkAOmCEwK6N"
      },
      "outputs": [],
      "source": [
        "# Scratch CNN\n",
        "class Scratch2dCNNClassifier():\n",
        "    \"\"\"\n",
        "    N-Layer Convolutional Neural Network Classifier\n",
        "\n",
        "    Parameters\n",
        "    ----------\n",
        "    self.n_epoch : epoch number\n",
        "    self.n_batch : Number of batches\n",
        "    self.verbose : Visualizing the learning process\n",
        "    Attributes\n",
        "    ----------\n",
        "    \"\"\"\n",
        "    def __init__(self, NN, CNN, n_epoch=5, n_batch=1, verbose = False):\n",
        "        # Parameters\n",
        "        self.n_epoch = n_epoch\n",
        "        self.n_batch = n_batch\n",
        "        self.verbose = verbose\n",
        "        self.log_loss = np.zeros(self.n_epoch)\n",
        "        self.log_acc = np.zeros(self.n_epoch)\n",
        "        self.NN = NN\n",
        "        self.CNN = CNN\n",
        "\n",
        "    def loss_function(self,y,yt):\n",
        "        delta = 1e-7\n",
        "        return -np.mean(yt*np.log(y+delta))\n",
        "\n",
        "    def accuracy(self,Z,Y):\n",
        "        return accuracy_score(Y,Z)\n",
        "\n",
        "    def fit(self, X, y, X_val=False, y_val=False):\n",
        "        \"\"\"\n",
        "        Train a neural network classifier.\n",
        "\n",
        "        Parameters\n",
        "        ----------\n",
        "        X : ndarray of the following form, shape (n_samples, n_features)\n",
        "            Features of training data\n",
        "        y : ndarray of the following form, shape (n_samples, )\n",
        "            Correct answer value of training data\n",
        "        X_val : ndarray of the following form, shape (n_samples, n_features)\n",
        "            Features of validation data\n",
        "        y_val : ndarray of the following form, shape (n_samples, )\n",
        "            Correct value of validation data\n",
        "        \"\"\"\n",
        "        for epoch in range(self.n_epoch):\n",
        "            # Mini-batch processing\n",
        "            get_mini_batch = GetMiniBatch(X, y, batch_size=self.n_batch)\n",
        "\n",
        "            self.loss = 0\n",
        "            for mini_X_train, mini_y_train in get_mini_batch:\n",
        "\n",
        "                # Forward propagation\n",
        "                forward_data = mini_X_train[:,np.newaxis,:,:]\n",
        "\n",
        "                # Conv\n",
        "                for layer in range(len(self.CNN)):\n",
        "                    forward_data = self.CNN[layer].forward(forward_data)\n",
        "\n",
        "                # Flatten\n",
        "                flt = Flatten()\n",
        "                forward_data = flt.forward(forward_data)\n",
        "\n",
        "                # NN\n",
        "                for layer in range(len(self.NN)):\n",
        "                    forward_data = self.NN[layer].forward(forward_data)\n",
        "\n",
        "                # Predicted value\n",
        "                Z = forward_data\n",
        "\n",
        "                # Back propagation\n",
        "                backward_data = (Z - mini_y_train)/self.n_batch\n",
        "                for layer in range(len(self.NN)-1,-1,-1):\n",
        "                    backward_data = self.NN[layer].backward(backward_data)\n",
        "\n",
        "\n",
        "                backward_data = flt.backward(backward_data)\n",
        "\n",
        "                for layer in range(len(self.CNN)-1,-1,-1):\n",
        "                    backward_data = self.CNN[layer].backward(backward_data)\n",
        "\n",
        "                # Loss function\n",
        "                self.loss += self.loss_function(Z,mini_y_train)\n",
        "\n",
        "            self.log_loss[epoch] = self.loss/len(get_mini_batch)\n",
        "            self.log_acc[epoch] = self.accuracy(self.predict(X),np.argmax(y,axis=1))\n",
        "\n",
        "    def predict(self, X):\n",
        "        \"\"\"\n",
        "        Estimate using a neural network classifier.。\n",
        "\n",
        "        Parameters\n",
        "        ----------\n",
        "        X : ndarray of the following form, shape (n_samples, n_features)\n",
        "            Sample\n",
        "\n",
        "        Returns\n",
        "        -------\n",
        "            ndarray of the following, shape (n_samples, 1)\n",
        "            Estimation results\n",
        "        \"\"\"\n",
        "        pred_data = X[:,np.newaxis,:,:]\n",
        "\n",
        "        # Conv\n",
        "        for layer in range(len(self.CNN)):\n",
        "            pred_data = self.CNN[layer].forward(pred_data)\n",
        "\n",
        "        pred_data = flt.forward(pred_data)\n",
        "\n",
        "        # NN\n",
        "        for layer in range(len(self.NN)):\n",
        "            pred_data = self.NN[layer].forward(pred_data)\n",
        "\n",
        "        return np.argmax(pred_data,axis=1)"
      ]
    },
    {
      "cell_type": "code",
      "execution_count": null,
      "metadata": {
        "id": "Nd2itkg0wK6N"
      },
      "outputs": [],
      "source": [
        "# All bonding layers\n",
        "NN = {0:FC(7840, 400, HeInitializer(), AdaGrad(0.01), ReLU()),\n",
        "      1:FC(400, 200, HeInitializer(), AdaGrad(0.01), ReLU()),\n",
        "      2:FC(200, 10, SimpleInitializer(0.01), AdaGrad(0.01), Softmax()),\n",
        "     }"
      ]
    },
    {
      "cell_type": "code",
      "execution_count": null,
      "metadata": {
        "id": "VA0duXqdwK6N"
      },
      "outputs": [],
      "source": [
        "# Convolutional layers\n",
        "CNN = {0:SimpleConv2d(F=10, C=1, FH=3, FW=3, P=1, S=1,\n",
        "                      initializer=SimpleInitializerConv2d(),\n",
        "                      optimizer=SGD(),\n",
        "                      activation=ReLU())}"
      ]
    },
    {
      "cell_type": "code",
      "execution_count": null,
      "metadata": {
        "id": "at4_QFo8wK6O"
      },
      "outputs": [],
      "source": [
        "# Learning\n",
        "cnn1 = Scratch2dCNNClassifier(NN=NN,CNN=CNN,n_epoch=10,n_batch=200,verbose=False)\n",
        "\n",
        "cnn1.fit(X_train[0:1000],y_train[0:1000])"
      ]
    },
    {
      "cell_type": "code",
      "execution_count": null,
      "metadata": {
        "colab": {
          "base_uri": "https://localhost:8080/"
        },
        "id": "Ou7d7r_BwK6O",
        "outputId": "857db9ce-21c0-4e46-9ab6-bdfd75877cb6"
      },
      "outputs": [
        {
          "name": "stdout",
          "output_type": "stream",
          "text": [
            "accuracy:0.870\n"
          ]
        }
      ],
      "source": [
        "# Estimate\n",
        "y_pred = cnn1.predict(X_valid[0:100])\n",
        "\n",
        "# Positive solution rate\n",
        "accuracy = accuracy_score(np.argmax(y_valid[0:100],axis=1), y_pred)\n",
        "print('accuracy:{:.3f}'.format(accuracy))"
      ]
    },
    {
      "cell_type": "code",
      "execution_count": null,
      "metadata": {
        "colab": {
          "base_uri": "https://localhost:8080/",
          "height": 626
        },
        "id": "9QTh7iR_wK6O",
        "outputId": "c27cf7fd-df9e-4ade-90e1-4397b51eb604",
        "scrolled": true
      },
      "outputs": [
        {
          "name": "stderr",
          "output_type": "stream",
          "text": [
            "<ipython-input-41-67c511188024>:4: MatplotlibDeprecationWarning: Auto-removal of overlapping axes is deprecated since 3.6 and will be removed two minor releases later; explicitly call ax.remove() as needed.\n",
            "  plt.subplot(1,2,1)\n"
          ]
        },
        {
          "data": {
            "image/png": "[encoded data removed]",
            "text/plain": [
              "<Figure size 1600x600 with 2 Axes>"
            ]
          },
          "metadata": {},
          "output_type": "display_data"
        }
      ],
      "source": [
        "# Visualize the loss function for each epoch\n",
        "plt.rcParams[\"font.size\"] = 20\n",
        "fig=plt.subplots(figsize=(16,6))\n",
        "plt.subplot(1,2,1)\n",
        "plt.title('LOSS')\n",
        "plt.plot(cnn1.log_loss,'bo--')\n",
        "\n",
        "plt.subplot(1,2,2)\n",
        "plt.title('ACC')\n",
        "plt.plot(cnn1.log_acc,'rs--');"
      ]
    }
  ],
  "metadata": {
    "accelerator": "GPU",
    "colab": {
      "authorship_tag": "ABX9TyOIXYt3pwdJ03NrJJuY54QW",
      "collapsed_sections": [
        "iTt7dJwKNTD_",
        "pXrMJPt5Pi41",
        "c5KPQi_KP2g7",
        "T-Z6AqDOQO7b"
      ],
      "gpuType": "T4",
      "include_colab_link": true,
      "provenance": []
    },
    "kernelspec": {
      "display_name": "Python 3",
      "name": "python3"
    },
    "language_info": {
      "name": "python"
    }
  },
  "nbformat": 4,
  "nbformat_minor": 0
}
