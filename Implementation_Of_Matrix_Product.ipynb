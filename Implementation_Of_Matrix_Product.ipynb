{
  "nbformat": 4,
  "nbformat_minor": 0,
  "metadata": {
    "colab": {
      "provenance": [],
      "authorship_tag": "ABX9TyN3OoEFoKFj/axvB8JFmfBe",
      "include_colab_link": true
    },
    "kernelspec": {
      "name": "python3",
      "display_name": "Python 3"
    },
    "language_info": {
      "name": "python"
    }
  },
  "cells": [
    {
      "cell_type": "markdown",
      "metadata": {
        "id": "view-in-github",
        "colab_type": "text"
      },
      "source": [
        "<a href=\"https://colab.research.google.com/github/Abdullah-Sada/AI-Assignment/blob/main/Implementation_of_Matrix_Product.ipynb\" target=\"_parent\"><img src=\"https://colab.research.google.com/assets/colab-badge.svg\" alt=\"Open In Colab\"/></a>"
      ]
    },
    {
      "cell_type": "markdown",
      "source": [
        "Problem 1"
      ],
      "metadata": {
        "id": "Wmd1Ce6QjJ1Q"
      }
    },
    {
      "cell_type": "markdown",
      "source": [
        "Product AxB can be calculated manually as follows:\n",
        "    \n",
        "    [-1*0 + 2*0 + 3*2, -1*2 + 2*2 + 3*9, -1*1 + 2*-8 + 3*-1], # first row of a_ndarray times each column of b_ndarray\n",
        "    [4*0 + -5*0 + 6*2, 4*2 + -5*2 + 6*9, 4*1 + -5*-8 + 6*-1], # second row of a_ndarray times each column of b_ndarray\n",
        "    [7*0 + 8*0 + -9*2, 7*2 + 8*2 + -9*9, 7*1 + 8*-8 + -9*-1]  # third row of a_ndarray times each column of b_ndarray\n",
        "\n",
        "The result will be:\n",
        "Matrix product:\n",
        "\n",
        " [    6  29 -20  \n",
        "     12  52  38  \n",
        "    -18 -51 -48 ]\n",
        "\n",
        "\n"
      ],
      "metadata": {
        "id": "ouOGwD2Nmk-4"
      }
    },
    {
      "cell_type": "code",
      "execution_count": null,
      "metadata": {
        "colab": {
          "base_uri": "https://localhost:8080/"
        },
        "id": "oO8VM-bTBoo-",
        "outputId": "a0e70840-5e5f-4166-d7d6-71d3a38d99cc"
      },
      "outputs": [
        {
          "output_type": "stream",
          "name": "stdout",
          "text": [
            "[[  6  29 -20]\n",
            " [ 12  52  38]\n",
            " [-18 -51 -48]]\n"
          ]
        }
      ],
      "source": [
        "import numpy as np\n",
        "a_ndarray = np.array([[-1, 2, 3], [4, -5, 6], [7, 8, -9]])\n",
        "b_ndarray = np.array([[0, 2, 1], [0, 2, -8], [2, 9, -1]])\n",
        "\n",
        "multiply = a_ndarray @ b_ndarray\n",
        "#== np.array([[-1, 2, 3], [4, -5, 6], [7, 8, -9]]) @ np.array([[0, 2, 1], [0, 2, -8], [2, 9, -1]])\n",
        "Product = np.array([\n",
        "    [-1*0 + 2*0 + 3*2, -1*2 + 2*2 + 3*9, -1*1 + 2*-8 + 3*-1], # first row of a_ndarray times each column of b_ndarray\n",
        "    [4*0 + -5*0 + 6*2, 4*2 + -5*2 + 6*9, 4*1 + -5*-8 + 6*-1], # second row of a_ndarray times each column of b_ndarray\n",
        "    [7*0 + 8*0 + -9*2, 7*2 + 8*2 + -9*9, 7*1 + 8*-8 + -9*-1]  # third row of a_ndarray times each column of b_ndarray\n",
        "])\n",
        "Answer = np.array([\n",
        "    [6, 29, -31],\n",
        "    [12, 52, -1],\n",
        "    [-18, -45, 85]\n",
        "])\n",
        "print(multiply)"
      ]
    },
    {
      "cell_type": "markdown",
      "source": [
        "Problem 2"
      ],
      "metadata": {
        "id": "gtEvIKFQnBEN"
      }
    },
    {
      "cell_type": "code",
      "source": [
        "# MATMUL() Solution\n",
        "import numpy as np\n",
        "a_ndarray = np.array([[-1, 2, 3], [4, -5, 6], [7, 8, -9]])\n",
        "b_ndarray = np.array([[0, 2, 1], [0, 2, -8], [2, 9, -1]])\n",
        "ab_ndarray = np.matmul(a_ndarray, b_ndarray)\n",
        "\n",
        "print(ab_ndarray)"
      ],
      "metadata": {
        "colab": {
          "base_uri": "https://localhost:8080/"
        },
        "id": "h5jqJ1Ymlqnk",
        "outputId": "beab2f08-088f-44e9-8a89-9b0c15693f61"
      },
      "execution_count": null,
      "outputs": [
        {
          "output_type": "stream",
          "name": "stdout",
          "text": [
            "[[  6  29 -20]\n",
            " [ 12  52  38]\n",
            " [-18 -51 -48]]\n"
          ]
        }
      ]
    },
    {
      "cell_type": "code",
      "source": [
        "# Dot() Solution\n",
        "a_ndarray = np.array([[-1, 2, 3], [4, -5, 6], [7, 8, -9]])\n",
        "b_ndarray = np.array([[0, 2, 1], [0, 2, -8], [2, 9, -1]])\n",
        "ab_ndarray = np.dot(a_ndarray, b_ndarray)\n",
        "\n",
        "print(ab_ndarray)"
      ],
      "metadata": {
        "colab": {
          "base_uri": "https://localhost:8080/"
        },
        "id": "z-5HT5Uhl226",
        "outputId": "860c65dd-4043-4824-f1cb-45cfb9a0a216"
      },
      "execution_count": null,
      "outputs": [
        {
          "output_type": "stream",
          "name": "stdout",
          "text": [
            "[[  6  29 -20]\n",
            " [ 12  52  38]\n",
            " [-18 -51 -48]]\n"
          ]
        }
      ]
    },
    {
      "cell_type": "markdown",
      "source": [
        "Problem 3 - Calculation of a certain element"
      ],
      "metadata": {
        "id": "Orqa1n93nDLM"
      }
    },
    {
      "cell_type": "code",
      "source": [
        "ab = (a_ndarray[0][0]*b_ndarray[0][0])\n",
        "ab"
      ],
      "metadata": {
        "colab": {
          "base_uri": "https://localhost:8080/"
        },
        "id": "q_Mnwcj_nE5P",
        "outputId": "4542c933-6e54-48b0-9e33-326e30f1bb60"
      },
      "execution_count": null,
      "outputs": [
        {
          "output_type": "execute_result",
          "data": {
            "text/plain": [
              "0"
            ]
          },
          "metadata": {},
          "execution_count": 9
        }
      ]
    },
    {
      "cell_type": "code",
      "source": [
        "ab = (a_ndarray[0][1]*b_ndarray[1][0])\n",
        "ab"
      ],
      "metadata": {
        "colab": {
          "base_uri": "https://localhost:8080/"
        },
        "id": "mQGJXdi4nTSZ",
        "outputId": "96508bf2-afdb-406d-beb3-b82b87fa3166"
      },
      "execution_count": null,
      "outputs": [
        {
          "output_type": "execute_result",
          "data": {
            "text/plain": [
              "0"
            ]
          },
          "metadata": {},
          "execution_count": 11
        }
      ]
    },
    {
      "cell_type": "code",
      "source": [
        "ab = (a_ndarray[0][2]*b_ndarray[2][0])\n",
        "ab"
      ],
      "metadata": {
        "colab": {
          "base_uri": "https://localhost:8080/"
        },
        "id": "Xzghisggr0xO",
        "outputId": "4903a08b-7874-4699-ad12-26eeb4c2a847"
      },
      "execution_count": null,
      "outputs": [
        {
          "output_type": "execute_result",
          "data": {
            "text/plain": [
              "6"
            ]
          },
          "metadata": {},
          "execution_count": 12
        }
      ]
    },
    {
      "cell_type": "code",
      "source": [
        "sum_ab = (a_ndarray[0][0]*b_ndarray[0][0]+a_ndarray[0][1]*b_ndarray[1][0]+a_ndarray[0][2]*b_ndarray[2][0])\n",
        "sum_ab"
      ],
      "metadata": {
        "colab": {
          "base_uri": "https://localhost:8080/"
        },
        "id": "8-sIqtVvr9TT",
        "outputId": "fba70611-7e39-4d2e-a0b7-3ed3e68ef145"
      },
      "execution_count": null,
      "outputs": [
        {
          "output_type": "execute_result",
          "data": {
            "text/plain": [
              "6"
            ]
          },
          "metadata": {},
          "execution_count": 14
        }
      ]
    },
    {
      "cell_type": "markdown",
      "source": [
        "Problem 4 - Functions that perform matrix multiplication"
      ],
      "metadata": {
        "id": "RfsRhpXPsU_t"
      }
    },
    {
      "cell_type": "code",
      "source": [
        "def product_of_matrix(a,b):\n",
        "    matrix_ab = np.empty([3,3])\n",
        "    for row1 in range(a.shape[0]):\n",
        "        for column1 in range(b.shape[1]):\n",
        "            matrix_ab[row1][column1] = sum(a[row1, :]*b[:, column1])\n",
        "    return matrix_ab\n",
        "print(product_of_matrix(a_ndarray, b_ndarray))"
      ],
      "metadata": {
        "colab": {
          "base_uri": "https://localhost:8080/"
        },
        "id": "CAjP04f_sUap",
        "outputId": "ca4d68e0-c793-4ec1-823a-da753e47d8ee"
      },
      "execution_count": null,
      "outputs": [
        {
          "output_type": "stream",
          "name": "stdout",
          "text": [
            "[[  6.  29. -20.]\n",
            " [ 12.  52.  38.]\n",
            " [-18. -51. -48.]]\n"
          ]
        }
      ]
    },
    {
      "cell_type": "markdown",
      "source": [
        "Problem 5 - Judging the imput with undefined calucation"
      ],
      "metadata": {
        "id": "heMXmjFqu3v2"
      }
    },
    {
      "cell_type": "code",
      "source": [
        "d_ndarray = np.array([[-1, 2, 3], [4, -5, 6]])\n",
        "e_ndarray = np.array([[-9, 8, 7], [6, -5, 4]])\n",
        "\n",
        "if d_ndarray.shape[0] == e_ndarray.shape[1]:\n",
        "    print(product_of_matrix(d_ndarray, e_ndarray))\n",
        "else:\n",
        "    print(\"matrices not aligned\")\n"
      ],
      "metadata": {
        "colab": {
          "base_uri": "https://localhost:8080/"
        },
        "id": "497u11oqt622",
        "outputId": "0c63cf47-ccdf-491c-b7a1-fe72e27423e5"
      },
      "execution_count": null,
      "outputs": [
        {
          "output_type": "stream",
          "name": "stdout",
          "text": [
            "matrices not aligned\n"
          ]
        }
      ]
    },
    {
      "cell_type": "markdown",
      "source": [
        "Problem 6 - Transposition"
      ],
      "metadata": {
        "id": "JdwWtSA5vBD7"
      }
    },
    {
      "cell_type": "code",
      "source": [
        "z = d_ndarray.T\n",
        "print(product_of_matrix(z, e_ndarray))"
      ],
      "metadata": {
        "colab": {
          "base_uri": "https://localhost:8080/"
        },
        "id": "cVVqO1xstyRZ",
        "outputId": "d7bbc0a8-9814-4a79-8292-b85e9f18b1f6"
      },
      "execution_count": null,
      "outputs": [
        {
          "output_type": "stream",
          "name": "stdout",
          "text": [
            "[[ 33. -28.   9.]\n",
            " [-48.  41.  -6.]\n",
            " [  9.  -6.  45.]]\n"
          ]
        }
      ]
    }
  ]
}