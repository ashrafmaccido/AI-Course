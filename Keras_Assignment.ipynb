{
  "cells": [
    {
      "cell_type": "markdown",
      "metadata": {
        "id": "view-in-github",
        "colab_type": "text"
      },
      "source": [
        "<a href=\"https://colab.research.google.com/github/Abdullah-Sada/AI-Assignment/blob/main/Keras_Assignment.ipynb\" target=\"_parent\"><img src=\"https://colab.research.google.com/assets/colab-badge.svg\" alt=\"Open In Colab\"/></a>"
      ]
    },
    {
      "cell_type": "markdown",
      "metadata": {
        "id": "uNmri2DWvZoN"
      },
      "source": [
        "problem 1"
      ]
    },
    {
      "cell_type": "markdown",
      "metadata": {
        "id": "OvUeDaDOvZoP"
      },
      "source": [
        "https://www.tensorflow.org/tutorials/images/cnn"
      ]
    },
    {
      "cell_type": "code",
      "execution_count": 1,
      "metadata": {
        "id": "-4jPVXEuvZoP"
      },
      "outputs": [],
      "source": [
        "import matplotlib.pyplot as plt"
      ]
    },
    {
      "cell_type": "code",
      "execution_count": 2,
      "metadata": {
        "id": "7doStVpcvZoQ"
      },
      "outputs": [],
      "source": [
        "import tensorflow as tf"
      ]
    },
    {
      "cell_type": "code",
      "execution_count": 3,
      "metadata": {
        "id": "JocO8iSfvZoQ"
      },
      "outputs": [],
      "source": [
        "from tensorflow.keras import datasets, layers, models"
      ]
    },
    {
      "cell_type": "code",
      "execution_count": 4,
      "metadata": {
        "colab": {
          "base_uri": "https://localhost:8080/"
        },
        "id": "vKNV9VGfvZoQ",
        "outputId": "06b90a4c-540e-4686-ee1a-d33b85d8f847"
      },
      "outputs": [
        {
          "output_type": "stream",
          "name": "stdout",
          "text": [
            "Downloading data from https://storage.googleapis.com/tensorflow/tf-keras-datasets/mnist.npz\n",
            "11490434/11490434 [==============================] - 1s 0us/step\n"
          ]
        }
      ],
      "source": [
        "(train_images, train_labels), (test_images, test_labels) = datasets.mnist.load_data()\n",
        "\n",
        "train_images = train_images.reshape((60000, 28, 28, 1))\n",
        "test_images = test_images.reshape((10000, 28, 28, 1))\n",
        "\n",
        "# Normalize pixel values to be between 0 and 1\n",
        "train_images, test_images = train_images / 255.0, test_images / 255.0"
      ]
    },
    {
      "cell_type": "code",
      "execution_count": 5,
      "metadata": {
        "id": "jPTRGXzwvZoR"
      },
      "outputs": [],
      "source": [
        "model = models.Sequential()\n",
        "model.add(layers.Conv2D(32, (3, 3), activation='relu', input_shape=(28, 28, 1)))\n",
        "model.add(layers.MaxPooling2D((2, 2)))\n",
        "model.add(layers.Conv2D(64, (3, 3), activation='relu'))\n",
        "model.add(layers.MaxPooling2D((2, 2)))\n",
        "model.add(layers.Conv2D(64, (3, 3), activation='relu'))"
      ]
    },
    {
      "cell_type": "code",
      "execution_count": 6,
      "metadata": {
        "colab": {
          "base_uri": "https://localhost:8080/"
        },
        "id": "qfNpkIPEvZoR",
        "outputId": "ce89fcba-21a6-4a9d-cedb-82849303e00e"
      },
      "outputs": [
        {
          "output_type": "stream",
          "name": "stdout",
          "text": [
            "Model: \"sequential\"\n",
            "_________________________________________________________________\n",
            " Layer (type)                Output Shape              Param #   \n",
            "=================================================================\n",
            " conv2d (Conv2D)             (None, 26, 26, 32)        320       \n",
            "                                                                 \n",
            " max_pooling2d (MaxPooling2  (None, 13, 13, 32)        0         \n",
            " D)                                                              \n",
            "                                                                 \n",
            " conv2d_1 (Conv2D)           (None, 11, 11, 64)        18496     \n",
            "                                                                 \n",
            " max_pooling2d_1 (MaxPoolin  (None, 5, 5, 64)          0         \n",
            " g2D)                                                            \n",
            "                                                                 \n",
            " conv2d_2 (Conv2D)           (None, 3, 3, 64)          36928     \n",
            "                                                                 \n",
            "=================================================================\n",
            "Total params: 55744 (217.75 KB)\n",
            "Trainable params: 55744 (217.75 KB)\n",
            "Non-trainable params: 0 (0.00 Byte)\n",
            "_________________________________________________________________\n"
          ]
        }
      ],
      "source": [
        "model.summary()"
      ]
    },
    {
      "cell_type": "code",
      "execution_count": 7,
      "metadata": {
        "id": "htZnfQZ4vZoS"
      },
      "outputs": [],
      "source": [
        "model.add(layers.Flatten())\n",
        "model.add(layers.Dense(64, activation='relu'))\n",
        "model.add(layers.Dense(10, activation='softmax'))"
      ]
    },
    {
      "cell_type": "code",
      "execution_count": 8,
      "metadata": {
        "colab": {
          "base_uri": "https://localhost:8080/"
        },
        "id": "UB7Dt7o8vZoS",
        "outputId": "f7635d81-7225-4a39-c0fa-08697f314274"
      },
      "outputs": [
        {
          "output_type": "stream",
          "name": "stdout",
          "text": [
            "Model: \"sequential\"\n",
            "_________________________________________________________________\n",
            " Layer (type)                Output Shape              Param #   \n",
            "=================================================================\n",
            " conv2d (Conv2D)             (None, 26, 26, 32)        320       \n",
            "                                                                 \n",
            " max_pooling2d (MaxPooling2  (None, 13, 13, 32)        0         \n",
            " D)                                                              \n",
            "                                                                 \n",
            " conv2d_1 (Conv2D)           (None, 11, 11, 64)        18496     \n",
            "                                                                 \n",
            " max_pooling2d_1 (MaxPoolin  (None, 5, 5, 64)          0         \n",
            " g2D)                                                            \n",
            "                                                                 \n",
            " conv2d_2 (Conv2D)           (None, 3, 3, 64)          36928     \n",
            "                                                                 \n",
            " flatten (Flatten)           (None, 576)               0         \n",
            "                                                                 \n",
            " dense (Dense)               (None, 64)                36928     \n",
            "                                                                 \n",
            " dense_1 (Dense)             (None, 10)                650       \n",
            "                                                                 \n",
            "=================================================================\n",
            "Total params: 93322 (364.54 KB)\n",
            "Trainable params: 93322 (364.54 KB)\n",
            "Non-trainable params: 0 (0.00 Byte)\n",
            "_________________________________________________________________\n"
          ]
        }
      ],
      "source": [
        "model.summary()"
      ]
    },
    {
      "cell_type": "markdown",
      "metadata": {
        "id": "0-UZRa1jvZoS"
      },
      "source": [
        "Model compilation and training"
      ]
    },
    {
      "cell_type": "code",
      "execution_count": 9,
      "metadata": {
        "colab": {
          "base_uri": "https://localhost:8080/"
        },
        "id": "7lrWYkjVvZoS",
        "outputId": "2c52e5a4-ebdc-4097-e38f-86646b09a645"
      },
      "outputs": [
        {
          "output_type": "stream",
          "name": "stdout",
          "text": [
            "Epoch 1/5\n"
          ]
        },
        {
          "output_type": "stream",
          "name": "stderr",
          "text": [
            "/usr/local/lib/python3.10/dist-packages/keras/src/backend.py:5727: UserWarning: \"`sparse_categorical_crossentropy` received `from_logits=True`, but the `output` argument was produced by a Softmax activation and thus does not represent logits. Was this intended?\n",
            "  output, from_logits = _get_logits(\n"
          ]
        },
        {
          "output_type": "stream",
          "name": "stdout",
          "text": [
            "1875/1875 [==============================] - 78s 38ms/step - loss: 0.1505 - accuracy: 0.9538 - val_loss: 0.0585 - val_accuracy: 0.9821\n",
            "Epoch 2/5\n",
            "1875/1875 [==============================] - 61s 33ms/step - loss: 0.0474 - accuracy: 0.9854 - val_loss: 0.0551 - val_accuracy: 0.9835\n",
            "Epoch 3/5\n",
            "1875/1875 [==============================] - 61s 32ms/step - loss: 0.0355 - accuracy: 0.9890 - val_loss: 0.0278 - val_accuracy: 0.9890\n",
            "Epoch 4/5\n",
            "1875/1875 [==============================] - 62s 33ms/step - loss: 0.0269 - accuracy: 0.9913 - val_loss: 0.0297 - val_accuracy: 0.9896\n",
            "Epoch 5/5\n",
            "1875/1875 [==============================] - 64s 34ms/step - loss: 0.0208 - accuracy: 0.9934 - val_loss: 0.0349 - val_accuracy: 0.9885\n"
          ]
        }
      ],
      "source": [
        "model.compile(optimizer='adam',\n",
        "              loss=tf.keras.losses.SparseCategoricalCrossentropy(from_logits=True),\n",
        "              metrics=['accuracy'])\n",
        "\n",
        "history = model.fit(train_images, train_labels, epochs=5,\n",
        "                    validation_data=(test_images, test_labels))"
      ]
    },
    {
      "cell_type": "code",
      "execution_count": 10,
      "metadata": {
        "id": "7k7rBXEhvZoT"
      },
      "outputs": [],
      "source": [
        "# model.compile(optimizer='adam',\n",
        "#               loss='sparse_categorical_crossentropy',\n",
        "#               metrics=['accuracy'])\n",
        "\n",
        "# model.fit(train_images, train_labels, epochs=5)"
      ]
    },
    {
      "cell_type": "code",
      "execution_count": 10,
      "metadata": {
        "id": "eCvFWcr6vZoT"
      },
      "outputs": [],
      "source": []
    },
    {
      "cell_type": "markdown",
      "metadata": {
        "id": "lMhCxIODvZoT"
      },
      "source": [
        "Evaluate the model"
      ]
    },
    {
      "cell_type": "code",
      "execution_count": 11,
      "metadata": {
        "colab": {
          "base_uri": "https://localhost:8080/",
          "height": 472
        },
        "id": "woaickXvvZoT",
        "outputId": "1ce829e0-c1b7-457b-9fcf-352e2b29b1fb"
      },
      "outputs": [
        {
          "output_type": "stream",
          "name": "stdout",
          "text": [
            "313/313 - 3s - loss: 0.0349 - accuracy: 0.9885 - 3s/epoch - 9ms/step\n"
          ]
        },
        {
          "output_type": "display_data",
          "data": {
            "text/plain": [
              "<Figure size 640x480 with 1 Axes>"
            ],
            "image/png": "[encoded data removed]"
          },
          "metadata": {}
        }
      ],
      "source": [
        "plt.plot(history.history['accuracy'], label='accuracy')\n",
        "plt.plot(history.history['val_accuracy'], label = 'val_accuracy')\n",
        "plt.xlabel('Epoch')\n",
        "plt.ylabel('Accuracy')\n",
        "plt.ylim([0.5, 1])\n",
        "plt.legend(loc='lower right')\n",
        "\n",
        "test_loss, test_acc = model.evaluate(test_images,  test_labels, verbose=2)"
      ]
    },
    {
      "cell_type": "code",
      "execution_count": 12,
      "metadata": {
        "colab": {
          "base_uri": "https://localhost:8080/"
        },
        "id": "ODXggDFHvZoT",
        "outputId": "56d1eef5-b919-4f04-95f3-b44b3730b6b6"
      },
      "outputs": [
        {
          "output_type": "stream",
          "name": "stdout",
          "text": [
            "0.9884999990463257\n"
          ]
        }
      ],
      "source": [
        "print(test_acc)"
      ]
    },
    {
      "cell_type": "markdown",
      "metadata": {
        "id": "N-X6QPSVvZoU"
      },
      "source": [
        "Problem 3"
      ]
    },
    {
      "cell_type": "code",
      "execution_count": 17,
      "metadata": {
        "id": "yiI18OjYvZoU"
      },
      "outputs": [],
      "source": [
        "import numpy as np\n",
        "import pandas as pd\n",
        "from keras import backend as K\n",
        "from sklearn.model_selection import train_test_split\n",
        "from sklearn.preprocessing import StandardScaler\n",
        "from keras.optimizers import Adam\n",
        "\n",
        "dataset_path =\"Iris.csv\"\n",
        "df = pd.read_csv(dataset_path)\n",
        "\n",
        "df = df[(df[\"Species\"] == \"Iris-versicolor\")|(df[\"Species\"] == \"Iris-virginica\")]\n",
        "y = df[\"Species\"]\n",
        "X = df.loc[:, [\"SepalLengthCm\", \"SepalWidthCm\", \"PetalLengthCm\", \"PetalWidthCm\"]]\n",
        "y = np.array(y)\n",
        "X = np.array(X)\n",
        "\n",
        "y[y=='Iris-versicolor'] = 0\n",
        "y[y=='Iris-virginica'] = 1\n",
        "y = y.astype(np.int64)[:, np.newaxis]\n",
        "\n",
        "X_train, X_test, y_train, y_test = train_test_split(X, y, test_size=0.2, random_state=0)\n",
        "\n",
        "X_train, X_val, y_train, y_val = train_test_split(X_train, y_train, test_size=0.2, random_state=0)"
      ]
    },
    {
      "cell_type": "code",
      "execution_count": 18,
      "metadata": {
        "id": "wnxxEFKhvZoU"
      },
      "outputs": [],
      "source": [
        "K.clear_session( )"
      ]
    },
    {
      "cell_type": "code",
      "execution_count": 19,
      "metadata": {
        "id": "QE4H3VH3vZoU"
      },
      "outputs": [],
      "source": [
        "model = tf.keras.Sequential()\n",
        "model.add(tf.keras.layers.Dense(50, activation = tf.nn.relu, input_shape=(4,)))\n",
        "model.add(tf.keras.layers.Dense(100))\n",
        "model.add(tf.keras.layers.Dense(1, activation = tf.nn.sigmoid))"
      ]
    },
    {
      "cell_type": "code",
      "execution_count": 20,
      "metadata": {
        "colab": {
          "base_uri": "https://localhost:8080/"
        },
        "id": "XBeloAp9vZoU",
        "outputId": "317068ae-9862-4ae4-86ea-571d9bf15553"
      },
      "outputs": [
        {
          "output_type": "stream",
          "name": "stdout",
          "text": [
            "Model: \"sequential\"\n",
            "_________________________________________________________________\n",
            " Layer (type)                Output Shape              Param #   \n",
            "=================================================================\n",
            " dense (Dense)               (None, 50)                250       \n",
            "                                                                 \n",
            " dense_1 (Dense)             (None, 100)               5100      \n",
            "                                                                 \n",
            " dense_2 (Dense)             (None, 1)                 101       \n",
            "                                                                 \n",
            "=================================================================\n",
            "Total params: 5451 (21.29 KB)\n",
            "Trainable params: 5451 (21.29 KB)\n",
            "Non-trainable params: 0 (0.00 Byte)\n",
            "_________________________________________________________________\n"
          ]
        }
      ],
      "source": [
        "model.summary()"
      ]
    },
    {
      "cell_type": "code",
      "execution_count": 21,
      "metadata": {
        "colab": {
          "base_uri": "https://localhost:8080/"
        },
        "id": "EjHzq8mFvZoU",
        "outputId": "f56a2757-d02e-4133-f0aa-847a79ba7a54"
      },
      "outputs": [
        {
          "output_type": "stream",
          "name": "stdout",
          "text": [
            "Epoch 1/10\n",
            "7/7 [==============================] - 1s 40ms/step - loss: 1.6050 - accuracy: 0.5000 - val_loss: 1.0814 - val_accuracy: 0.3750\n",
            "Epoch 2/10\n",
            "7/7 [==============================] - 0s 15ms/step - loss: 0.8204 - accuracy: 0.5000 - val_loss: 0.6063 - val_accuracy: 0.6250\n",
            "Epoch 3/10\n",
            "7/7 [==============================] - 0s 14ms/step - loss: 0.7054 - accuracy: 0.5469 - val_loss: 0.8157 - val_accuracy: 0.3750\n",
            "Epoch 4/10\n",
            "7/7 [==============================] - 0s 13ms/step - loss: 0.6389 - accuracy: 0.5781 - val_loss: 0.5941 - val_accuracy: 1.0000\n",
            "Epoch 5/10\n",
            "7/7 [==============================] - 0s 13ms/step - loss: 0.5591 - accuracy: 0.9531 - val_loss: 0.5233 - val_accuracy: 1.0000\n",
            "Epoch 6/10\n",
            "7/7 [==============================] - 0s 13ms/step - loss: 0.4984 - accuracy: 0.7812 - val_loss: 0.5109 - val_accuracy: 0.8125\n",
            "Epoch 7/10\n",
            "7/7 [==============================] - 0s 11ms/step - loss: 0.4934 - accuracy: 0.8281 - val_loss: 0.3905 - val_accuracy: 1.0000\n",
            "Epoch 8/10\n",
            "7/7 [==============================] - 0s 17ms/step - loss: 0.4253 - accuracy: 0.7500 - val_loss: 0.3145 - val_accuracy: 1.0000\n",
            "Epoch 9/10\n",
            "7/7 [==============================] - 0s 20ms/step - loss: 0.4584 - accuracy: 0.7344 - val_loss: 0.3783 - val_accuracy: 0.8125\n",
            "Epoch 10/10\n",
            "7/7 [==============================] - 0s 15ms/step - loss: 0.3633 - accuracy: 0.8438 - val_loss: 0.2348 - val_accuracy: 0.9375\n"
          ]
        }
      ],
      "source": [
        "callback = tf.keras.callbacks.EarlyStopping(monitor='loss', patience=3)\n",
        "model.compile(loss='binary_crossentropy',\n",
        "              optimizer=tf.optimizers.Adam(learning_rate=0.01),\n",
        "              metrics=['accuracy'])\n",
        "history = model.fit(X_train, y_train,\n",
        "                    batch_size=10,\n",
        "                    epochs=10,\n",
        "                    verbose=1,\n",
        "                    callbacks=[callback],\n",
        "                    validation_data=(X_val, y_val))"
      ]
    },
    {
      "cell_type": "code",
      "execution_count": 22,
      "metadata": {
        "colab": {
          "base_uri": "https://localhost:8080/"
        },
        "id": "qsxz6WQyvZoU",
        "outputId": "69357d9e-86b4-4f1a-d283-0028c84d43ed"
      },
      "outputs": [
        {
          "output_type": "stream",
          "name": "stdout",
          "text": [
            "1/1 [==============================] - 0s 135ms/step\n",
            "y_pred_proba [0.15274711 0.832432   0.12649208 0.8953761  0.60587966 0.8520507\n",
            " 0.26830423 0.52713305 0.8850416  0.6845755  0.76998514 0.79185283\n",
            " 0.8682369  0.22514826 0.06997611 0.1060035  0.4553578  0.06671404\n",
            " 0.6152095  0.09443584]\n",
            "y_pred [0 1 0 1 1 1 0 1 1 1 1 1 1 0 0 0 0 0 1 0]\n",
            "y_test [0 1 0 1 1 1 0 1 1 1 1 1 1 0 0 0 0 0 0 0]\n"
          ]
        }
      ],
      "source": [
        "y_pred_proba = model.predict(X_test)[:, 0]\n",
        "y_pred = np.where(y_pred_proba >0.5, 1, 0)\n",
        "print(\"y_pred_proba\", y_pred_proba)\n",
        "print(\"y_pred\", y_pred)\n",
        "print('y_test', y_test.ravel())"
      ]
    },
    {
      "cell_type": "code",
      "execution_count": 23,
      "metadata": {
        "colab": {
          "base_uri": "https://localhost:8080/"
        },
        "id": "UxWLXv5PvZoV",
        "outputId": "d347c6e8-576b-49cb-dd51-0d73b767cde4"
      },
      "outputs": [
        {
          "output_type": "stream",
          "name": "stdout",
          "text": [
            "Train loss: 0.2758260667324066\n",
            "Train accuracy: 0.949999988079071\n"
          ]
        }
      ],
      "source": [
        "score = model.evaluate(X_test, y_test, verbose=0)\n",
        "print('Train loss:', score[0])\n",
        "print('Train accuracy:', score[1])"
      ]
    },
    {
      "cell_type": "markdown",
      "metadata": {
        "id": "apvQHmjzvZoV"
      },
      "source": [
        "Problen 4"
      ]
    },
    {
      "cell_type": "code",
      "execution_count": 24,
      "metadata": {
        "id": "L3dJiR6ovZoV"
      },
      "outputs": [],
      "source": [
        "from sklearn.preprocessing import OneHotEncoder"
      ]
    },
    {
      "cell_type": "code",
      "execution_count": 27,
      "metadata": {
        "colab": {
          "base_uri": "https://localhost:8080/"
        },
        "id": "SZ_gvncdvZoV",
        "outputId": "ebc0f598-cbac-440b-df4e-de77b5a5e877"
      },
      "outputs": [
        {
          "output_type": "stream",
          "name": "stderr",
          "text": [
            "/usr/local/lib/python3.10/dist-packages/sklearn/preprocessing/_encoders.py:868: FutureWarning: `sparse` was renamed to `sparse_output` in version 1.2 and will be removed in 1.4. `sparse_output` is ignored unless you leave `sparse` to its default value.\n",
            "  warnings.warn(\n"
          ]
        }
      ],
      "source": [
        "dataset_path =\"Iris.csv\"\n",
        "df = pd.read_csv(dataset_path)\n",
        "\n",
        "y = df[\"Species\"]\n",
        "X = df.loc[:, [\"SepalLengthCm\", \"SepalWidthCm\", \"PetalLengthCm\", \"PetalWidthCm\"]]\n",
        "y = np.array(y)\n",
        "X = np.array(X)\n",
        "\n",
        "y[y=='Iris-setosa'] = 0\n",
        "y[y=='Iris-versicolor'] = 1\n",
        "y[y=='Iris-virginica'] = 2\n",
        "y = y.astype(np.int64)[:, np.newaxis]\n",
        "\n",
        "X_train, X_test, y_train, y_test = train_test_split(X, y, test_size=0.2, random_state=0)\n",
        "\n",
        "X_train, X_val, y_train, y_val = train_test_split(X_train, y_train, test_size=0.2, random_state=0)\n",
        "\n",
        "\n",
        "enc = OneHotEncoder(handle_unknown='ignore', sparse=False)\n",
        "y_train_one_hot = enc.fit_transform(y_train)\n",
        "y_val_one_hot = enc.transform(y_val)\n",
        "y_test_one_hot = enc.transform(y_test)"
      ]
    },
    {
      "cell_type": "code",
      "execution_count": 28,
      "metadata": {
        "id": "W8_xQOBGvZoV"
      },
      "outputs": [],
      "source": [
        "K.clear_session( )\n",
        "model = tf.keras.Sequential()\n",
        "model.add(tf.keras.layers.Dense(50, activation = tf.nn.relu, input_shape=(4,)))\n",
        "model.add(tf.keras.layers.Dense(100))\n",
        "model.add(tf.keras.layers.Dense(3, activation = tf.nn.softmax))"
      ]
    },
    {
      "cell_type": "code",
      "execution_count": 29,
      "metadata": {
        "colab": {
          "base_uri": "https://localhost:8080/"
        },
        "id": "lw2ZblUnvZoV",
        "outputId": "726d4e7d-470d-4ed8-baad-eb4c1622256b"
      },
      "outputs": [
        {
          "output_type": "stream",
          "name": "stdout",
          "text": [
            "Model: \"sequential\"\n",
            "_________________________________________________________________\n",
            " Layer (type)                Output Shape              Param #   \n",
            "=================================================================\n",
            " dense (Dense)               (None, 50)                250       \n",
            "                                                                 \n",
            " dense_1 (Dense)             (None, 100)               5100      \n",
            "                                                                 \n",
            " dense_2 (Dense)             (None, 3)                 303       \n",
            "                                                                 \n",
            "=================================================================\n",
            "Total params: 5653 (22.08 KB)\n",
            "Trainable params: 5653 (22.08 KB)\n",
            "Non-trainable params: 0 (0.00 Byte)\n",
            "_________________________________________________________________\n"
          ]
        }
      ],
      "source": [
        "model.summary()"
      ]
    },
    {
      "cell_type": "code",
      "execution_count": 30,
      "metadata": {
        "id": "ONdZL2axvZoV"
      },
      "outputs": [],
      "source": [
        "model.compile(loss='categorical_crossentropy',\n",
        "              optimizer=tf.optimizers.Adam(learning_rate=0.01),\n",
        "              metrics=['accuracy'])\n",
        "\n",
        "history = model.fit(X_train, y_train_one_hot,\n",
        "                    batch_size=10,\n",
        "                    epochs=10,\n",
        "                    verbose=0,\n",
        "                    validation_data=(X_val, y_val_one_hot))"
      ]
    },
    {
      "cell_type": "code",
      "execution_count": 31,
      "metadata": {
        "colab": {
          "base_uri": "https://localhost:8080/"
        },
        "id": "B5oT6ELyvZoW",
        "outputId": "27f60cbd-580b-48bd-e196-ddc75bb34150"
      },
      "outputs": [
        {
          "output_type": "stream",
          "name": "stdout",
          "text": [
            "1/1 [==============================] - 0s 139ms/step\n",
            "y_pred_proba [2.9782615e-10 9.9936523e-04 9.9971128e-01 1.0123770e-09 9.9835241e-01\n",
            " 2.8907697e-12 9.9899930e-01 2.6596029e-04 1.2752468e-04 1.9816807e-03\n",
            " 1.6823668e-08 5.6970998e-04 1.7628746e-04 1.6648376e-04 1.1931917e-04\n",
            " 9.9744713e-01 1.9031641e-04 1.8384955e-04 9.9691743e-01 9.9954540e-01\n",
            " 2.3380959e-08 1.1310597e-04 9.9502724e-01 9.9536538e-01 6.8343825e-06\n",
            " 9.9932325e-01 9.9771392e-01 8.7537017e-04 8.7033641e-03 9.9767929e-01]\n",
            "y_pred [0 0 1 0 1 0 1 0 0 0 0 0 0 0 0 1 0 0 1 1 0 0 1 1 0 1 1 0 0 1]\n",
            "y_test [2 1 0 2 0 2 0 1 1 1 2 1 1 1 1 0 1 1 0 0 2 1 0 0 2 0 0 1 1 0]\n"
          ]
        }
      ],
      "source": [
        "y_pred_proba = model.predict(X_test)[:, 0]\n",
        "y_pred = np.where(y_pred_proba >0.5, 1, 0)\n",
        "\n",
        "print(\"y_pred_proba\", y_pred_proba)\n",
        "print(\"y_pred\", y_pred)\n",
        "print('y_test', y_test.ravel())"
      ]
    },
    {
      "cell_type": "code",
      "execution_count": 32,
      "metadata": {
        "colab": {
          "base_uri": "https://localhost:8080/"
        },
        "id": "adqMUeryvZoW",
        "outputId": "3a40159c-d862-41f6-efd5-4c260538941a"
      },
      "outputs": [
        {
          "output_type": "stream",
          "name": "stdout",
          "text": [
            "1/1 [==============================] - 0s 47ms/step\n",
            "y_pred [2 1 0 2 0 2 0 1 1 1 2 1 1 1 1 0 1 1 0 0 2 1 0 0 2 0 0 1 1 0]\n",
            "y_test [2 1 0 2 0 2 0 1 1 1 2 1 1 1 1 0 1 1 0 0 2 1 0 0 2 0 0 1 1 0]\n"
          ]
        }
      ],
      "source": [
        "y_pred_proba = model.predict(X_test)\n",
        "y_pred = np.argmax(y_pred_proba, axis=1)\n",
        "print(\"y_pred\", y_pred)\n",
        "print('y_test', y_test.ravel())"
      ]
    },
    {
      "cell_type": "code",
      "execution_count": 33,
      "metadata": {
        "colab": {
          "base_uri": "https://localhost:8080/"
        },
        "id": "wt1rpE5vvZoW",
        "outputId": "ad3d28ec-9c06-4e7d-eca0-a31c7bf9862b"
      },
      "outputs": [
        {
          "output_type": "stream",
          "name": "stdout",
          "text": [
            "Train loss: 0.05948422849178314\n",
            "Train accuracy: 1.0\n"
          ]
        }
      ],
      "source": [
        "score = model.evaluate(X_test, y_test_one_hot, verbose=0)\n",
        "print('Train loss:', score[0])\n",
        "print('Train accuracy:', score[1])"
      ]
    },
    {
      "cell_type": "markdown",
      "metadata": {
        "id": "v5lhaZP8vZoW"
      },
      "source": [
        "problem 5"
      ]
    },
    {
      "cell_type": "code",
      "execution_count": 36,
      "metadata": {
        "id": "SsNZDQrdvZoW"
      },
      "outputs": [],
      "source": [
        "from sklearn.preprocessing import StandardScaler\n",
        "\n",
        "train = pd.read_csv('Housing_train.csv')\n",
        "\n",
        "x = train[['GrLivArea', 'YearBuilt']]\n",
        "y = train[['SalePrice']]\n",
        "\n",
        "x = np.log(x).values\n",
        "y = np.log(y).values\n",
        "\n",
        "sc = StandardScaler()\n",
        "sc.fit_transform(x)\n",
        "\n",
        "X_train, X_test, y_train, y_test = train_test_split(x, y, test_size=0.2, random_state=0)\n",
        "\n",
        "X_train, X_val, y_train, y_val = train_test_split(X_train, y_train, test_size=0.2, random_state=0)"
      ]
    },
    {
      "cell_type": "code",
      "execution_count": 37,
      "metadata": {
        "id": "XuWooS2dvZoW"
      },
      "outputs": [],
      "source": [
        "K.clear_session( )"
      ]
    },
    {
      "cell_type": "code",
      "execution_count": 38,
      "metadata": {
        "id": "_pgCySGhvZoX"
      },
      "outputs": [],
      "source": [
        "model = tf.keras.Sequential()\n",
        "model.add(tf.keras.layers.Dense(50, activation = tf.nn.relu, input_shape=(2,)))\n",
        "model.add(tf.keras.layers.Dense(100))\n",
        "model.add(tf.keras.layers.Dense(1, activation = tf.keras.activations.linear))"
      ]
    },
    {
      "cell_type": "code",
      "execution_count": 39,
      "metadata": {
        "colab": {
          "base_uri": "https://localhost:8080/"
        },
        "id": "m6v_XKM3vZoX",
        "outputId": "53d27e26-43c5-4a22-da9b-c1523cdb4ca3"
      },
      "outputs": [
        {
          "output_type": "stream",
          "name": "stdout",
          "text": [
            "Model: \"sequential\"\n",
            "_________________________________________________________________\n",
            " Layer (type)                Output Shape              Param #   \n",
            "=================================================================\n",
            " dense (Dense)               (None, 50)                150       \n",
            "                                                                 \n",
            " dense_1 (Dense)             (None, 100)               5100      \n",
            "                                                                 \n",
            " dense_2 (Dense)             (None, 1)                 101       \n",
            "                                                                 \n",
            "=================================================================\n",
            "Total params: 5351 (20.90 KB)\n",
            "Trainable params: 5351 (20.90 KB)\n",
            "Non-trainable params: 0 (0.00 Byte)\n",
            "_________________________________________________________________\n"
          ]
        }
      ],
      "source": [
        "model.summary()"
      ]
    },
    {
      "cell_type": "code",
      "execution_count": 40,
      "metadata": {
        "colab": {
          "base_uri": "https://localhost:8080/"
        },
        "id": "ymTQ0WaqvZoX",
        "outputId": "14bb0c27-d59b-4ddd-b837-7aaf725aa629"
      },
      "outputs": [
        {
          "output_type": "stream",
          "name": "stdout",
          "text": [
            "Epoch 1/20\n",
            "94/94 [==============================] - 2s 9ms/step - loss: 4.4004 - mse: 4.4004 - val_loss: 0.0881 - val_mse: 0.0881\n",
            "Epoch 2/20\n",
            "94/94 [==============================] - 1s 6ms/step - loss: 0.0879 - mse: 0.0879 - val_loss: 0.0810 - val_mse: 0.0810\n",
            "Epoch 3/20\n",
            "94/94 [==============================] - 0s 5ms/step - loss: 0.0901 - mse: 0.0901 - val_loss: 0.0966 - val_mse: 0.0966\n",
            "Epoch 4/20\n",
            "94/94 [==============================] - 0s 3ms/step - loss: 0.0869 - mse: 0.0869 - val_loss: 0.0744 - val_mse: 0.0744\n",
            "Epoch 5/20\n",
            "94/94 [==============================] - 0s 4ms/step - loss: 0.0784 - mse: 0.0784 - val_loss: 0.0705 - val_mse: 0.0705\n",
            "Epoch 6/20\n",
            "94/94 [==============================] - 0s 3ms/step - loss: 0.0920 - mse: 0.0920 - val_loss: 0.0761 - val_mse: 0.0761\n",
            "Epoch 7/20\n",
            "94/94 [==============================] - 0s 5ms/step - loss: 0.0894 - mse: 0.0894 - val_loss: 0.0756 - val_mse: 0.0756\n",
            "Epoch 8/20\n",
            "94/94 [==============================] - 0s 4ms/step - loss: 0.0869 - mse: 0.0869 - val_loss: 0.0775 - val_mse: 0.0775\n",
            "Epoch 9/20\n",
            "94/94 [==============================] - 0s 3ms/step - loss: 0.0962 - mse: 0.0962 - val_loss: 0.0717 - val_mse: 0.0717\n",
            "Epoch 10/20\n",
            "94/94 [==============================] - 0s 4ms/step - loss: 0.0958 - mse: 0.0958 - val_loss: 0.0982 - val_mse: 0.0982\n"
          ]
        }
      ],
      "source": [
        "callback = tf.keras.callbacks.EarlyStopping(monitor='loss', patience=5)\n",
        "model.compile(loss='mse',\n",
        "              optimizer=tf.optimizers.Adam(learning_rate=0.01),\n",
        "              metrics=['mse'])\n",
        "history = model.fit(X_train, y_train,\n",
        "                    batch_size=10,\n",
        "                    epochs=20,\n",
        "                    verbose=1,\n",
        "                    callbacks=[callback],\n",
        "                    validation_data=(X_val, y_val))"
      ]
    },
    {
      "cell_type": "code",
      "execution_count": 41,
      "metadata": {
        "colab": {
          "base_uri": "https://localhost:8080/"
        },
        "id": "KDgKPnCPvZoY",
        "outputId": "e8f5261a-334f-464f-805a-3f45b0070bdd"
      },
      "outputs": [
        {
          "output_type": "stream",
          "name": "stdout",
          "text": [
            "10/10 [==============================] - 0s 2ms/step\n",
            "y_pred [12.64445  12.242982 12.016496 12.467284 11.94265 ]\n",
            "y_test [12.20918779 11.79810441 11.60823564 12.16525065 11.38509209]\n"
          ]
        }
      ],
      "source": [
        "y_pred_proba = model.predict(X_test)\n",
        "y_pred = y_pred_proba\n",
        "print(\"y_pred\", y_pred.ravel()[:5])\n",
        "print('y_test', y_test.ravel()[:5])"
      ]
    },
    {
      "cell_type": "code",
      "execution_count": 42,
      "metadata": {
        "colab": {
          "base_uri": "https://localhost:8080/"
        },
        "id": "gW3w8p6xvZoY",
        "outputId": "19e401a0-1169-4df3-f020-ded3141a2710"
      },
      "outputs": [
        {
          "output_type": "stream",
          "name": "stdout",
          "text": [
            "loss (test): 0.0874139741063118\n",
            "Mean Squared Error (test): 0.0874139741063118\n"
          ]
        }
      ],
      "source": [
        "score = model.evaluate(X_test, y_test, verbose=0)\n",
        "print('loss (test):', score[0])\n",
        "print('Mean Squared Error (test):', score[1])"
      ]
    },
    {
      "cell_type": "markdown",
      "metadata": {
        "id": "ehqFykQZvZoY"
      },
      "source": [
        "problem 6"
      ]
    },
    {
      "cell_type": "code",
      "execution_count": 45,
      "metadata": {
        "colab": {
          "base_uri": "https://localhost:8080/"
        },
        "id": "taHTXLltvZoY",
        "outputId": "ff02cd76-675d-455f-8a79-26d3bba4cc1b"
      },
      "outputs": [
        {
          "output_type": "stream",
          "name": "stderr",
          "text": [
            "/usr/local/lib/python3.10/dist-packages/sklearn/preprocessing/_encoders.py:868: FutureWarning: `sparse` was renamed to `sparse_output` in version 1.2 and will be removed in 1.4. `sparse_output` is ignored unless you leave `sparse` to its default value.\n",
            "  warnings.warn(\n"
          ]
        }
      ],
      "source": [
        "from keras.datasets import mnist\n",
        "(X_train, y_train), (X_test, y_test) = mnist.load_data()\n",
        "\n",
        "X_train = X_train.reshape(-1, 784)\n",
        "X_test = X_test.reshape(-1, 784)\n",
        "\n",
        "X_train = X_train.astype(np.float64)\n",
        "X_test = X_test.astype(np.float64)\n",
        "X_train /= 255\n",
        "X_test /= 255\n",
        "\n",
        "X_train, X_val, y_train, y_val = train_test_split(X_train, y_train, test_size=0.2)\n",
        "\n",
        "from sklearn.preprocessing import OneHotEncoder\n",
        "enc = OneHotEncoder(handle_unknown='ignore', sparse=False)\n",
        "y_train_one_hot = enc.fit_transform(y_train[:, np.newaxis])\n",
        "y_val_one_hot = enc.transform(y_val[:, np.newaxis])\n",
        "y_test_one_hot = enc.transform(y_test[:, np.newaxis])"
      ]
    },
    {
      "cell_type": "code",
      "execution_count": 46,
      "metadata": {
        "id": "15RO659EvZoY"
      },
      "outputs": [],
      "source": [
        "K.clear_session( )"
      ]
    },
    {
      "cell_type": "code",
      "execution_count": 47,
      "metadata": {
        "id": "SYA4x8iQvZoY"
      },
      "outputs": [],
      "source": [
        "model = tf.keras.Sequential()\n",
        "model.add(tf.keras.layers.Dense(50, activation = tf.nn.relu, input_shape=(784,)))\n",
        "model.add(tf.keras.layers.Dense(100))\n",
        "model.add(tf.keras.layers.Dense(10, activation = tf.nn.softmax))"
      ]
    },
    {
      "cell_type": "code",
      "execution_count": 48,
      "metadata": {
        "colab": {
          "base_uri": "https://localhost:8080/"
        },
        "id": "ADU4yTOivZoY",
        "outputId": "daa542fd-3f03-49b6-b0f6-edba34fb02d9"
      },
      "outputs": [
        {
          "output_type": "stream",
          "name": "stdout",
          "text": [
            "Model: \"sequential\"\n",
            "_________________________________________________________________\n",
            " Layer (type)                Output Shape              Param #   \n",
            "=================================================================\n",
            " dense (Dense)               (None, 50)                39250     \n",
            "                                                                 \n",
            " dense_1 (Dense)             (None, 100)               5100      \n",
            "                                                                 \n",
            " dense_2 (Dense)             (None, 10)                1010      \n",
            "                                                                 \n",
            "=================================================================\n",
            "Total params: 45360 (177.19 KB)\n",
            "Trainable params: 45360 (177.19 KB)\n",
            "Non-trainable params: 0 (0.00 Byte)\n",
            "_________________________________________________________________\n"
          ]
        }
      ],
      "source": [
        "model.summary()"
      ]
    },
    {
      "cell_type": "code",
      "execution_count": 49,
      "metadata": {
        "colab": {
          "base_uri": "https://localhost:8080/"
        },
        "id": "0GZPQGGEvZoZ",
        "outputId": "ca67841d-a360-4be0-cdbd-f1e54f097847"
      },
      "outputs": [
        {
          "output_type": "stream",
          "name": "stdout",
          "text": [
            "Epoch 1/5\n",
            "2400/2400 [==============================] - 10s 4ms/step - loss: 0.2955 - accuracy: 0.9130 - val_loss: 0.2226 - val_accuracy: 0.9353\n",
            "Epoch 2/5\n",
            "2400/2400 [==============================] - 7s 3ms/step - loss: 0.1868 - accuracy: 0.9456 - val_loss: 0.1921 - val_accuracy: 0.9466\n",
            "Epoch 3/5\n",
            "2400/2400 [==============================] - 9s 4ms/step - loss: 0.1532 - accuracy: 0.9564 - val_loss: 0.1894 - val_accuracy: 0.9475\n",
            "Epoch 4/5\n",
            "2400/2400 [==============================] - 8s 3ms/step - loss: 0.1367 - accuracy: 0.9603 - val_loss: 0.1590 - val_accuracy: 0.9582\n",
            "Epoch 5/5\n",
            "2400/2400 [==============================] - 9s 4ms/step - loss: 0.1260 - accuracy: 0.9633 - val_loss: 0.2081 - val_accuracy: 0.9507\n"
          ]
        }
      ],
      "source": [
        "model.compile(loss='categorical_crossentropy',\n",
        "              optimizer=tf.optimizers.Adam(learning_rate=0.005),\n",
        "              metrics=['accuracy'])\n",
        "history = model.fit(X_train, y_train_one_hot,\n",
        "                    batch_size=20,\n",
        "                    epochs=5,\n",
        "                    verbose=1,\n",
        "                    validation_data=(X_val, y_val_one_hot))"
      ]
    },
    {
      "cell_type": "code",
      "execution_count": 50,
      "metadata": {
        "colab": {
          "base_uri": "https://localhost:8080/"
        },
        "id": "mNSEXFvzvZoZ",
        "outputId": "d6601576-759b-47b9-cbc5-0d53e9c949a7"
      },
      "outputs": [
        {
          "output_type": "stream",
          "name": "stdout",
          "text": [
            "313/313 [==============================] - 1s 2ms/step\n",
            "y_pred [7 2 1 0 4 1 4 9 5 9]\n",
            "y_test [7 2 1 0 4 1 4 9 5 9]\n"
          ]
        }
      ],
      "source": [
        "y_pred_proba = model.predict(X_test)\n",
        "y_pred = np.argmax(y_pred_proba, axis=1)\n",
        "print(\"y_pred\", y_pred[:10])\n",
        "print('y_test', y_test.ravel()[:10])"
      ]
    },
    {
      "cell_type": "code",
      "execution_count": 51,
      "metadata": {
        "colab": {
          "base_uri": "https://localhost:8080/"
        },
        "id": "rLVaJih8vZoZ",
        "outputId": "279a8a7a-8a20-467b-d33f-6ae9991aa7ab"
      },
      "outputs": [
        {
          "output_type": "stream",
          "name": "stdout",
          "text": [
            "Test loss: 0.15516124665737152\n",
            "Test accuracy: 0.9599999785423279\n"
          ]
        }
      ],
      "source": [
        "score = model.evaluate(X_test, y_test_one_hot, verbose=0)\n",
        "print('Test loss:', score[0])\n",
        "print('Test accuracy:', score[1])"
      ]
    }
  ],
  "metadata": {
    "kernelspec": {
      "display_name": "Python 3",
      "language": "python",
      "name": "python3"
    },
    "language_info": {
      "codemirror_mode": {
        "name": "ipython",
        "version": 3
      },
      "file_extension": ".py",
      "mimetype": "text/x-python",
      "name": "python",
      "nbconvert_exporter": "python",
      "pygments_lexer": "ipython3",
      "version": "3.8.5"
    },
    "colab": {
      "provenance": [],
      "include_colab_link": true
    }
  },
  "nbformat": 4,
  "nbformat_minor": 0
}