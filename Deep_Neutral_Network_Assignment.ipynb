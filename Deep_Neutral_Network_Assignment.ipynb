{
  "cells": [
    {
      "cell_type": "markdown",
      "metadata": {
        "id": "SCJ-5JdafdGQ"
      },
      "source": [
        "#[Problem 1] Classifying fully connected layers"
      ]
    },
    {
      "cell_type": "code",
      "execution_count": 1,
      "metadata": {
        "colab": {
          "base_uri": "https://localhost:8080/"
        },
        "id": "aHiwXSi5w7HP",
        "outputId": "b35d36e2-2cfb-4e69-92c3-ff0105f5ed29"
      },
      "outputs": [
        {
          "name": "stdout",
          "output_type": "stream",
          "text": [
            "Downloading data from https://storage.googleapis.com/tensorflow/tf-keras-datasets/mnist.npz\n",
            "11490434/11490434 [==============================] - 0s 0us/step\n"
          ]
        }
      ],
      "source": [
        "import numpy as np\n",
        "import pandas as pd\n",
        "from keras.datasets import mnist\n",
        "\n",
        "(x_train, y_train), (x_test, y_test) = mnist.load_data()"
      ]
    },
    {
      "cell_type": "code",
      "execution_count": 2,
      "metadata": {
        "id": "56vKlLfSY8FS"
      },
      "outputs": [],
      "source": [
        "\n",
        "class FC:\n",
        "    def __init__(self, n_nodes1, n_nodes2, initializer, optimizer):\n",
        "        self.n_nodes1 = n_nodes1\n",
        "        self.n_nodes2 = n_nodes2\n",
        "        self.W = initializer.W(self.n_nodes1, self.n_nodes2)\n",
        "        self.B = initializer.B(self.n_nodes2)\n",
        "        self.optimizer = optimizer\n",
        "        self.HW = 0\n",
        "        self.HB = 0\n",
        "\n",
        "    def forward(self, X):\n",
        "        self.Z = X\n",
        "        self.A = self.Z @ self.W + self.B\n",
        "        return self.A\n",
        "\n",
        "    def backward(self, dA):\n",
        "        self.dB = np.sum(dA, axis=0)\n",
        "        self.dW = self.Z.T @ dA\n",
        "        self.dZ = dA @ self.W.T\n",
        "        # Update weights and biases using the optimizer\n",
        "        self.W, self.B = self.optimizer.update(self.W, self.B, self.dW, self.dB)\n",
        "        return self.dZ\n"
      ]
    },
    {
      "cell_type": "markdown",
      "metadata": {
        "id": "hTchD8HFZhIU"
      },
      "source": [
        "#[Problem 2] Classifying the initialization method"
      ]
    },
    {
      "cell_type": "code",
      "execution_count": 3,
      "metadata": {
        "id": "RTqPbtfQZgLP"
      },
      "outputs": [],
      "source": [
        "class SimpleInitializer:\n",
        "    def __init__(self, sigma):\n",
        "        self.sigma = sigma\n",
        "\n",
        "    def W(self, n_nodes1, n_nodes2):\n",
        "        W = self.sigma * np.random.randn(n_nodes1, n_nodes2)\n",
        "        return W\n",
        "\n",
        "    def B(self, n_nodes2):\n",
        "        B = self.sigma * np.random.randn(1, n_nodes2)\n",
        "        return B\n"
      ]
    },
    {
      "cell_type": "markdown",
      "metadata": {
        "id": "dVjpcM8RZ0pr"
      },
      "source": [
        "#[Problem 3] Classifying optimization methods"
      ]
    },
    {
      "cell_type": "code",
      "execution_count": 4,
      "metadata": {
        "id": "BG1dZagHZ1Lg"
      },
      "outputs": [],
      "source": [
        "class SGD:\n",
        "    def __init__(self, lr):\n",
        "        self.lr = lr\n",
        "\n",
        "    def update(self, layer):\n",
        "        layer.W -= self.lr * layer.dW / len(layer.Z)\n",
        "        layer.B -= self.lr * layer.dB / len(layer.Z)\n",
        "        return layer\n"
      ]
    },
    {
      "cell_type": "markdown",
      "metadata": {
        "id": "wpmFaZoEaBxk"
      },
      "source": [
        "#[Problem 4] Classifying activation functions"
      ]
    },
    {
      "cell_type": "code",
      "execution_count": 5,
      "metadata": {
        "id": "Hrc2MNW0d9Tm"
      },
      "outputs": [],
      "source": [
        "class Sigmoid:\n",
        "    def forward(self, A):\n",
        "        self.A = A\n",
        "        self.Z = 1 / (1 + np.exp(-self.A))\n",
        "        return self.Z\n",
        "\n",
        "    def backward(self, dZ):\n",
        "        sigmoid_derivative = self.Z * (1 - self.Z)\n",
        "        dA = dZ * sigmoid_derivative\n",
        "        return dA"
      ]
    },
    {
      "cell_type": "code",
      "execution_count": 6,
      "metadata": {
        "id": "iUwRyhNMeau1"
      },
      "outputs": [],
      "source": [
        "class Tanh:\n",
        "    def forward(self, A):\n",
        "        self.A = A\n",
        "        self.Z = np.tanh(self.A)\n",
        "        return self.Z\n",
        "\n",
        "    def backward(self, dZ):\n",
        "        tanh_derivative = 1 - np.tanh(self.A)**2\n",
        "        dA = dZ * tanh_derivative\n",
        "        return dA"
      ]
    },
    {
      "cell_type": "code",
      "execution_count": 7,
      "metadata": {
        "id": "GinzPJTEeq73"
      },
      "outputs": [],
      "source": [
        "class SoftmaxWithCrossEntropyLoss:\n",
        "    def forward(self, A, y):\n",
        "        self.A = A\n",
        "        self.y = y\n",
        "        exp_A = np.exp(A - np.max(A, axis=1, keepdims=True))  # For numerical stability\n",
        "        self.Z = exp_A / np.sum(exp_A, axis=1, keepdims=True)\n",
        "        loss = -np.sum(y * np.log(self.Z + 1e-15)) / len(y)  # Cross-entropy loss\n",
        "        return self.Z, loss\n",
        "\n",
        "    def backward(self):\n",
        "        dA = self.Z - self.y\n",
        "        return dA\n"
      ]
    },
    {
      "cell_type": "code",
      "execution_count": 8,
      "metadata": {
        "id": "GsVtmEfMaAZA"
      },
      "outputs": [],
      "source": [
        "def softmax(z):\n",
        "    exp_scores = np.exp(z - np.max(z, axis=1, keepdims=True))  # Subtract max for numerical stability\n",
        "    probabilities = exp_scores / np.sum(exp_scores, axis=1, keepdims=True)\n",
        "    return probabilities\n",
        "\n"
      ]
    },
    {
      "cell_type": "markdown",
      "metadata": {
        "id": "4i_pMb_KaVMe"
      },
      "source": [
        "#[Problem 5] ReLU class creation"
      ]
    },
    {
      "cell_type": "code",
      "execution_count": 9,
      "metadata": {
        "id": "Bfr9G7GQaTiJ"
      },
      "outputs": [],
      "source": [
        "class ReLU:\n",
        "    def forward(self, A):\n",
        "        self.A = A\n",
        "        Z = np.maximum(0, A)\n",
        "        return Z\n",
        "\n",
        "    def backward(self, dZ):\n",
        "        dA = dZ * np.where(self.A > 0, 1, 0)\n",
        "        return dA\n"
      ]
    },
    {
      "cell_type": "markdown",
      "metadata": {
        "id": "Xk72_3_eamIn"
      },
      "source": [
        "#[Problem 6] Initial value of weight"
      ]
    },
    {
      "cell_type": "code",
      "execution_count": 10,
      "metadata": {
        "id": "RTRHGAAsdxsN"
      },
      "outputs": [],
      "source": [
        "class XavierInitializer:\n",
        "    def __init__(self):\n",
        "        pass\n",
        "\n",
        "    def W(self, n_nodes1, n_nodes2):\n",
        "        sigma = np.sqrt(1 / n_nodes1)\n",
        "        W = sigma * np.random.randn(n_nodes1, n_nodes2)\n",
        "        return W\n",
        "\n",
        "    def B(self, n_nodes2):\n",
        "        B = np.zeros((1, n_nodes2))\n",
        "        return B"
      ]
    },
    {
      "cell_type": "code",
      "execution_count": 11,
      "metadata": {
        "id": "DDhxdpsqampF"
      },
      "outputs": [],
      "source": [
        "class HeInitializer:\n",
        "    def __init__(self):\n",
        "        pass\n",
        "\n",
        "    def W(self, n_nodes1, n_nodes2):\n",
        "        sigma = np.sqrt(2 / n_nodes1)\n",
        "        W = sigma * np.random.randn(n_nodes1, n_nodes2)\n",
        "        return W\n",
        "\n",
        "    def B(self, n_nodes2):\n",
        "        B = np.zeros((1, n_nodes2))\n",
        "        return B\n"
      ]
    },
    {
      "cell_type": "markdown",
      "metadata": {
        "id": "j87fH4O0dtoG"
      },
      "source": [
        "#[Problem 7] Optimization method"
      ]
    },
    {
      "cell_type": "code",
      "execution_count": 12,
      "metadata": {
        "id": "VmUmqQDsa5TH"
      },
      "outputs": [],
      "source": [
        "class AdaGrad:\n",
        "    def __init__(self, lr):\n",
        "        self.lr = lr\n",
        "        self.HW = None\n",
        "        self.HB = None\n",
        "\n",
        "    def update(self, layer):\n",
        "        if self.HW is None:\n",
        "            self.HW = np.zeros_like(layer.W)\n",
        "        if self.HB is None:\n",
        "            self.HB = np.zeros_like(layer.B)\n",
        "\n",
        "        self.HW += layer.dW ** 2\n",
        "        self.HB += layer.dB ** 2\n",
        "\n",
        "        delta = 1e-7\n",
        "        layer.W -= self.lr * layer.dW / (np.sqrt(self.HW) + delta)\n",
        "        layer.B -= self.lr * layer.dB / (np.sqrt(self.HB) + delta)\n",
        "\n",
        "        return layer\n"
      ]
    },
    {
      "cell_type": "markdown",
      "metadata": {
        "id": "aL0s4Pr-bIuV"
      },
      "source": [
        "#[Problem 8] Class completion"
      ]
    },
    {
      "cell_type": "code",
      "execution_count": 13,
      "metadata": {
        "id": "B4COxudTdjJe"
      },
      "outputs": [],
      "source": [
        "class GetMiniBatch:\n",
        "    def __init__(self, X, y, batch_size=20, seed=0):\n",
        "        self.batch_size = batch_size\n",
        "        np.random.seed(seed)\n",
        "        shuffle_index = np.random.permutation(np.arange(X.shape[0]))\n",
        "        self._X = X[shuffle_index]\n",
        "        self._y = y[shuffle_index]\n",
        "        self._stop = np.ceil(X.shape[0] / self.batch_size).astype(np.int64)\n",
        "\n",
        "    def __len__(self):\n",
        "        return self._stop\n",
        "\n",
        "    def __getitem__(self, item):\n",
        "        p0 = item * self.batch_size\n",
        "        p1 = p0 + self.batch_size\n",
        "        return self._X[p0:p1], self._y[p0:p1]\n",
        "\n",
        "    def __iter__(self):\n",
        "        self._counter = 0\n",
        "        return self\n",
        "\n",
        "    def __next__(self):\n",
        "        if self._counter >= self._stop:\n",
        "            raise StopIteration()\n",
        "        p0 = self._counter * self.batch_size\n",
        "        p1 = p0 + self.batch_size\n",
        "        self._counter += 1\n",
        "        return self._X[p0:p1], self._y[p0:p1]"
      ]
    },
    {
      "cell_type": "code",
      "execution_count": 14,
      "metadata": {
        "id": "GXaftPWTbJN8"
      },
      "outputs": [],
      "source": [
        "class ScratchSimpleNeuralNetworkClassifier:\n",
        "    def __init__(self, verbose=False, epoch=1, initializer=None, optimizer=None, activater=None):\n",
        "        self.verbose = verbose\n",
        "        self.batch_size = 20\n",
        "        self.n_features = 784\n",
        "        self.n_nodes1 = 600\n",
        "        self.n_nodes2 = 200\n",
        "        self.n_output = 10\n",
        "        self.sigma = 0.02\n",
        "        self.lr = 0.5\n",
        "        self.epoch = epoch\n",
        "        self.initializer = initializer\n",
        "        self.optimizer = optimizer\n",
        "        self.activater = activater\n",
        "\n",
        "    def fit(self, X, y, X_val=None, y_val=None):\n",
        "        self.loss_train = []\n",
        "        self.loss_val = []\n",
        "        optimizer = self.optimizer(self.lr)\n",
        "\n",
        "        self.FC1 = FC(self.n_features, self.n_nodes1, self.initializer(self.sigma), optimizer)\n",
        "        self.activation1 = self.activater()\n",
        "        self.FC2 = FC(self.n_nodes1, self.n_nodes2, self.initializer(self.sigma), optimizer)\n",
        "        self.activation2 = self.activater()\n",
        "        self.FC3 = FC(self.n_nodes2, self.n_output, self.initializer(self.sigma), optimizer)\n",
        "        self.activation3 = Softmax()\n",
        "\n",
        "        for i in range(self.epoch):\n",
        "            get_mini_batch = GetMiniBatch(X, y, batch_size=self.batch_size, seed=i)\n",
        "\n",
        "            for mini_x, mini_y in get_mini_batch:\n",
        "                # Forward pass\n",
        "                A1 = self.FC1.forward(mini_x)\n",
        "                Z1 = self.activation1.forward(A1)\n",
        "                A2 = self.FC2.forward(Z1)\n",
        "                Z2 = self.activation2.forward(A2)\n",
        "                A3 = self.FC3.forward(Z2)\n",
        "                Z3 = self.activation3.forward(A3)\n",
        "\n",
        "                # Compute loss and gradients\n",
        "                dA3 = self.activation3.backward(Z3, mini_y)\n",
        "                dZ2 = self.FC3.backward(dA3)\n",
        "                dA2 = self.activation2.backward(dZ2)\n",
        "                dZ1 = self.FC2.backward(dA2)\n",
        "                dA1 = self.activation1.backward(dZ1)\n",
        "                dZ0 = self.FC1.backward(dA1)\n",
        "\n",
        "                # Update weights and biases\n",
        "                self.FC1 = self.FC1.optimizer.update(self.FC1)\n",
        "                self.FC2 = self.FC2.optimizer.update(self.FC2)\n",
        "                self.FC3 = self.FC3.optimizer.update(self.FC3)\n",
        "\n",
        "            if self.verbose:\n",
        "                # Compute and store training loss\n",
        "                A1 = self.FC1.forward(X)\n",
        "                Z1 = self.activation1.forward(A1)\n",
        "                A2 = self.FC2.forward(Z1)\n",
        "                Z2 = self.activation2.forward(A2)\n",
        "                A3 = self.FC3.forward(Z2)\n",
        "                Z3 = self.activation3.forward(A3)\n",
        "                self.loss_train.append(self.activation3.backward(Z3, y)[1])\n",
        "\n",
        "            if X_val is not None and y_val is not None:\n",
        "                # Compute and store validation loss\n",
        "                A1 = self.FC1.forward(X_val)\n",
        "                Z1 = self.activation1.forward(A1)\n",
        "                A2 = self.FC2.forward(Z1)\n",
        "                Z2 = self.activation2.forward(A2)\n",
        "                A3 = self.FC3.forward(Z2)\n",
        "                Z3 = self.activation3.forward(A3)\n",
        "                self.loss_val.append(self.activation3.backward(Z3, y_val)[1])\n",
        "\n",
        "    def predict(self, X):\n",
        "        A1 = self.FC1.forward(X)\n",
        "        Z1 = self.activation1.forward(A1)\n",
        "        A2 = self.FC2.forward(Z1)\n",
        "        Z2 = self.activation2.forward(A2)\n",
        "        A3 = self.FC3.forward(Z2)\n",
        "        Z3 = self.activation3.forward(A3)\n",
        "        return np.argmax(Z3, axis=1)\n"
      ]
    },
    {
      "cell_type": "markdown",
      "metadata": {
        "id": "UMhfx6vQbg8J"
      },
      "source": [
        "#[Problem 9] Learning and estimation"
      ]
    },
    {
      "cell_type": "code",
      "execution_count": 15,
      "metadata": {
        "colab": {
          "base_uri": "https://localhost:8080/",
          "height": 747
        },
        "id": "EjlDqjO-bkeL",
        "outputId": "d501ef32-7358-41bd-f9b7-e6549bc9aa77"
      },
      "outputs": [
        {
          "name": "stderr",
          "output_type": "stream",
          "text": [
            "/usr/local/lib/python3.10/dist-packages/sklearn/preprocessing/_encoders.py:868: FutureWarning: `sparse` was renamed to `sparse_output` in version 1.2 and will be removed in 1.4. `sparse_output` is ignored unless you leave `sparse` to its default value.\n",
            "  warnings.warn(\n"
          ]
        },
        {
          "name": "stdout",
          "output_type": "stream",
          "text": [
            "Training ReLU_Xavier_SGD...\n"
          ]
        },
        {
          "name": "stderr",
          "output_type": "stream",
          "text": [
            "<ipython-input-15-f888654e0944>:101: RuntimeWarning: overflow encountered in matmul\n",
            "  self.dX = dA @ self.W.T\n",
            "<ipython-input-15-f888654e0944>:25: RuntimeWarning: invalid value encountered in multiply\n",
            "  return dZ * (self.A > 0)\n"
          ]
        },
        {
          "name": "stdout",
          "output_type": "stream",
          "text": [
            "ReLU_Xavier_SGD Accuracy: 0.0980\n",
            "Training ReLU_He_SGD...\n",
            "ReLU_He_SGD Accuracy: 0.1009\n",
            "Training Sigmoid_Xavier_SGD...\n"
          ]
        },
        {
          "name": "stderr",
          "output_type": "stream",
          "text": [
            "<ipython-input-15-f888654e0944>:30: RuntimeWarning: overflow encountered in exp\n",
            "  return 1 / (1 + np.exp(-A))\n"
          ]
        },
        {
          "name": "stdout",
          "output_type": "stream",
          "text": [
            "Sigmoid_Xavier_SGD Accuracy: 0.1009\n",
            "Training Tanh_Xavier_SGD...\n",
            "Tanh_Xavier_SGD Accuracy: 0.0892\n"
          ]
        },
        {
          "data": {
            "image/png": "[encoded data removed]",
            "text/plain": [
              "<Figure size 640x480 with 1 Axes>"
            ]
          },
          "metadata": {},
          "output_type": "display_data"
        }
      ],
      "source": [
        "import numpy as np\n",
        "import matplotlib.pyplot as plt\n",
        "from keras.datasets import mnist\n",
        "from sklearn.preprocessing import OneHotEncoder\n",
        "\n",
        "# Load and preprocess MNIST data\n",
        "(X_train, y_train), (X_test, y_test) = mnist.load_data()\n",
        "\n",
        "# Reshape and normalize data\n",
        "X_train = X_train.reshape(-1, 784).astype(np.float64) / 255\n",
        "X_test = X_test.reshape(-1, 784).astype(np.float64) / 255\n",
        "\n",
        "# One-hot encode labels\n",
        "enc = OneHotEncoder(handle_unknown='ignore', sparse=False)\n",
        "y_train_one_hot = enc.fit_transform(y_train[:, np.newaxis])\n",
        "y_test_one_hot = enc.transform(y_test[:, np.newaxis])\n",
        "\n",
        "# Define activation functions and initializers\n",
        "class ReLU:\n",
        "    def forward(self, A):\n",
        "        self.A = A\n",
        "        return np.maximum(0, A)\n",
        "\n",
        "    def backward(self, dZ):\n",
        "        return dZ * (self.A > 0)\n",
        "\n",
        "class Sigmoid:\n",
        "    def forward(self, A):\n",
        "        self.A = A\n",
        "        return 1 / (1 + np.exp(-A))\n",
        "\n",
        "    def backward(self, dZ):\n",
        "        sig = self.forward(self.A)\n",
        "        return dZ * sig * (1 - sig)\n",
        "\n",
        "class Tanh:\n",
        "    def forward(self, A):\n",
        "        self.A = A\n",
        "        return np.tanh(A)\n",
        "\n",
        "    def backward(self, dZ):\n",
        "        return dZ * (1 - np.tanh(self.A)**2)\n",
        "\n",
        "class Softmax:\n",
        "    def forward(self, A):\n",
        "        self.A = A\n",
        "        exp_scores = np.exp(A - np.max(A, axis=1, keepdims=True))\n",
        "        return exp_scores / np.sum(exp_scores, axis=1, keepdims=True)\n",
        "\n",
        "    def backward(self, Z, y):\n",
        "        m = y.shape[0]\n",
        "        dZ = Z - y\n",
        "        loss = -np.sum(y * np.log(Z + 1e-7)) / m\n",
        "        return dZ, loss\n",
        "\n",
        "class XavierInitializer:\n",
        "    def __init__(self, sigma=0.02):\n",
        "        self.sigma = sigma\n",
        "\n",
        "    def W(self, n_nodes1, n_nodes2):\n",
        "        return self.sigma * np.random.randn(n_nodes1, n_nodes2)\n",
        "\n",
        "    def B(self, n_nodes2):\n",
        "        return self.sigma * np.random.randn(1, n_nodes2)\n",
        "\n",
        "class HeInitializer:\n",
        "    def __init__(self, sigma=0.02):\n",
        "        self.sigma = sigma\n",
        "\n",
        "    def W(self, n_nodes1, n_nodes2):\n",
        "        return np.sqrt(2 / n_nodes1) * np.random.randn(n_nodes1, n_nodes2)\n",
        "\n",
        "    def B(self, n_nodes2):\n",
        "        return np.zeros((1, n_nodes2))\n",
        "\n",
        "class SGD:\n",
        "    def __init__(self, lr):\n",
        "        self.lr = lr\n",
        "\n",
        "    def update(self, layer):\n",
        "        layer.W -= self.lr * layer.dW\n",
        "        layer.B -= self.lr * layer.dB\n",
        "        return layer\n",
        "\n",
        "class FC:\n",
        "    def __init__(self, n_nodes1, n_nodes2, initializer, optimizer):\n",
        "        self.n_nodes1 = n_nodes1\n",
        "        self.n_nodes2 = n_nodes2\n",
        "        self.W = initializer.W(n_nodes1, n_nodes2)\n",
        "        self.B = initializer.B(n_nodes2)\n",
        "        self.optimizer = optimizer\n",
        "\n",
        "    def forward(self, X):\n",
        "        self.X = X\n",
        "        self.Z = X @ self.W + self.B\n",
        "        return self.Z\n",
        "\n",
        "    def backward(self, dA):\n",
        "        self.dB = np.sum(dA, axis=0, keepdims=True)\n",
        "        self.dW = self.X.T @ dA\n",
        "        self.dX = dA @ self.W.T\n",
        "        return self.dX\n",
        "\n",
        "    def update(self):\n",
        "        self.optimizer.update(self)\n",
        "        return self\n",
        "\n",
        "class ScratchSimpleNeuralNetworkClassifier:\n",
        "    def __init__(self, verbose=False, epoch=1, initializer=None, optimizer=None, activater=None):\n",
        "        self.verbose = verbose\n",
        "        self.batch_size = 20\n",
        "        self.n_features = 784\n",
        "        self.n_nodes1 = 600\n",
        "        self.n_nodes2 = 200\n",
        "        self.n_output = 10\n",
        "        self.sigma = 0.02\n",
        "        self.lr = 0.5\n",
        "        self.epoch = epoch\n",
        "        self.initializer = initializer\n",
        "        self.optimizer = optimizer\n",
        "        self.activater = activater\n",
        "\n",
        "    def fit(self, X, y, X_val=None, y_val=None):\n",
        "        self.loss_train = []\n",
        "        self.loss_val = []\n",
        "        optimizer = self.optimizer(self.lr)\n",
        "        self.FC1 = FC(self.n_features, self.n_nodes1, self.initializer(self.sigma), optimizer)\n",
        "        self.activation1 = self.activater()\n",
        "        self.FC2 = FC(self.n_nodes1, self.n_nodes2, self.initializer(self.sigma), optimizer)\n",
        "        self.activation2 = self.activater()\n",
        "        self.FC3 = FC(self.n_nodes2, self.n_output, self.initializer(self.sigma), optimizer)\n",
        "        self.activation3 = Softmax()\n",
        "\n",
        "        for i in range(self.epoch):\n",
        "            get_mini_batch = GetMiniBatch(X, y, batch_size=self.batch_size, seed=i)\n",
        "\n",
        "            for mini_x, mini_y in get_mini_batch:\n",
        "                # Forward pass\n",
        "                A1 = self.FC1.forward(mini_x)\n",
        "                Z1 = self.activation1.forward(A1)\n",
        "                A2 = self.FC2.forward(Z1)\n",
        "                Z2 = self.activation2.forward(A2)\n",
        "                A3 = self.FC3.forward(Z2)\n",
        "                Z3 = self.activation3.forward(A3)\n",
        "\n",
        "                # Compute loss and gradients\n",
        "                dA3, loss = self.activation3.backward(Z3, mini_y)\n",
        "                dZ2 = self.FC3.backward(dA3)\n",
        "                dA2 = self.activation2.backward(dZ2)\n",
        "                dZ1 = self.FC2.backward(dA2)\n",
        "                dA1 = self.activation1.backward(dZ1)\n",
        "                self.FC1.backward(dA1)\n",
        "\n",
        "                # Update weights and biases\n",
        "                self.FC1.update()\n",
        "                self.FC2.update()\n",
        "                self.FC3.update()\n",
        "\n",
        "            if self.verbose:\n",
        "                # Compute and store training loss\n",
        "                A1 = self.FC1.forward(X)\n",
        "                Z1 = self.activation1.forward(A1)\n",
        "                A2 = self.FC2.forward(Z1)\n",
        "                Z2 = self.activation2.forward(A2)\n",
        "                A3 = self.FC3.forward(Z2)\n",
        "                Z3 = self.activation3.forward(A3)\n",
        "                _, loss_train = self.activation3.backward(Z3, y)\n",
        "                self.loss_train.append(loss_train)\n",
        "\n",
        "            if X_val is not None and y_val is not None:\n",
        "                # Compute and store validation loss\n",
        "                A1 = self.FC1.forward(X_val)\n",
        "                Z1 = self.activation1.forward(A1)\n",
        "                A2 = self.FC2.forward(Z1)\n",
        "                Z2 = self.activation2.forward(A2)\n",
        "                A3 = self.FC3.forward(Z2)\n",
        "                Z3 = self.activation3.forward(A3)\n",
        "                _, loss_val = self.activation3.backward(Z3, y_val)\n",
        "                self.loss_val.append(loss_val)\n",
        "\n",
        "    def predict(self, X):\n",
        "        A1 = self.FC1.forward(X)\n",
        "        Z1 = self.activation1.forward(A1)\n",
        "        A2 = self.FC2.forward(Z1)\n",
        "        Z2 = self.activation2.forward(A2)\n",
        "        A3 = self.FC3.forward(Z2)\n",
        "        Z3 = self.activation3.forward(A3)\n",
        "        return np.argmax(Z3, axis=1)\n",
        "\n",
        "# Create and train multiple models with varying configurations\n",
        "def train_and_evaluate():\n",
        "    models = {\n",
        "        'ReLU_Xavier_SGD': ScratchSimpleNeuralNetworkClassifier(\n",
        "            verbose=True, epoch=10,\n",
        "            initializer=XavierInitializer,\n",
        "            optimizer=SGD,\n",
        "            activater=ReLU\n",
        "        ),\n",
        "        'ReLU_He_SGD': ScratchSimpleNeuralNetworkClassifier(\n",
        "            verbose=True, epoch=10,\n",
        "            initializer=HeInitializer,\n",
        "            optimizer=SGD,\n",
        "            activater=ReLU\n",
        "        ),\n",
        "        'Sigmoid_Xavier_SGD': ScratchSimpleNeuralNetworkClassifier(\n",
        "            verbose=True, epoch=10,\n",
        "            initializer=XavierInitializer,\n",
        "            optimizer=SGD,\n",
        "            activater=Sigmoid\n",
        "        ),\n",
        "        'Tanh_Xavier_SGD': ScratchSimpleNeuralNetworkClassifier(\n",
        "            verbose=True, epoch=10,\n",
        "            initializer=XavierInitializer,\n",
        "            optimizer=SGD,\n",
        "            activater=Tanh\n",
        "        )\n",
        "    }\n",
        "\n",
        "    for name, model in models.items():\n",
        "        print(f\"Training {name}...\")\n",
        "        model.fit(X_train, y_train_one_hot, X_val=X_test, y_val=y_test_one_hot)\n",
        "        predictions = model.predict(X_test)\n",
        "        accuracy = np.mean(predictions == y_test)\n",
        "        print(f\"{name} Accuracy: {accuracy:.4f}\")\n",
        "\n",
        "        # Plot loss curves\n",
        "        plt.plot(range(1, model.epoch + 1), model.loss_train, label=f'{name} Train Loss')\n",
        "        if model.loss_val:\n",
        "            plt.plot(range(1, model.epoch + 1), model.loss_val, label=f'{name} Validation Loss')\n",
        "\n",
        "    plt.xlabel('Epoch')\n",
        "    plt.ylabel('Loss')\n",
        "    plt.legend()\n",
        "    plt.show()\n",
        "\n",
        "train_and_evaluate()\n"
      ]
    }
  ],
  "metadata": {
    "colab": {
      "include_colab_link": true,
      "provenance": []
    },
    "kernelspec": {
      "display_name": "Python 3",
      "name": "python3"
    },
    "language_info": {
      "name": "python"
    }
  },
  "nbformat": 4,
  "nbformat_minor": 0
}
